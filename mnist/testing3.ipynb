{
 "cells": [
  {
   "cell_type": "code",
   "execution_count": 1,
   "outputs": [],
   "source": [
    "from omnibelt import agnostic, unspecified_argument, colorize\n",
    "import omnifig as fig\n",
    "from omnidata import framework as fm"
   ],
   "metadata": {
    "collapsed": false,
    "pycharm": {
     "name": "#%%\n"
    }
   }
  },
  {
   "cell_type": "code",
   "execution_count": 2,
   "outputs": [
    {
     "name": "stdout",
     "output_type": "stream",
     "text": [
      "Project[mnist_example](name, package, info_path, info_dir)\n",
      "\u001B[4mComponent\u001B[0m\n",
      "WARNING: not registering config dir\n"
     ]
    },
    {
     "name": "stderr",
     "output_type": "stream",
     "text": [
      "C:\\Users\\anwan\\OneDrive\\Khan\\research\\foundation\\omnilearn\\op\\datasets\\transforms.py:50: SyntaxWarning: \"is not\" with a literal. Did you mean \"!=\"?\n",
      "  if crop_loc is not 'center':\n"
     ]
    },
    {
     "name": "stdout",
     "output_type": "stream",
     "text": [
      "\u001B[92mnonlinearity\u001B[0m: omnilearn.novo.modules.\u001B[94mBasicNonlinearlity\u001B[0m (RegistryBuilder)\n",
      "\u001B[92mnonlin\u001B[0m: omnilearn.novo.modules.\u001B[94mBasicNonlinearlity\u001B[0m (RegistryBuilder)\n",
      "\u001B[92mnormalization\u001B[0m: omnilearn.novo.modules.\u001B[94mBasicNormalization\u001B[0m (RegistryBuilder)\n",
      "\u001B[92mnorm\u001B[0m: omnilearn.novo.modules.\u001B[94mBasicNormalization\u001B[0m (RegistryBuilder)\n",
      "\u001B[92mloss\u001B[0m: omnilearn.novo.modules.\u001B[94mBasicLoss\u001B[0m (Builder)\n",
      "\u001B[92mlinear\u001B[0m: omnilearn.novo.modules.\u001B[94mBasicLinear\u001B[0m (Builder)\n",
      "\u001B[92mdropout\u001B[0m: omnilearn.novo.modules.\u001B[94mBasicDropout\u001B[0m (Builder)\n",
      "\u001B[92mdense-layer\u001B[0m: omnilearn.novo.modules.\u001B[94mDenseLayer\u001B[0m (Buildable, Module)\n",
      "\u001B[92mmlp\u001B[0m: omnilearn.novo.modules.\u001B[94mMLP\u001B[0m (Buildable, Function, Sequential)\n"
     ]
    }
   ],
   "source": [
    "proj = fig.get_current_project()\n",
    "print(proj)\n",
    "print(colorize('Component', fmt='underline'))\n",
    "proj.xray('component')"
   ],
   "metadata": {
    "collapsed": false,
    "pycharm": {
     "name": "#%%\n"
    }
   }
  },
  {
   "cell_type": "code",
   "execution_count": 3,
   "outputs": [
    {
     "data": {
      "text/plain": "omnilearn.novo.modules.MLP"
     },
     "execution_count": 3,
     "metadata": {},
     "output_type": "execute_result"
    }
   ],
   "source": [
    "builder = fm.get_builder('mlp')\n",
    "builder"
   ],
   "metadata": {
    "collapsed": false,
    "pycharm": {
     "name": "#%%\n"
    }
   }
  },
  {
   "cell_type": "code",
   "execution_count": 4,
   "outputs": [
    {
     "name": "stdout",
     "output_type": "stream",
     "text": [
      "_type: mlp\n",
      "din: 10\n",
      "dout: 3\n",
      "hidden: [64, 64]\n",
      "nonlin: relu\n",
      "\n"
     ]
    }
   ],
   "source": [
    "A = fig.create_config(din=10, dout=3, hidden=[64, 64], nonlin='relu', _type='mlp')\n",
    "print(A.to_yaml())"
   ],
   "metadata": {
    "collapsed": false,
    "pycharm": {
     "name": "#%%\n"
    }
   }
  },
  {
   "cell_type": "code",
   "execution_count": null,
   "outputs": [],
   "source": [
    "# list(builder.hyperparameters())"
   ],
   "metadata": {
    "collapsed": false,
    "pycharm": {
     "name": "#%%\n"
    }
   }
  },
  {
   "cell_type": "code",
   "execution_count": null,
   "outputs": [],
   "source": [
    "# net = builder.build(din=10, dout=3, hidden=[64, 64])\n",
    "# net"
   ],
   "metadata": {
    "collapsed": false,
    "pycharm": {
     "name": "#%%\n"
    }
   }
  },
  {
   "cell_type": "code",
   "execution_count": 5,
   "outputs": [
    {
     "name": "stdout",
     "output_type": "stream",
     "text": [
      "| CREATING  type='mlp'\n",
      "| din: 10\n",
      "| hidden [list with 2 elements]\n",
      "|  > (0): 64\n",
      "|  > (1): 64\n",
      "| nonlin: 'relu'\n",
      "| norm: None (by default)\n",
      "| bias: True (by default)\n",
      "| dout: 3\n",
      "| out_nonlin: None (by default)\n",
      "| out_norm: None (by default)\n",
      "| out_bias: True (by default)\n"
     ]
    },
    {
     "data": {
      "text/plain": "MLP(\n  (0): Linear(in_features=10, out_features=64, bias=True)\n  (1): ReLU(inplace=True)\n  (2): Linear(in_features=64, out_features=64, bias=True)\n  (3): ReLU(inplace=True)\n  (4): Linear(in_features=64, out_features=3, bias=True)\n)"
     },
     "execution_count": 5,
     "metadata": {},
     "output_type": "execute_result"
    }
   ],
   "source": [
    "# net = builder.build_from_config(A)\n",
    "net = A.pull()\n",
    "net"
   ],
   "metadata": {
    "collapsed": false,
    "pycharm": {
     "name": "#%%\n"
    }
   }
  },
  {
   "cell_type": "code",
   "execution_count": null,
   "outputs": [],
   "source": [],
   "metadata": {
    "collapsed": false,
    "pycharm": {
     "name": "#%%\n"
    }
   }
  },
  {
   "cell_type": "code",
   "execution_count": null,
   "outputs": [],
   "source": [],
   "metadata": {
    "collapsed": false,
    "pycharm": {
     "name": "#%%\n"
    }
   }
  }
 ],
 "metadata": {
  "kernelspec": {
   "display_name": "Python 3",
   "language": "python",
   "name": "python3"
  },
  "language_info": {
   "codemirror_mode": {
    "name": "ipython",
    "version": 2
   },
   "file_extension": ".py",
   "mimetype": "text/x-python",
   "name": "python",
   "nbconvert_exporter": "python",
   "pygments_lexer": "ipython2",
   "version": "2.7.6"
  }
 },
 "nbformat": 4,
 "nbformat_minor": 0
}