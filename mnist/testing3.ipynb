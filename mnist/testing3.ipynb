{
 "cells": [
  {
   "cell_type": "code",
   "execution_count": 1,
   "metadata": {
    "collapsed": true,
    "pycharm": {
     "name": "#%%\n"
    }
   },
   "outputs": [],
   "source": [
    "from omnibelt import agnostic, unspecified_argument, colorize\n",
    "import omnifig as fig\n",
    "from omnidata import framework as fm"
   ]
  },
  {
   "cell_type": "code",
   "execution_count": 2,
   "outputs": [
    {
     "name": "stdout",
     "output_type": "stream",
     "text": [
      "Project[mnist_example](name, package, info_path, info_dir)\n",
      "\u001B[4mComponent\u001B[0m\n",
      "WARNING: not registering config dir\n"
     ]
    },
    {
     "name": "stderr",
     "output_type": "stream",
     "text": [
      "2022-10-19 19:13:35.090641: W tensorflow/stream_executor/platform/default/dso_loader.cc:64] Could not load dynamic library 'libcudart.so.11.0'; dlerror: libcudart.so.11.0: cannot open shared object file: No such file or directory; LD_LIBRARY_PATH: /is/ei/fleeb/miniconda3/lib/python3.8/site-packages/cv2/../../lib64:\n",
      "2022-10-19 19:13:35.090658: I tensorflow/stream_executor/cuda/cudart_stub.cc:29] Ignore above cudart dlerror if you do not have a GPU set up on your machine.\n"
     ]
    },
    {
     "name": "stdout",
     "output_type": "stream",
     "text": [
      "\u001B[92mnonlinearity\u001B[0m: omnilearn.novo.modules.\u001B[94mBasicNonlinearlity\u001B[0m (RegistryBuilder)\n",
      "\u001B[92mnonlin\u001B[0m: omnilearn.novo.modules.\u001B[94mBasicNonlinearlity\u001B[0m (RegistryBuilder)\n",
      "\u001B[92mnormalization\u001B[0m: omnilearn.novo.modules.\u001B[94mBasicNormalization\u001B[0m (RegistryBuilder)\n",
      "\u001B[92mnorm\u001B[0m: omnilearn.novo.modules.\u001B[94mBasicNormalization\u001B[0m (RegistryBuilder)\n",
      "\u001B[92mloss\u001B[0m: omnilearn.novo.modules.\u001B[94mBasicLoss\u001B[0m (Builder)\n",
      "\u001B[92mlinear\u001B[0m: omnilearn.novo.modules.\u001B[94mBasicLinear\u001B[0m (Builder)\n",
      "\u001B[92mdropout\u001B[0m: omnilearn.novo.modules.\u001B[94mBasicDropout\u001B[0m (Builder)\n",
      "\u001B[92mdense-layer\u001B[0m: omnilearn.novo.modules.\u001B[94mDenseLayer\u001B[0m (Buildable, Module)\n",
      "\u001B[92mmlp\u001B[0m: omnilearn.novo.modules.\u001B[94mMLP\u001B[0m (Buildable, Function, Sequential)\n"
     ]
    }
   ],
   "source": [
    "proj = fig.get_current_project()\n",
    "print(proj)\n",
    "print(colorize('Component', fmt='underline'))\n",
    "proj.xray('component')"
   ],
   "metadata": {
    "collapsed": false,
    "pycharm": {
     "name": "#%%\n"
    }
   }
  },
  {
   "cell_type": "code",
   "execution_count": 3,
   "outputs": [
    {
     "data": {
      "text/plain": "omnilearn.novo.modules.MLP"
     },
     "execution_count": 3,
     "metadata": {},
     "output_type": "execute_result"
    }
   ],
   "source": [
    "builder = fm.get_builder('mlp')\n",
    "builder"
   ],
   "metadata": {
    "collapsed": false,
    "pycharm": {
     "name": "#%%\n"
    }
   }
  },
  {
   "cell_type": "code",
   "execution_count": 4,
   "outputs": [],
   "source": [
    "# list(builder.hyperparameters())"
   ],
   "metadata": {
    "collapsed": false,
    "pycharm": {
     "name": "#%%\n"
    }
   }
  },
  {
   "cell_type": "code",
   "execution_count": 5,
   "outputs": [
    {
     "data": {
      "text/plain": "MLP(\n  (0): Linear(in_features=10, out_features=64, bias=True)\n  (1): ELU(alpha=1.0, inplace=True)\n  (2): Linear(in_features=64, out_features=64, bias=True)\n  (3): ELU(alpha=1.0, inplace=True)\n  (4): Linear(in_features=64, out_features=3, bias=True)\n)"
     },
     "execution_count": 5,
     "metadata": {},
     "output_type": "execute_result"
    }
   ],
   "source": [
    "net = builder.build(din=10, dout=3, hidden=[64, 64])\n",
    "net"
   ],
   "metadata": {
    "collapsed": false,
    "pycharm": {
     "name": "#%%\n"
    }
   }
  },
  {
   "cell_type": "code",
   "execution_count": null,
   "outputs": [],
   "source": [],
   "metadata": {
    "collapsed": false,
    "pycharm": {
     "name": "#%%\n"
    }
   }
  },
  {
   "cell_type": "code",
   "execution_count": 8,
   "outputs": [],
   "source": [
    "class A:\n",
    "\t@classmethod\n",
    "\tdef f(cls):\n",
    "\t\tprint('A.f')"
   ],
   "metadata": {
    "collapsed": false,
    "pycharm": {
     "name": "#%%\n"
    }
   }
  },
  {
   "cell_type": "code",
   "execution_count": 11,
   "outputs": [
    {
     "data": {
      "text/plain": "<bound method A.f of <class '__main__.A'>>"
     },
     "execution_count": 11,
     "metadata": {},
     "output_type": "execute_result"
    }
   ],
   "source": [
    "getattr(A, 'f', None)"
   ],
   "metadata": {
    "collapsed": false,
    "pycharm": {
     "name": "#%%\n"
    }
   }
  },
  {
   "cell_type": "code",
   "execution_count": 7,
   "outputs": [],
   "source": [],
   "metadata": {
    "collapsed": false,
    "pycharm": {
     "name": "#%%\n"
    }
   }
  },
  {
   "cell_type": "code",
   "execution_count": null,
   "outputs": [],
   "source": [],
   "metadata": {
    "collapsed": false,
    "pycharm": {
     "name": "#%%\n"
    }
   }
  },
  {
   "cell_type": "code",
   "execution_count": null,
   "outputs": [],
   "source": [],
   "metadata": {
    "collapsed": false,
    "pycharm": {
     "name": "#%%\n"
    }
   }
  }
 ],
 "metadata": {
  "kernelspec": {
   "display_name": "Python 3",
   "language": "python",
   "name": "python3"
  },
  "language_info": {
   "codemirror_mode": {
    "name": "ipython",
    "version": 2
   },
   "file_extension": ".py",
   "mimetype": "text/x-python",
   "name": "python",
   "nbconvert_exporter": "python",
   "pygments_lexer": "ipython2",
   "version": "2.7.6"
  }
 },
 "nbformat": 4,
 "nbformat_minor": 0
}