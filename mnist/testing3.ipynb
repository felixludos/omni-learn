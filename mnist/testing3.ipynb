<<<<<<< HEAD
{
 "cells": [
  {
   "cell_type": "code",
   "execution_count": 1,
   "outputs": [],
   "source": [
    "from omnibelt import agnostic, unspecified_argument, colorize\n",
    "import omnifig as fig\n",
    "from omnidata import framework as fm"
   ],
   "metadata": {
    "collapsed": false,
    "pycharm": {
     "name": "#%%\n"
    }
   }
  },
  {
   "cell_type": "code",
   "execution_count": 2,
   "outputs": [
    {
     "name": "stdout",
     "output_type": "stream",
     "text": [
      "Project[mnist_example](name, package, info_path, info_dir)\n",
      "\u001B[4mComponent\u001B[0m\n",
      "WARNING: not registering config dir\n",
      "\u001B[92mnonlinearity\u001B[0m: omnilearn.novo.modules.\u001B[94mBasicNonlinearlity\u001B[0m (RegistryBuilder)\n",
      "\u001B[92mnonlin\u001B[0m: omnilearn.novo.modules.\u001B[94mBasicNonlinearlity\u001B[0m (RegistryBuilder)\n",
      "\u001B[92mnormalization\u001B[0m: omnilearn.novo.modules.\u001B[94mBasicNormalization\u001B[0m (RegistryBuilder)\n",
      "\u001B[92mnorm\u001B[0m: omnilearn.novo.modules.\u001B[94mBasicNormalization\u001B[0m (RegistryBuilder)\n",
      "\u001B[92mloss\u001B[0m: omnilearn.novo.modules.\u001B[94mBasicLoss\u001B[0m (Builder)\n",
      "\u001B[92mreshaper\u001B[0m: omnilearn.novo.modules.\u001B[94mReshaper\u001B[0m (Buildable, Module)\n",
      "\u001B[92mlinear\u001B[0m: omnilearn.novo.modules.\u001B[94mBasicLinear\u001B[0m (Builder)\n",
      "\u001B[92mdropout\u001B[0m: omnilearn.novo.modules.\u001B[94mBasicDropout\u001B[0m (Builder)\n",
      "\u001B[92mdense-layer\u001B[0m: omnilearn.novo.modules.\u001B[94mDenseLayer\u001B[0m (Buildable, Module)\n",
      "\u001B[92mmlp\u001B[0m: omnilearn.novo.modules.\u001B[94mMLP\u001B[0m (Buildable, Function, Sequential)\n",
      "\u001B[92msgd\u001B[0m: omnilearn.novo.optim.\u001B[94mSGD\u001B[0m (PytorchOptimizer, SGD)\n",
      "\u001B[92masgd\u001B[0m: omnilearn.novo.optim.\u001B[94mASGD\u001B[0m (PytorchOptimizer, ASGD)\n",
      "\u001B[92madadelta\u001B[0m: omnilearn.novo.optim.\u001B[94mAdadelta\u001B[0m (PytorchOptimizer, Adadelta)\n",
      "\u001B[92madagrad\u001B[0m: omnilearn.novo.optim.\u001B[94mAdagrad\u001B[0m (PytorchOptimizer, Adagrad)\n",
      "\u001B[92madam\u001B[0m: omnilearn.novo.optim.\u001B[94mAdam\u001B[0m (AdamLike, Adam)\n",
      "\u001B[92madamw\u001B[0m: omnilearn.novo.optim.\u001B[94mAdamW\u001B[0m (AdamLike, AdamW)\n",
      "\u001B[92madamax\u001B[0m: omnilearn.novo.optim.\u001B[94mAdamax\u001B[0m (AdamLike, Adamax)\n",
      "\u001B[92mrmsprop\u001B[0m: omnilearn.novo.optim.\u001B[94mRMSprop\u001B[0m (PytorchOptimizer, RMSprop)\n",
      "\u001B[92mrprop\u001B[0m: omnilearn.novo.optim.\u001B[94mRprop\u001B[0m (PytorchOptimizer, Rprop)\n"
     ]
    }
   ],
   "source": [
    "proj = fig.get_current_project()\n",
    "print(proj)\n",
    "print(colorize('Component', fmt='underline'))\n",
    "proj.xray('component')"
   ],
   "metadata": {
    "collapsed": false,
    "pycharm": {
     "name": "#%%\n"
    }
   }
  },
  {
   "cell_type": "code",
   "execution_count": 3,
   "outputs": [
    {
     "data": {
      "text/plain": "omnilearn.novo.modules.MLP"
     },
     "execution_count": 3,
     "metadata": {},
     "output_type": "execute_result"
    }
   ],
   "source": [
    "builder = fm.get_builder('mlp')\n",
    "builder"
   ],
   "metadata": {
    "collapsed": false,
    "pycharm": {
     "name": "#%%\n"
    }
   }
  },
  {
   "cell_type": "code",
   "execution_count": 6,
   "outputs": [
    {
     "name": "stdout",
     "output_type": "stream",
     "text": [
      "_type: mlp\n",
      "din: 1\n",
      "dout: 2\n",
      "hidden: [64, 64]\n",
      "nonlin: relu\n",
      "\n"
     ]
    }
   ],
   "source": [
    "A = fig.create_config(din=1, dout=2, hidden=[64, 64], nonlin='relu', _type='mlp')\n",
    "print(A.to_yaml())"
   ],
   "metadata": {
    "collapsed": false,
    "pycharm": {
     "name": "#%%\n"
    }
   }
  },
  {
   "cell_type": "code",
   "execution_count": 9,
   "outputs": [
    {
     "name": "stdout",
     "output_type": "stream",
     "text": [
      "| CREATING  type='mlp'\n",
      "| din: 1\n",
      "| hidden [list with 2 elements]\n",
      "|  > (0): 64\n",
      "|  > (1): 64\n",
      "| nonlin: 'relu'\n",
      "| norm: None (by default)\n",
      "| bias: True (by default)\n",
      "| dout: 2\n",
      "| out_nonlin: None (by default)\n",
      "| out_norm: None (by default)\n",
      "| out_bias: True (by default)\n"
     ]
    },
    {
     "data": {
      "text/plain": "MLP(\n  (0): Linear(in_features=1, out_features=64, bias=True)\n  (1): ReLU(inplace=True)\n  (2): Linear(in_features=64, out_features=64, bias=True)\n  (3): ReLU(inplace=True)\n  (4): Linear(in_features=64, out_features=2, bias=True)\n)"
     },
     "execution_count": 9,
     "metadata": {},
     "output_type": "execute_result"
    }
   ],
   "source": [
    "# net = builder.build_from_config(A)\n",
    "net = A.pull()\n",
    "net"
   ],
   "metadata": {
    "collapsed": false,
    "pycharm": {
     "name": "#%%\n"
    }
   }
  },
  {
   "cell_type": "code",
   "execution_count": 12,
   "outputs": [],
   "source": [
    "f = lambda: 'something'\n",
    "assert f != 'something'\n",
    "assert f() == 'something' # parentheses \"apply\" the transform\n",
    "\t\t\t\t\t\t\t\t\t\t\t\t\t# (in this case, transforming nothing into 'something')\n",
    "g = lambda: 'something'\n",
    "assert f is not g\n",
    "assert f != g\n",
    "def h():\n",
    "\treturn 'something'\n",
    "assert f != h\n",
    "assert f() == g() == h()"
   ],
   "metadata": {
    "collapsed": false,
    "pycharm": {
     "name": "#%%\n"
    }
   }
  },
  {
   "cell_type": "code",
   "execution_count": 31,
   "outputs": [
    {
     "name": "stdout",
     "output_type": "stream",
     "text": [
      "173 ns ± 1.48 ns per loop (mean ± std. dev. of 7 runs, 10000000 loops each)\n"
     ]
    }
   ],
   "source": [
    "%%timeit\n",
    "lazy = range(100000)"
   ],
   "metadata": {
    "collapsed": false,
    "pycharm": {
     "name": "#%%\n"
    }
   }
  },
  {
   "cell_type": "code",
   "execution_count": 32,
   "outputs": [
    {
     "name": "stdout",
     "output_type": "stream",
     "text": [
      "2.73 ms ± 26.6 µs per loop (mean ± std. dev. of 7 runs, 100 loops each)\n"
     ]
    }
   ],
   "source": [
    "%%timeit\n",
    "not_lazy = [i for i in range(100000)]"
   ],
   "metadata": {
    "collapsed": false,
    "pycharm": {
     "name": "#%%\n"
    }
   }
  },
  {
   "cell_type": "code",
   "execution_count": 29,
   "outputs": [
    {
     "name": "stdout",
     "output_type": "stream",
     "text": [
      "4.38 ms ± 91.5 µs per loop (mean ± std. dev. of 7 runs, 100 loops each)\n"
     ]
    }
   ],
   "source": [
    "%%timeit\n",
    "lazy = range(100000)\n",
    "for i in lazy:\n",
    "\tout = i + 1"
   ],
   "metadata": {
    "collapsed": false,
    "pycharm": {
     "name": "#%%\n"
    }
   }
  },
  {
   "cell_type": "code",
   "execution_count": 30,
   "outputs": [
    {
     "name": "stdout",
     "output_type": "stream",
     "text": [
      "6.36 ms ± 93 µs per loop (mean ± std. dev. of 7 runs, 100 loops each)\n"
     ]
    }
   ],
   "source": [
    "%%timeit\n",
    "not_lazy = [i for i in range(100000)]\n",
    "for i in not_lazy:\n",
    "\tout = i + 1"
   ],
   "metadata": {
    "collapsed": false,
    "pycharm": {
     "name": "#%%\n"
    }
   }
  },
  {
   "cell_type": "code",
   "execution_count": 2,
   "outputs": [],
   "source": [
    "\n",
    "def take(n, gen):\n",
    "\treturn [next(gen) for _ in range(n)]\n",
    "\n",
    "def numbers():\n",
    "\tn = 2\n",
    "\twhile True: # infinite\n",
    "\t\tyield n # generator\n",
    "\t\tn += 1\n",
    "\n",
    "def sieve(counter):\n",
    "\tp = next(counter)\n",
    "\tyield p\n",
    "\tfor q in sieve(n for n in counter if n%p != 0):\n",
    "\t\tyield q"
   ],
   "metadata": {
    "collapsed": false,
    "pycharm": {
     "name": "#%%\n"
    }
   }
  },
  {
   "cell_type": "code",
   "execution_count": 3,
   "outputs": [
    {
     "data": {
      "text/plain": "2"
     },
     "execution_count": 3,
     "metadata": {},
     "output_type": "execute_result"
    }
   ],
   "source": [
    "next(numbers())"
   ],
   "metadata": {
    "collapsed": false,
    "pycharm": {
     "name": "#%%\n"
    }
   }
  },
  {
   "cell_type": "code",
   "execution_count": null,
   "outputs": [],
   "source": [],
   "metadata": {
    "collapsed": false,
    "pycharm": {
     "name": "#%%\n"
    }
   }
  },
  {
   "cell_type": "code",
   "execution_count": 6,
   "outputs": [],
   "source": [
    "def apply_n_times(f, n, x=0):\n",
    "\tassert n > 0, f'must apply {f} at least once'\n",
    "\tif n == 1:\n",
    "\t\treturn f(x)\n",
    "\treturn f(apply_n_times(f, n-1, x=x))\n",
    "\n",
    "def identity(x):\n",
    "\treturn x\n",
    "\n",
    "def add1(x):\n",
    "\treturn x + 1\n",
    "\n",
    "assert apply_n_times(identity, 100, x=1) == 1\n",
    "assert apply_n_times(add1, 10) == 10\n",
    "assert apply_n_times(lambda x: x+2, 10) == 20\n",
    "assert apply_n_times(identity, 10, x=20) == 20"
   ],
   "metadata": {
    "collapsed": false,
    "pycharm": {
     "name": "#%%\n"
    }
   }
  },
  {
   "cell_type": "code",
   "execution_count": 7,
   "outputs": [
    {
     "data": {
      "text/plain": "1"
     },
     "execution_count": 7,
     "metadata": {},
     "output_type": "execute_result"
    }
   ],
   "source": [
    "apply_n_times(identity, 100, x=1)"
   ],
   "metadata": {
    "collapsed": false,
    "pycharm": {
     "name": "#%%\n"
    }
   }
  }
 ],
 "metadata": {
  "kernelspec": {
   "display_name": "Python 3",
   "language": "python",
   "name": "python3"
  },
  "language_info": {
   "codemirror_mode": {
    "name": "ipython",
    "version": 2
   },
   "file_extension": ".py",
   "mimetype": "text/x-python",
   "name": "python",
   "nbconvert_exporter": "python",
   "pygments_lexer": "ipython2",
   "version": "2.7.6"
  }
 },
 "nbformat": 4,
 "nbformat_minor": 0
}
=======
{
 "cells": [
  {
   "cell_type": "code",
   "execution_count": 1,
   "outputs": [],
   "source": [
    "from omnibelt import agnostic, unspecified_argument, colorize\n",
    "import omnifig as fig\n",
    "from omnidata import framework as fm"
   ],
   "metadata": {
    "collapsed": false
   }
  },
  {
   "cell_type": "code",
   "execution_count": 2,
   "outputs": [
    {
     "name": "stdout",
     "output_type": "stream",
     "text": [
      "Project[mnist_example](name, package, info_path, info_dir)\n",
      "\u001B[4mComponent\u001B[0m\n",
      "WARNING: not registering config dir\n"
     ]
    },
    {
     "name": "stderr",
     "output_type": "stream",
     "text": [
      "2022-10-24 16:46:17.472857: W tensorflow/stream_executor/platform/default/dso_loader.cc:64] Could not load dynamic library 'libcudart.so.11.0'; dlerror: libcudart.so.11.0: cannot open shared object file: No such file or directory; LD_LIBRARY_PATH: /is/ei/fleeb/miniconda3/lib/python3.8/site-packages/cv2/../../lib64:\n",
      "2022-10-24 16:46:17.472920: I tensorflow/stream_executor/cuda/cudart_stub.cc:29] Ignore above cudart dlerror if you do not have a GPU set up on your machine.\n"
     ]
    },
    {
     "name": "stdout",
     "output_type": "stream",
     "text": [
      "\u001B[92mnonlinearity\u001B[0m: omnilearn.novo.modules.\u001B[94mBasicNonlinearlity\u001B[0m (RegistryBuilder)\n",
      "\u001B[92mnonlin\u001B[0m: omnilearn.novo.modules.\u001B[94mBasicNonlinearlity\u001B[0m (RegistryBuilder)\n",
      "\u001B[92mnormalization\u001B[0m: omnilearn.novo.modules.\u001B[94mBasicNormalization\u001B[0m (RegistryBuilder)\n",
      "\u001B[92mnorm\u001B[0m: omnilearn.novo.modules.\u001B[94mBasicNormalization\u001B[0m (RegistryBuilder)\n",
      "\u001B[92mloss\u001B[0m: omnilearn.novo.modules.\u001B[94mBasicLoss\u001B[0m (Builder)\n",
      "\u001B[92mreshaper\u001B[0m: omnilearn.novo.modules.\u001B[94mReshaper\u001B[0m (Buildable, Module)\n",
      "\u001B[92mlinear\u001B[0m: omnilearn.novo.modules.\u001B[94mBasicLinear\u001B[0m (Builder)\n",
      "\u001B[92mdropout\u001B[0m: omnilearn.novo.modules.\u001B[94mBasicDropout\u001B[0m (Builder)\n",
      "\u001B[92mdense-layer\u001B[0m: omnilearn.novo.modules.\u001B[94mDenseLayer\u001B[0m (Buildable, Module)\n",
      "\u001B[92mmlp\u001B[0m: omnilearn.novo.modules.\u001B[94mMLP\u001B[0m (Buildable, Function, Sequential)\n",
      "\u001B[92msgd\u001B[0m: omnilearn.novo.optim.\u001B[94mSGD\u001B[0m (PytorchOptimizer, SGD)\n",
      "\u001B[92masgd\u001B[0m: omnilearn.novo.optim.\u001B[94mASGD\u001B[0m (PytorchOptimizer, ASGD)\n",
      "\u001B[92madadelta\u001B[0m: omnilearn.novo.optim.\u001B[94mAdadelta\u001B[0m (PytorchOptimizer, Adadelta)\n",
      "\u001B[92madagrad\u001B[0m: omnilearn.novo.optim.\u001B[94mAdagrad\u001B[0m (PytorchOptimizer, Adagrad)\n",
      "\u001B[92madam\u001B[0m: omnilearn.novo.optim.\u001B[94mAdam\u001B[0m (AdamLike, Adam)\n",
      "\u001B[92madamw\u001B[0m: omnilearn.novo.optim.\u001B[94mAdamW\u001B[0m (AdamLike, AdamW)\n",
      "\u001B[92madamax\u001B[0m: omnilearn.novo.optim.\u001B[94mAdamax\u001B[0m (AdamLike, Adamax)\n",
      "\u001B[92mrmsprop\u001B[0m: omnilearn.novo.optim.\u001B[94mRMSprop\u001B[0m (PytorchOptimizer, RMSprop)\n",
      "\u001B[92mrprop\u001B[0m: omnilearn.novo.optim.\u001B[94mRprop\u001B[0m (PytorchOptimizer, Rprop)\n"
     ]
    }
   ],
   "source": [
    "proj = fig.get_current_project()\n",
    "print(proj)\n",
    "print(colorize('Component', fmt='underline'))\n",
    "proj.xray('component')"
   ],
   "metadata": {
    "collapsed": false
   }
  },
  {
   "cell_type": "code",
   "execution_count": 3,
   "outputs": [
    {
     "data": {
      "text/plain": "omnilearn.novo.modules.MLP"
     },
     "execution_count": 3,
     "metadata": {},
     "output_type": "execute_result"
    }
   ],
   "source": [
    "builder = fm.get_builder('mlp')\n",
    "builder"
   ],
   "metadata": {
    "collapsed": false
   }
  },
  {
   "cell_type": "code",
   "execution_count": 4,
   "outputs": [
    {
     "name": "stdout",
     "output_type": "stream",
     "text": [
      "_type: mlp\n",
      "din: 10\n",
      "dout: 3\n",
      "hidden: [64, 64]\n",
      "nonlin: relu\n",
      "\n"
     ]
    }
   ],
   "source": [
    "A = fig.create_config(din=10, dout=3, hidden=[64, 64], nonlin='relu', _type='mlp')\n",
    "print(A.to_yaml())"
   ],
   "metadata": {
    "collapsed": false
   }
  },
  {
   "cell_type": "code",
   "execution_count": 5,
   "outputs": [
    {
     "name": "stdout",
     "output_type": "stream",
     "text": [
      "| CREATING  type='mlp'\n",
      "| din: 10\n",
      "| hidden [list with 2 elements]\n",
      "|  > (0): 64\n",
      "|  > (1): 64\n",
      "| nonlin: 'relu'\n",
      "| norm: None (by default)\n",
      "| bias: True (by default)\n",
      "| dout: 3\n",
      "| out_nonlin: None (by default)\n",
      "| out_norm: None (by default)\n",
      "| out_bias: True (by default)\n"
     ]
    },
    {
     "data": {
      "text/plain": "MLP(\n  (0): Linear(in_features=10, out_features=64, bias=True)\n  (1): ReLU(inplace=True)\n  (2): Linear(in_features=64, out_features=64, bias=True)\n  (3): ReLU(inplace=True)\n  (4): Linear(in_features=64, out_features=3, bias=True)\n)"
     },
     "execution_count": 5,
     "metadata": {},
     "output_type": "execute_result"
    }
   ],
   "source": [
    "# net = builder.build_from_config(A)\n",
    "net = A.pull()\n",
    "net"
   ],
   "metadata": {
    "collapsed": false
   }
  },
  {
   "cell_type": "code",
   "execution_count": null,
   "outputs": [],
   "source": [],
   "metadata": {
    "collapsed": false
   }
  },
  {
   "cell_type": "code",
   "execution_count": null,
   "outputs": [],
   "source": [],
   "metadata": {
    "collapsed": false
   }
  },
  {
   "cell_type": "code",
   "execution_count": null,
   "outputs": [],
   "source": [],
   "metadata": {
    "collapsed": false
   }
  },
  {
   "cell_type": "code",
   "execution_count": null,
   "outputs": [],
   "source": [],
   "metadata": {
    "collapsed": false
   }
  }
 ],
 "metadata": {
  "kernelspec": {
   "display_name": "Python 3",
   "language": "python",
   "name": "python3"
  },
  "language_info": {
   "codemirror_mode": {
    "name": "ipython",
    "version": 2
   },
   "file_extension": ".py",
   "mimetype": "text/x-python",
   "name": "python",
   "nbconvert_exporter": "python",
   "pygments_lexer": "ipython2",
   "version": "2.7.6"
  }
 },
 "nbformat": 4,
 "nbformat_minor": 0
}
>>>>>>> bde6bd27d61360d2a167a97b66d6d5b27248d1cc
