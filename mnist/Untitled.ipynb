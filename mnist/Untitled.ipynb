{
 "cells": [
  {
   "cell_type": "code",
   "execution_count": 1,
   "metadata": {
    "scrolled": true,
    "pycharm": {
     "name": "#%%\n"
    }
   },
   "outputs": [
    {
     "name": "stdout",
     "output_type": "stream",
     "text": [
      "WARNING: failed to import Ranger optimizer\n"
     ]
    },
    {
     "name": "stderr",
     "output_type": "stream",
     "text": [
      "WARNING:omnifig.organization: A modifier blurred has already been registered in None, now overwriting\n",
      "WARNING:omnifig.organization: A component nonlin has already been registered in None, now overwriting\n",
      "WARNING:omnifig.organization: A component normalization has already been registered in None, now overwriting\n"
     ]
    },
    {
     "name": "stdout",
     "output_type": "stream",
     "text": [
      "WARNING: failed to import legacy models\n"
     ]
    }
   ],
   "source": [
    "import sys, os, time\n",
    "from pathlib import Path\n",
    "os.environ['FOUNDATION_RUN_MODE'] = 'jupyter'\n",
    "# %load_ext autoreload\n",
    "# %autoreload 2\n",
    "# %pdb\n",
    "import random\n",
    "from omnibelt import load_yaml\n",
    "import omnifig as fig\n",
    "\n",
    "import h5py as hf\n",
    "\n",
    "import torch\n",
    "import torch.nn as nn\n",
    "import torch.nn.functional as F\n",
    "import torch.distributions as distrib\n",
    "import torch.multiprocessing as mp\n",
    "import torchvision.models\n",
    "from torch.utils.data import Dataset, DataLoader\n",
    "import gym\n",
    "import inspect\n",
    "import numpy as np\n",
    "%matplotlib notebook\n",
    "#%matplotlib tk\n",
    "import matplotlib.pyplot as plt\n",
    "#plt.switch_backend('Qt5Agg') #('Qt5Agg')\n",
    "import foundation as fd\n",
    "from foundation import models\n",
    "from foundation import util\n",
    "#from foundation.util import replicate, Cloner\n",
    "np.set_printoptions(linewidth=120)\n",
    "fig.initialize()"
   ]
  },
  {
   "cell_type": "code",
   "execution_count": 2,
   "metadata": {
    "pycharm": {
     "name": "#%%\n"
    }
   },
   "outputs": [
    {
     "data": {
      "text/plain": [
       "WindowsPath('C:/Users/anwan/Documents/workspace/trained_nets')"
      ]
     },
     "execution_count": 2,
     "metadata": {},
     "output_type": "execute_result"
    }
   ],
   "source": [
    "root = Path(os.environ['FOUNDATION_SAVE_DIR'])\n",
    "root"
   ]
  },
  {
   "cell_type": "code",
   "execution_count": 3,
   "metadata": {
    "pycharm": {
     "name": "#%%\n"
    }
   },
   "outputs": [
    {
     "data": {
      "text/plain": [
       "WindowsPath('C:/Users/anwan/Documents/workspace/trained_nets/test-pycharm_201225-020804')"
      ]
     },
     "execution_count": 3,
     "metadata": {},
     "output_type": "execute_result"
    }
   ],
   "source": [
    "run_paths = list(root.glob('*'))\n",
    "run_path = random.choice(run_paths)\n",
    "run_path"
   ]
  },
  {
   "cell_type": "code",
   "execution_count": 4,
   "metadata": {
    "pycharm": {
     "name": "#%%\n"
    }
   },
   "outputs": [
    {
     "name": "stdout",
     "output_type": "stream",
     "text": [
      "| [Pushed] run._type: 'run'\n",
      "| CREATING run (type=run)\n",
      "|  > silent: False (by default)\n",
      "|  > invisible: False (by default)\n",
      "|  > path: 'C:\\\\Users\\\\anwan\\\\Documents\\\\workspace\\\\trained_nets\\\\test-pycharm_201225-020804'\n",
      "|  > [Pushed] novel: False\n",
      "|  > override: {} (by default)\n",
      "Loading Config: C:\\Users\\anwan\\Documents\\workspace\\trained_nets\\test-pycharm_201225-020804\\config.yaml\n",
      "|  > ckpt-num: None (by default)\n",
      "|  > best: False (by default)\n",
      "|  > last: True (by default)\n",
      "|  > [Pushed] dataset._load-ckpt: 'C:\\\\Users\\\\anwan\\\\Documents\\\\workspace\\\\trained_nets\\\\test-pycharm_201225-020804\\\\ckpt3910'\n",
      "|  > [Pushed] model._load-ckpt: 'C:\\\\Users\\\\anwan\\\\Documents\\\\workspace\\\\trained_nets\\\\test-pycharm_201225-020804\\\\ckpt3910'\n",
      "|  > [Pushed] records._load-ckpt: 'C:\\\\Users\\\\anwan\\\\Documents\\\\workspace\\\\trained_nets\\\\test-pycharm_201225-020804\\\\ckpt3910'\n",
      "|  > CREATING clock (type=clock)\n",
      "|  >  > CREATING .stats (type=stats-manager)\n",
      "|  >  >  > stat-collection-fmts [dict with 3 item/s]\n",
      "|  >  >  >  > (test): '{}/test'\n",
      "|  >  >  >  > (train): '{}/train'\n",
      "|  >  >  >  > (val): '{}/val'\n",
      "|  >  >  > reset-modes [list with 2 item/s]\n",
      "|  >  >  >  > (0): 'val'\n",
      "|  >  >  >  > (1): 'test'\n",
      "|  >  >  > mode: 'train' (by default)\n",
      "|  >  >  > meter-info: [<class 'omnifig.config.ConfigDict'>]\n",
      "|  >  > stats-fmt: None (by default)\n",
      "|  >  > limit: None (by default)\n",
      "|  >  > timed-fmt: 'time-{}' (by default)\n",
      "|  > CREATING records (type=records)\n",
      "|  >  > include-zero: True\n",
      "|  >  > freq: 100\n",
      "|  >  > mode: 'train' (by default)\n",
      "|  >  > .seed: 0\n",
      "|  >  > _history: None (by default)\n",
      "|  >  > CREATING .stats (type=stats-manager)\n",
      "|  >  >  > stat-collection-fmts [dict with 3 item/s]\n",
      "|  >  >  >  > (test): '{}/test'\n",
      "|  >  >  >  > (train): '{}/train'\n",
      "|  >  >  >  > (val): '{}/val'\n",
      "|  >  >  > reset-modes [list with 2 item/s]\n",
      "|  >  >  >  > (0): 'val'\n",
      "|  >  >  >  > (1): 'test'\n",
      "|  >  >  > mode: 'train' (by default)\n",
      "|  >  >  > meter-info: [<class 'omnifig.config.ConfigDict'>]\n",
      "|  >  > CREATING .logger (type=logger)\n",
      "|  >  >  > log_dir --> .path: 'C:\\\\Users\\\\anwan\\\\Documents\\\\workspace\\\\trained_nets\\\\test-pycharm_201225-020804'\n",
      "|  >  >  > tensorboard: True\n",
      "|  >  >  > txt: False (by default)\n",
      "|  >  >  > logfile: None (by default)\n",
      "|  >  >  > kwargs: {} (by default)\n",
      "|  >  > stats_format: 'json' (by default)\n",
      "|  >  > info_format: 'yaml' (by default)\n",
      "|  >  > log-smooth: True (by default)\n"
     ]
    },
    {
     "data": {
      "text/plain": [
       "RUN:test-pycharm_201225-020804"
      ]
     },
     "execution_count": 4,
     "metadata": {},
     "output_type": "execute_result"
    }
   ],
   "source": [
    "run = fig.quick_run('load-run', path=str(run_path))\n",
    "run"
   ]
  },
  {
   "cell_type": "code",
   "execution_count": null,
   "metadata": {
    "pycharm": {
     "name": "#%%\n"
    }
   },
   "outputs": [],
   "source": []
  },
  {
   "cell_type": "code",
   "execution_count": 5,
   "metadata": {
    "pycharm": {
     "name": "#%%\n"
    }
   },
   "outputs": [
    {
     "name": "stdout",
     "output_type": "stream",
     "text": [
      "| CREATING .model (type=model)\n",
      "|  > _model_mod: [] (by default)\n",
      "|  > .seed: 0\n",
      "|  > CREATING . (type=simple)\n",
      "|  >  > CREATING net (type=multilayer)\n",
      "|  >  >  > final_din --> ..din [list with 3 item/s]\n",
      "|  >  >  >  > (0): 1\n",
      "|  >  >  >  > (1): 32\n",
      "|  >  >  >  > (2): 32\n",
      "|  >  >  > final_dout --> ..dout: 10\n",
      "|  >  >  > in_order: True (by default)\n",
      "|  >  >  > force_iter: True (by default)\n",
      "|  >  >  > ITERATOR layers [list with 4 item/s]\n",
      "|  >  >  > CREATING 0 (type=conv-layer)\n",
      "|  >  >  >  > in_shape --> din: (1, 32, 32)\n",
      "|  >  >  >  > ..channels: 32\n",
      "|  >  >  >  > out_shape --> dout: None\n",
      "|  >  >  >  > ..down: 2\n",
      "|  >  >  >  > pool: None (by default)\n",
      "|  >  >  >  > kernel_size --> kernel: (3, 3) (by default)\n",
      "|  >  >  >  > padding: 1 (by default)\n",
      "|  >  >  >  > dilation: (1, 1) (by default)\n",
      "|  >  >  >  > stride: (2, 2) (by default)\n",
      "|  >  >  >  > ...norm: None\n",
      "|  >  >  >  > ..nonlin: 'elu'\n",
      "|  >  >  >  > conv_kwargs: {} (by default)\n",
      "|  >  >  >  > residual: False (by default)\n",
      "|  >  >  >  > force_res: False (by default)\n",
      "|  >  >  >  > print_dims: False (by default)\n",
      "|  >  >  > CREATING .1 (type=conv-layer)\n",
      "|  >  >  >  > in_shape --> din: (32, 16, 16)\n",
      "|  >  >  >  > ..channels: 32\n",
      "|  >  >  >  > out_shape --> dout: None\n",
      "|  >  >  >  > ..down: 2\n",
      "|  >  >  >  > pool: None (by default)\n",
      "|  >  >  >  > kernel_size --> kernel: (3, 3) (by default)\n",
      "|  >  >  >  > padding: 1 (by default)\n",
      "|  >  >  >  > dilation: (1, 1) (by default)\n",
      "|  >  >  >  > stride: (2, 2) (by default)\n",
      "|  >  >  >  > ...norm: None\n",
      "|  >  >  >  > ..nonlin: 'elu'\n",
      "|  >  >  >  > conv_kwargs: {} (by default)\n",
      "|  >  >  >  > residual: False (by default)\n",
      "|  >  >  >  > force_res: False (by default)\n",
      "|  >  >  >  > print_dims: False (by default)\n",
      "|  >  >  > CREATING .2 (type=conv-layer)\n",
      "|  >  >  >  > in_shape --> din: (32, 8, 8)\n",
      "|  >  >  >  > ..channels: 32\n",
      "|  >  >  >  > out_shape --> dout: None\n",
      "|  >  >  >  > ..down: 2\n",
      "|  >  >  >  > pool: None (by default)\n",
      "|  >  >  >  > kernel_size --> kernel: (3, 3) (by default)\n",
      "|  >  >  >  > padding: 1 (by default)\n",
      "|  >  >  >  > dilation: (1, 1) (by default)\n",
      "|  >  >  >  > stride: (2, 2) (by default)\n",
      "|  >  >  >  > ...norm: None\n",
      "|  >  >  >  > ..nonlin: 'elu'\n",
      "|  >  >  >  > conv_kwargs: {} (by default)\n",
      "|  >  >  >  > residual: False (by default)\n",
      "|  >  >  >  > force_res: False (by default)\n",
      "|  >  >  >  > print_dims: False (by default)\n",
      "|  >  >  > CREATING .3 (type=conv-layer)\n",
      "|  >  >  >  > in_shape --> din: (32, 4, 4)\n",
      "|  >  >  >  > ..channels: 32\n",
      "|  >  >  >  > out_shape --> dout: None\n",
      "|  >  >  >  > ..down: 2\n",
      "|  >  >  >  > pool: None (by default)\n",
      "|  >  >  >  > kernel_size --> kernel: (3, 3) (by default)\n",
      "|  >  >  >  > padding: 1 (by default)\n",
      "|  >  >  >  > dilation: (1, 1) (by default)\n",
      "|  >  >  >  > stride: (2, 2) (by default)\n",
      "|  >  >  >  > ...norm: None\n",
      "|  >  >  >  > ..nonlin: 'elu'\n",
      "|  >  >  >  > conv_kwargs: {} (by default)\n",
      "|  >  >  >  > residual: False (by default)\n",
      "|  >  >  >  > force_res: False (by default)\n",
      "|  >  >  >  > print_dims: False (by default)\n",
      "|  >  >  > CREATING last (type=mlp)\n",
      "|  >  >  >  > input_dim --> din: (32, 2, 2)\n",
      "|  >  >  >  > output_dim --> dout: 10\n",
      "|  >  >  >  > hidden_dims --> hidden_fc --> hidden [list with 2 item/s]\n",
      "|  >  >  >  >  > (0): 64\n",
      "|  >  >  >  >  > (1): 32\n",
      "|  >  >  >  > .nonlin: 'elu'\n",
      "|  >  >  >  > output_nonlin --> out_nonlin: None (by default)\n",
      "|  >  >  >  > logify: False (by default)\n",
      "|  >  >  >  > unlogify: False (by default)\n",
      "|  >  >  >  > bias: True (by default)\n",
      "|  >  >  >  > output_bias --> out_bias: None (by default)\n",
      "|  >  > criterion: 'cross-entropy' (by default)\n",
      "|  >  > .seed: 0\n",
      "|  >  > strict_load_state: True (by default)\n",
      "|  >  > optim-metric: 'loss' (by default)\n",
      "|  >  > REUSING .stats (type=stats-manager): id=0x226a3c91288\n",
      "|  >  > stats-fmt: None (by default)\n",
      "|  >  > mode: 'train' (by default)\n",
      "|  >  > .din [list with 3 item/s]\n",
      "|  >  >  > (0): 1\n",
      "|  >  >  > (1): 32\n",
      "|  >  >  > (2): 32\n",
      "|  >  > .dout: 10\n",
      "|  >  > .device: 'cuda'\n",
      "|  > CREATING optim (type=adam)\n",
      "|  >  > lr: 0.001\n",
      "|  >  > beta1: 0.9 (by default)\n",
      "|  >  > beta2: 0.999 (by default)\n",
      "|  >  > eps: 1e-08 (by default)\n",
      "|  >  > weight_decay: 0.0001\n",
      "|  >  > amsgrad: False (by default)\n",
      "Simple_Model(\n",
      "  (net): MultiLayer(\n",
      "    (layers): ModuleList(\n",
      "      (0): ConvLayer(\n",
      "        residual=False\n",
      "        (conv): Conv2d(1, 32, kernel_size=(3, 3), stride=(2, 2), padding=(1, 1))\n",
      "        (nonlin): ELU(alpha=1.0, inplace=True)\n",
      "      )\n",
      "      (1): ConvLayer(\n",
      "        residual=False\n",
      "        (conv): Conv2d(32, 32, kernel_size=(3, 3), stride=(2, 2), padding=(1, 1))\n",
      "        (nonlin): ELU(alpha=1.0, inplace=True)\n",
      "      )\n",
      "      (2): ConvLayer(\n",
      "        residual=False\n",
      "        (conv): Conv2d(32, 32, kernel_size=(3, 3), stride=(2, 2), padding=(1, 1))\n",
      "        (nonlin): ELU(alpha=1.0, inplace=True)\n",
      "      )\n",
      "      (3): ConvLayer(\n",
      "        residual=False\n",
      "        (conv): Conv2d(32, 32, kernel_size=(3, 3), stride=(2, 2), padding=(1, 1))\n",
      "        (nonlin): ELU(alpha=1.0, inplace=True)\n",
      "      )\n",
      "      (4): MLP(\n",
      "        (0): Flatten(start_dim=1, end_dim=-1)\n",
      "        (1): Linear(in_features=128, out_features=64, bias=True)\n",
      "        (2): ELU(alpha=1.0, inplace=True)\n",
      "        (3): Linear(in_features=64, out_features=32, bias=True)\n",
      "        (4): ELU(alpha=1.0, inplace=True)\n",
      "        (5): Linear(in_features=32, out_features=10, bias=True)\n",
      "      )\n",
      "    )\n",
      "  )\n",
      "  (criterion): CrossEntropyLoss()\n",
      ")\n",
      "Adam (\n",
      "Parameter Group 0\n",
      "    amsgrad: False\n",
      "    betas: (0.9, 0.999)\n",
      "    eps: 1e-08\n",
      "    lr: 0.001\n",
      "    weight_decay: 0.0001\n",
      ")\n",
      "|  > _load-ckpt: 'C:\\\\Users\\\\anwan\\\\Documents\\\\workspace\\\\trained_nets\\\\test-pycharm_201225-020804\\\\ckpt3910'\n",
      "Loaded parameters from C:\\Users\\anwan\\Documents\\workspace\\trained_nets\\test-pycharm_201225-020804\\ckpt3910\n"
     ]
    }
   ],
   "source": [
    "model = run.get_model()"
   ]
  },
  {
   "cell_type": "code",
   "execution_count": null,
   "metadata": {
    "pycharm": {
     "name": "#%%\n"
    }
   },
   "outputs": [],
   "source": []
  },
  {
   "cell_type": "code",
   "execution_count": null,
   "metadata": {
    "pycharm": {
     "name": "#%%\n"
    }
   },
   "outputs": [],
   "source": []
  },
  {
   "cell_type": "code",
   "execution_count": 6,
   "metadata": {
    "pycharm": {
     "name": "#%%\n"
    }
   },
   "outputs": [
    {
     "name": "stdout",
     "output_type": "stream",
     "text": [
      "| CREATING .dataset (type=dataset)\n",
      "|  > [Pushed] dataroot: 'C:\\\\Users\\\\anwan\\\\Documents\\\\workspace\\\\local_data'\n",
      "|  > .num_workers: 0\n",
      "|  > batch_size: 128\n",
      "|  > shuffle: True\n",
      "|  > drop_last: False\n",
      "|  > .step_device --> .device: 'cuda'\n",
      "|  > infinite: False (by default)\n",
      "|  > extractor: None (by default)\n",
      "|  > allow_batched: True (by default)\n",
      "|  > split [dict with 1 item/s]\n",
      "|  >  > (val): 0.1666666\n",
      "|  > shuffle-split: True (by default)\n",
      "|  > split-src: 'train' (by default)\n",
      "|  > _dataset_type --> ident --> name: 'mnist'\n",
      "|  > _dataset_mod: [] (by default)\n",
      "|  > default_mode --> mode: 'train' (by default)\n",
      "|  > .seed: 0\n",
      "|  > .din [list with 3 item/s]\n",
      "|  >  > (0): 1\n",
      "|  >  > (1): 32\n",
      "|  >  > (2): 32\n",
      "|  > .dout: 10\n",
      "|  > mode: 'train'\n",
      "|  > device: 'cpu'\n",
      "|  > pin_memory: True (by default)\n",
      "|  > epoch_seed --> .seed: 0\n",
      "|  > skip_load: False (by default)\n",
      "|  > CREATING . (type=dataset/mnist)\n",
      "|  >  > dataroot: 'C:\\\\Users\\\\anwan\\\\Documents\\\\workspace\\\\local_data'\n",
      "|  >  > download: False\n",
      "|  >  > mode: 'train'\n",
      "|  >  > train: True (by default)\n",
      "|  >  > labeled: True\n",
      "|  >  > resize: True (by default)\n",
      "|  >  > device: 'cpu'\n",
      "|  >  > dataroot: 'C:\\\\Users\\\\anwan\\\\Documents\\\\workspace\\\\local_data'\n",
      "|  >  > .din [list with 3 item/s]\n",
      "|  >  >  > (0): 1\n",
      "|  >  >  > (1): 32\n",
      "|  >  >  > (2): 32\n",
      "|  >  > .dout: 10\n"
     ]
    },
    {
     "name": "stderr",
     "output_type": "stream",
     "text": [
      "C:\\Users\\anwan\\anaconda3\\lib\\site-packages\\torch\\nn\\functional.py:3063: UserWarning: Default upsampling behavior when mode=bilinear is changed to align_corners=False since 0.4.0. Please specify align_corners=True if the old behavior is desired. See the documentation of nn.Upsample for details.\n",
      "  \"See the documentation of nn.Upsample for details.\".format(mode))\n"
     ]
    },
    {
     "data": {
      "text/plain": [
       "(torch.Size([128, 1, 32, 32]), torch.Size([128]))"
      ]
     },
     "execution_count": 6,
     "metadata": {},
     "output_type": "execute_result"
    }
   ],
   "source": [
    "batch = run.get_batch()\n",
    "x,y = batch\n",
    "x.shape, y.shape"
   ]
  },
  {
   "cell_type": "code",
   "execution_count": 2,
   "metadata": {
    "pycharm": {
     "name": "#%%\n"
    }
   },
   "outputs": [],
   "source": [
    "import torch"
   ]
  },
  {
   "cell_type": "code",
   "execution_count": 3,
   "metadata": {
    "pycharm": {
     "name": "#%%\n"
    }
   },
   "outputs": [],
   "source": [
    "x = torch.randperm(int(1e7))"
   ]
  },
  {
   "cell_type": "code",
   "execution_count": 4,
   "metadata": {
    "pycharm": {
     "name": "#%%\n"
    }
   },
   "outputs": [
    {
     "data": {
      "text/plain": [
       "tensor([6237993, 7803949, 2582450,  ..., 9761691, 6007107, 8577857])"
      ]
     },
     "execution_count": 4,
     "metadata": {},
     "output_type": "execute_result"
    }
   ],
   "source": [
    "x"
   ]
  },
  {
   "cell_type": "code",
   "execution_count": null,
   "metadata": {
    "pycharm": {
     "name": "#%%\n"
    }
   },
   "outputs": [],
   "source": []
  },
  {
   "cell_type": "code",
   "execution_count": null,
   "metadata": {
    "pycharm": {
     "name": "#%%\n"
    }
   },
   "outputs": [],
   "source": []
  },
  {
   "cell_type": "code",
   "execution_count": 7,
   "metadata": {
    "pycharm": {
     "name": "#%%\n"
    }
   },
   "outputs": [
    {
     "data": {
      "text/plain": [
       "torch.Size([128])"
      ]
     },
     "execution_count": 7,
     "metadata": {},
     "output_type": "execute_result"
    }
   ],
   "source": [
    "with torch.no_grad():\n",
    "    pred = model(x)\n",
    "    guess = pred.max(-1)[1]\n",
    "guess.shape"
   ]
  },
  {
   "cell_type": "code",
   "execution_count": 11,
   "metadata": {
    "pycharm": {
     "name": "#%%\n"
    }
   },
   "outputs": [
    {
     "name": "stdout",
     "output_type": "stream",
     "text": [
      "True (16, 1, 32, 32)\n"
     ]
    },
    {
     "data": {
      "application/javascript": [
       "/* Put everything inside the global mpl namespace */\n",
       "window.mpl = {};\n",
       "\n",
       "\n",
       "mpl.get_websocket_type = function() {\n",
       "    if (typeof(WebSocket) !== 'undefined') {\n",
       "        return WebSocket;\n",
       "    } else if (typeof(MozWebSocket) !== 'undefined') {\n",
       "        return MozWebSocket;\n",
       "    } else {\n",
       "        alert('Your browser does not have WebSocket support. ' +\n",
       "              'Please try Chrome, Safari or Firefox ≥ 6. ' +\n",
       "              'Firefox 4 and 5 are also supported but you ' +\n",
       "              'have to enable WebSockets in about:config.');\n",
       "    };\n",
       "}\n",
       "\n",
       "mpl.figure = function(figure_id, websocket, ondownload, parent_element) {\n",
       "    this.id = figure_id;\n",
       "\n",
       "    this.ws = websocket;\n",
       "\n",
       "    this.supports_binary = (this.ws.binaryType != undefined);\n",
       "\n",
       "    if (!this.supports_binary) {\n",
       "        var warnings = document.getElementById(\"mpl-warnings\");\n",
       "        if (warnings) {\n",
       "            warnings.style.display = 'block';\n",
       "            warnings.textContent = (\n",
       "                \"This browser does not support binary websocket messages. \" +\n",
       "                    \"Performance may be slow.\");\n",
       "        }\n",
       "    }\n",
       "\n",
       "    this.imageObj = new Image();\n",
       "\n",
       "    this.context = undefined;\n",
       "    this.message = undefined;\n",
       "    this.canvas = undefined;\n",
       "    this.rubberband_canvas = undefined;\n",
       "    this.rubberband_context = undefined;\n",
       "    this.format_dropdown = undefined;\n",
       "\n",
       "    this.image_mode = 'full';\n",
       "\n",
       "    this.root = $('<div/>');\n",
       "    this._root_extra_style(this.root)\n",
       "    this.root.attr('style', 'display: inline-block');\n",
       "\n",
       "    $(parent_element).append(this.root);\n",
       "\n",
       "    this._init_header(this);\n",
       "    this._init_canvas(this);\n",
       "    this._init_toolbar(this);\n",
       "\n",
       "    var fig = this;\n",
       "\n",
       "    this.waiting = false;\n",
       "\n",
       "    this.ws.onopen =  function () {\n",
       "            fig.send_message(\"supports_binary\", {value: fig.supports_binary});\n",
       "            fig.send_message(\"send_image_mode\", {});\n",
       "            if (mpl.ratio != 1) {\n",
       "                fig.send_message(\"set_dpi_ratio\", {'dpi_ratio': mpl.ratio});\n",
       "            }\n",
       "            fig.send_message(\"refresh\", {});\n",
       "        }\n",
       "\n",
       "    this.imageObj.onload = function() {\n",
       "            if (fig.image_mode == 'full') {\n",
       "                // Full images could contain transparency (where diff images\n",
       "                // almost always do), so we need to clear the canvas so that\n",
       "                // there is no ghosting.\n",
       "                fig.context.clearRect(0, 0, fig.canvas.width, fig.canvas.height);\n",
       "            }\n",
       "            fig.context.drawImage(fig.imageObj, 0, 0);\n",
       "        };\n",
       "\n",
       "    this.imageObj.onunload = function() {\n",
       "        fig.ws.close();\n",
       "    }\n",
       "\n",
       "    this.ws.onmessage = this._make_on_message_function(this);\n",
       "\n",
       "    this.ondownload = ondownload;\n",
       "}\n",
       "\n",
       "mpl.figure.prototype._init_header = function() {\n",
       "    var titlebar = $(\n",
       "        '<div class=\"ui-dialog-titlebar ui-widget-header ui-corner-all ' +\n",
       "        'ui-helper-clearfix\"/>');\n",
       "    var titletext = $(\n",
       "        '<div class=\"ui-dialog-title\" style=\"width: 100%; ' +\n",
       "        'text-align: center; padding: 3px;\"/>');\n",
       "    titlebar.append(titletext)\n",
       "    this.root.append(titlebar);\n",
       "    this.header = titletext[0];\n",
       "}\n",
       "\n",
       "\n",
       "\n",
       "mpl.figure.prototype._canvas_extra_style = function(canvas_div) {\n",
       "\n",
       "}\n",
       "\n",
       "\n",
       "mpl.figure.prototype._root_extra_style = function(canvas_div) {\n",
       "\n",
       "}\n",
       "\n",
       "mpl.figure.prototype._init_canvas = function() {\n",
       "    var fig = this;\n",
       "\n",
       "    var canvas_div = $('<div/>');\n",
       "\n",
       "    canvas_div.attr('style', 'position: relative; clear: both; outline: 0');\n",
       "\n",
       "    function canvas_keyboard_event(event) {\n",
       "        return fig.key_event(event, event['data']);\n",
       "    }\n",
       "\n",
       "    canvas_div.keydown('key_press', canvas_keyboard_event);\n",
       "    canvas_div.keyup('key_release', canvas_keyboard_event);\n",
       "    this.canvas_div = canvas_div\n",
       "    this._canvas_extra_style(canvas_div)\n",
       "    this.root.append(canvas_div);\n",
       "\n",
       "    var canvas = $('<canvas/>');\n",
       "    canvas.addClass('mpl-canvas');\n",
       "    canvas.attr('style', \"left: 0; top: 0; z-index: 0; outline: 0\")\n",
       "\n",
       "    this.canvas = canvas[0];\n",
       "    this.context = canvas[0].getContext(\"2d\");\n",
       "\n",
       "    var backingStore = this.context.backingStorePixelRatio ||\n",
       "\tthis.context.webkitBackingStorePixelRatio ||\n",
       "\tthis.context.mozBackingStorePixelRatio ||\n",
       "\tthis.context.msBackingStorePixelRatio ||\n",
       "\tthis.context.oBackingStorePixelRatio ||\n",
       "\tthis.context.backingStorePixelRatio || 1;\n",
       "\n",
       "    mpl.ratio = (window.devicePixelRatio || 1) / backingStore;\n",
       "\n",
       "    var rubberband = $('<canvas/>');\n",
       "    rubberband.attr('style', \"position: absolute; left: 0; top: 0; z-index: 1;\")\n",
       "\n",
       "    var pass_mouse_events = true;\n",
       "\n",
       "    canvas_div.resizable({\n",
       "        start: function(event, ui) {\n",
       "            pass_mouse_events = false;\n",
       "        },\n",
       "        resize: function(event, ui) {\n",
       "            fig.request_resize(ui.size.width, ui.size.height);\n",
       "        },\n",
       "        stop: function(event, ui) {\n",
       "            pass_mouse_events = true;\n",
       "            fig.request_resize(ui.size.width, ui.size.height);\n",
       "        },\n",
       "    });\n",
       "\n",
       "    function mouse_event_fn(event) {\n",
       "        if (pass_mouse_events)\n",
       "            return fig.mouse_event(event, event['data']);\n",
       "    }\n",
       "\n",
       "    rubberband.mousedown('button_press', mouse_event_fn);\n",
       "    rubberband.mouseup('button_release', mouse_event_fn);\n",
       "    // Throttle sequential mouse events to 1 every 20ms.\n",
       "    rubberband.mousemove('motion_notify', mouse_event_fn);\n",
       "\n",
       "    rubberband.mouseenter('figure_enter', mouse_event_fn);\n",
       "    rubberband.mouseleave('figure_leave', mouse_event_fn);\n",
       "\n",
       "    canvas_div.on(\"wheel\", function (event) {\n",
       "        event = event.originalEvent;\n",
       "        event['data'] = 'scroll'\n",
       "        if (event.deltaY < 0) {\n",
       "            event.step = 1;\n",
       "        } else {\n",
       "            event.step = -1;\n",
       "        }\n",
       "        mouse_event_fn(event);\n",
       "    });\n",
       "\n",
       "    canvas_div.append(canvas);\n",
       "    canvas_div.append(rubberband);\n",
       "\n",
       "    this.rubberband = rubberband;\n",
       "    this.rubberband_canvas = rubberband[0];\n",
       "    this.rubberband_context = rubberband[0].getContext(\"2d\");\n",
       "    this.rubberband_context.strokeStyle = \"#000000\";\n",
       "\n",
       "    this._resize_canvas = function(width, height) {\n",
       "        // Keep the size of the canvas, canvas container, and rubber band\n",
       "        // canvas in synch.\n",
       "        canvas_div.css('width', width)\n",
       "        canvas_div.css('height', height)\n",
       "\n",
       "        canvas.attr('width', width * mpl.ratio);\n",
       "        canvas.attr('height', height * mpl.ratio);\n",
       "        canvas.attr('style', 'width: ' + width + 'px; height: ' + height + 'px;');\n",
       "\n",
       "        rubberband.attr('width', width);\n",
       "        rubberband.attr('height', height);\n",
       "    }\n",
       "\n",
       "    // Set the figure to an initial 600x600px, this will subsequently be updated\n",
       "    // upon first draw.\n",
       "    this._resize_canvas(600, 600);\n",
       "\n",
       "    // Disable right mouse context menu.\n",
       "    $(this.rubberband_canvas).bind(\"contextmenu\",function(e){\n",
       "        return false;\n",
       "    });\n",
       "\n",
       "    function set_focus () {\n",
       "        canvas.focus();\n",
       "        canvas_div.focus();\n",
       "    }\n",
       "\n",
       "    window.setTimeout(set_focus, 100);\n",
       "}\n",
       "\n",
       "mpl.figure.prototype._init_toolbar = function() {\n",
       "    var fig = this;\n",
       "\n",
       "    var nav_element = $('<div/>');\n",
       "    nav_element.attr('style', 'width: 100%');\n",
       "    this.root.append(nav_element);\n",
       "\n",
       "    // Define a callback function for later on.\n",
       "    function toolbar_event(event) {\n",
       "        return fig.toolbar_button_onclick(event['data']);\n",
       "    }\n",
       "    function toolbar_mouse_event(event) {\n",
       "        return fig.toolbar_button_onmouseover(event['data']);\n",
       "    }\n",
       "\n",
       "    for(var toolbar_ind in mpl.toolbar_items) {\n",
       "        var name = mpl.toolbar_items[toolbar_ind][0];\n",
       "        var tooltip = mpl.toolbar_items[toolbar_ind][1];\n",
       "        var image = mpl.toolbar_items[toolbar_ind][2];\n",
       "        var method_name = mpl.toolbar_items[toolbar_ind][3];\n",
       "\n",
       "        if (!name) {\n",
       "            // put a spacer in here.\n",
       "            continue;\n",
       "        }\n",
       "        var button = $('<button/>');\n",
       "        button.addClass('ui-button ui-widget ui-state-default ui-corner-all ' +\n",
       "                        'ui-button-icon-only');\n",
       "        button.attr('role', 'button');\n",
       "        button.attr('aria-disabled', 'false');\n",
       "        button.click(method_name, toolbar_event);\n",
       "        button.mouseover(tooltip, toolbar_mouse_event);\n",
       "\n",
       "        var icon_img = $('<span/>');\n",
       "        icon_img.addClass('ui-button-icon-primary ui-icon');\n",
       "        icon_img.addClass(image);\n",
       "        icon_img.addClass('ui-corner-all');\n",
       "\n",
       "        var tooltip_span = $('<span/>');\n",
       "        tooltip_span.addClass('ui-button-text');\n",
       "        tooltip_span.html(tooltip);\n",
       "\n",
       "        button.append(icon_img);\n",
       "        button.append(tooltip_span);\n",
       "\n",
       "        nav_element.append(button);\n",
       "    }\n",
       "\n",
       "    var fmt_picker_span = $('<span/>');\n",
       "\n",
       "    var fmt_picker = $('<select/>');\n",
       "    fmt_picker.addClass('mpl-toolbar-option ui-widget ui-widget-content');\n",
       "    fmt_picker_span.append(fmt_picker);\n",
       "    nav_element.append(fmt_picker_span);\n",
       "    this.format_dropdown = fmt_picker[0];\n",
       "\n",
       "    for (var ind in mpl.extensions) {\n",
       "        var fmt = mpl.extensions[ind];\n",
       "        var option = $(\n",
       "            '<option/>', {selected: fmt === mpl.default_extension}).html(fmt);\n",
       "        fmt_picker.append(option);\n",
       "    }\n",
       "\n",
       "    // Add hover states to the ui-buttons\n",
       "    $( \".ui-button\" ).hover(\n",
       "        function() { $(this).addClass(\"ui-state-hover\");},\n",
       "        function() { $(this).removeClass(\"ui-state-hover\");}\n",
       "    );\n",
       "\n",
       "    var status_bar = $('<span class=\"mpl-message\"/>');\n",
       "    nav_element.append(status_bar);\n",
       "    this.message = status_bar[0];\n",
       "}\n",
       "\n",
       "mpl.figure.prototype.request_resize = function(x_pixels, y_pixels) {\n",
       "    // Request matplotlib to resize the figure. Matplotlib will then trigger a resize in the client,\n",
       "    // which will in turn request a refresh of the image.\n",
       "    this.send_message('resize', {'width': x_pixels, 'height': y_pixels});\n",
       "}\n",
       "\n",
       "mpl.figure.prototype.send_message = function(type, properties) {\n",
       "    properties['type'] = type;\n",
       "    properties['figure_id'] = this.id;\n",
       "    this.ws.send(JSON.stringify(properties));\n",
       "}\n",
       "\n",
       "mpl.figure.prototype.send_draw_message = function() {\n",
       "    if (!this.waiting) {\n",
       "        this.waiting = true;\n",
       "        this.ws.send(JSON.stringify({type: \"draw\", figure_id: this.id}));\n",
       "    }\n",
       "}\n",
       "\n",
       "\n",
       "mpl.figure.prototype.handle_save = function(fig, msg) {\n",
       "    var format_dropdown = fig.format_dropdown;\n",
       "    var format = format_dropdown.options[format_dropdown.selectedIndex].value;\n",
       "    fig.ondownload(fig, format);\n",
       "}\n",
       "\n",
       "\n",
       "mpl.figure.prototype.handle_resize = function(fig, msg) {\n",
       "    var size = msg['size'];\n",
       "    if (size[0] != fig.canvas.width || size[1] != fig.canvas.height) {\n",
       "        fig._resize_canvas(size[0], size[1]);\n",
       "        fig.send_message(\"refresh\", {});\n",
       "    };\n",
       "}\n",
       "\n",
       "mpl.figure.prototype.handle_rubberband = function(fig, msg) {\n",
       "    var x0 = msg['x0'] / mpl.ratio;\n",
       "    var y0 = (fig.canvas.height - msg['y0']) / mpl.ratio;\n",
       "    var x1 = msg['x1'] / mpl.ratio;\n",
       "    var y1 = (fig.canvas.height - msg['y1']) / mpl.ratio;\n",
       "    x0 = Math.floor(x0) + 0.5;\n",
       "    y0 = Math.floor(y0) + 0.5;\n",
       "    x1 = Math.floor(x1) + 0.5;\n",
       "    y1 = Math.floor(y1) + 0.5;\n",
       "    var min_x = Math.min(x0, x1);\n",
       "    var min_y = Math.min(y0, y1);\n",
       "    var width = Math.abs(x1 - x0);\n",
       "    var height = Math.abs(y1 - y0);\n",
       "\n",
       "    fig.rubberband_context.clearRect(\n",
       "        0, 0, fig.canvas.width / mpl.ratio, fig.canvas.height / mpl.ratio);\n",
       "\n",
       "    fig.rubberband_context.strokeRect(min_x, min_y, width, height);\n",
       "}\n",
       "\n",
       "mpl.figure.prototype.handle_figure_label = function(fig, msg) {\n",
       "    // Updates the figure title.\n",
       "    fig.header.textContent = msg['label'];\n",
       "}\n",
       "\n",
       "mpl.figure.prototype.handle_cursor = function(fig, msg) {\n",
       "    var cursor = msg['cursor'];\n",
       "    switch(cursor)\n",
       "    {\n",
       "    case 0:\n",
       "        cursor = 'pointer';\n",
       "        break;\n",
       "    case 1:\n",
       "        cursor = 'default';\n",
       "        break;\n",
       "    case 2:\n",
       "        cursor = 'crosshair';\n",
       "        break;\n",
       "    case 3:\n",
       "        cursor = 'move';\n",
       "        break;\n",
       "    }\n",
       "    fig.rubberband_canvas.style.cursor = cursor;\n",
       "}\n",
       "\n",
       "mpl.figure.prototype.handle_message = function(fig, msg) {\n",
       "    fig.message.textContent = msg['message'];\n",
       "}\n",
       "\n",
       "mpl.figure.prototype.handle_draw = function(fig, msg) {\n",
       "    // Request the server to send over a new figure.\n",
       "    fig.send_draw_message();\n",
       "}\n",
       "\n",
       "mpl.figure.prototype.handle_image_mode = function(fig, msg) {\n",
       "    fig.image_mode = msg['mode'];\n",
       "}\n",
       "\n",
       "mpl.figure.prototype.updated_canvas_event = function() {\n",
       "    // Called whenever the canvas gets updated.\n",
       "    this.send_message(\"ack\", {});\n",
       "}\n",
       "\n",
       "// A function to construct a web socket function for onmessage handling.\n",
       "// Called in the figure constructor.\n",
       "mpl.figure.prototype._make_on_message_function = function(fig) {\n",
       "    return function socket_on_message(evt) {\n",
       "        if (evt.data instanceof Blob) {\n",
       "            /* FIXME: We get \"Resource interpreted as Image but\n",
       "             * transferred with MIME type text/plain:\" errors on\n",
       "             * Chrome.  But how to set the MIME type?  It doesn't seem\n",
       "             * to be part of the websocket stream */\n",
       "            evt.data.type = \"image/png\";\n",
       "\n",
       "            /* Free the memory for the previous frames */\n",
       "            if (fig.imageObj.src) {\n",
       "                (window.URL || window.webkitURL).revokeObjectURL(\n",
       "                    fig.imageObj.src);\n",
       "            }\n",
       "\n",
       "            fig.imageObj.src = (window.URL || window.webkitURL).createObjectURL(\n",
       "                evt.data);\n",
       "            fig.updated_canvas_event();\n",
       "            fig.waiting = false;\n",
       "            return;\n",
       "        }\n",
       "        else if (typeof evt.data === 'string' && evt.data.slice(0, 21) == \"data:image/png;base64\") {\n",
       "            fig.imageObj.src = evt.data;\n",
       "            fig.updated_canvas_event();\n",
       "            fig.waiting = false;\n",
       "            return;\n",
       "        }\n",
       "\n",
       "        var msg = JSON.parse(evt.data);\n",
       "        var msg_type = msg['type'];\n",
       "\n",
       "        // Call the  \"handle_{type}\" callback, which takes\n",
       "        // the figure and JSON message as its only arguments.\n",
       "        try {\n",
       "            var callback = fig[\"handle_\" + msg_type];\n",
       "        } catch (e) {\n",
       "            console.log(\"No handler for the '\" + msg_type + \"' message type: \", msg);\n",
       "            return;\n",
       "        }\n",
       "\n",
       "        if (callback) {\n",
       "            try {\n",
       "                // console.log(\"Handling '\" + msg_type + \"' message: \", msg);\n",
       "                callback(fig, msg);\n",
       "            } catch (e) {\n",
       "                console.log(\"Exception inside the 'handler_\" + msg_type + \"' callback:\", e, e.stack, msg);\n",
       "            }\n",
       "        }\n",
       "    };\n",
       "}\n",
       "\n",
       "// from http://stackoverflow.com/questions/1114465/getting-mouse-location-in-canvas\n",
       "mpl.findpos = function(e) {\n",
       "    //this section is from http://www.quirksmode.org/js/events_properties.html\n",
       "    var targ;\n",
       "    if (!e)\n",
       "        e = window.event;\n",
       "    if (e.target)\n",
       "        targ = e.target;\n",
       "    else if (e.srcElement)\n",
       "        targ = e.srcElement;\n",
       "    if (targ.nodeType == 3) // defeat Safari bug\n",
       "        targ = targ.parentNode;\n",
       "\n",
       "    // jQuery normalizes the pageX and pageY\n",
       "    // pageX,Y are the mouse positions relative to the document\n",
       "    // offset() returns the position of the element relative to the document\n",
       "    var x = e.pageX - $(targ).offset().left;\n",
       "    var y = e.pageY - $(targ).offset().top;\n",
       "\n",
       "    return {\"x\": x, \"y\": y};\n",
       "};\n",
       "\n",
       "/*\n",
       " * return a copy of an object with only non-object keys\n",
       " * we need this to avoid circular references\n",
       " * http://stackoverflow.com/a/24161582/3208463\n",
       " */\n",
       "function simpleKeys (original) {\n",
       "  return Object.keys(original).reduce(function (obj, key) {\n",
       "    if (typeof original[key] !== 'object')\n",
       "        obj[key] = original[key]\n",
       "    return obj;\n",
       "  }, {});\n",
       "}\n",
       "\n",
       "mpl.figure.prototype.mouse_event = function(event, name) {\n",
       "    var canvas_pos = mpl.findpos(event)\n",
       "\n",
       "    if (name === 'button_press')\n",
       "    {\n",
       "        this.canvas.focus();\n",
       "        this.canvas_div.focus();\n",
       "    }\n",
       "\n",
       "    var x = canvas_pos.x * mpl.ratio;\n",
       "    var y = canvas_pos.y * mpl.ratio;\n",
       "\n",
       "    this.send_message(name, {x: x, y: y, button: event.button,\n",
       "                             step: event.step,\n",
       "                             guiEvent: simpleKeys(event)});\n",
       "\n",
       "    /* This prevents the web browser from automatically changing to\n",
       "     * the text insertion cursor when the button is pressed.  We want\n",
       "     * to control all of the cursor setting manually through the\n",
       "     * 'cursor' event from matplotlib */\n",
       "    event.preventDefault();\n",
       "    return false;\n",
       "}\n",
       "\n",
       "mpl.figure.prototype._key_event_extra = function(event, name) {\n",
       "    // Handle any extra behaviour associated with a key event\n",
       "}\n",
       "\n",
       "mpl.figure.prototype.key_event = function(event, name) {\n",
       "\n",
       "    // Prevent repeat events\n",
       "    if (name == 'key_press')\n",
       "    {\n",
       "        if (event.which === this._key)\n",
       "            return;\n",
       "        else\n",
       "            this._key = event.which;\n",
       "    }\n",
       "    if (name == 'key_release')\n",
       "        this._key = null;\n",
       "\n",
       "    var value = '';\n",
       "    if (event.ctrlKey && event.which != 17)\n",
       "        value += \"ctrl+\";\n",
       "    if (event.altKey && event.which != 18)\n",
       "        value += \"alt+\";\n",
       "    if (event.shiftKey && event.which != 16)\n",
       "        value += \"shift+\";\n",
       "\n",
       "    value += 'k';\n",
       "    value += event.which.toString();\n",
       "\n",
       "    this._key_event_extra(event, name);\n",
       "\n",
       "    this.send_message(name, {key: value,\n",
       "                             guiEvent: simpleKeys(event)});\n",
       "    return false;\n",
       "}\n",
       "\n",
       "mpl.figure.prototype.toolbar_button_onclick = function(name) {\n",
       "    if (name == 'download') {\n",
       "        this.handle_save(this, null);\n",
       "    } else {\n",
       "        this.send_message(\"toolbar_button\", {name: name});\n",
       "    }\n",
       "};\n",
       "\n",
       "mpl.figure.prototype.toolbar_button_onmouseover = function(tooltip) {\n",
       "    this.message.textContent = tooltip;\n",
       "};\n",
       "mpl.toolbar_items = [[\"Home\", \"Reset original view\", \"fa fa-home icon-home\", \"home\"], [\"Back\", \"Back to previous view\", \"fa fa-arrow-left icon-arrow-left\", \"back\"], [\"Forward\", \"Forward to next view\", \"fa fa-arrow-right icon-arrow-right\", \"forward\"], [\"\", \"\", \"\", \"\"], [\"Pan\", \"Pan axes with left mouse, zoom with right\", \"fa fa-arrows icon-move\", \"pan\"], [\"Zoom\", \"Zoom to rectangle\", \"fa fa-square-o icon-check-empty\", \"zoom\"], [\"\", \"\", \"\", \"\"], [\"Download\", \"Download plot\", \"fa fa-floppy-o icon-save\", \"download\"]];\n",
       "\n",
       "mpl.extensions = [\"eps\", \"jpeg\", \"pdf\", \"png\", \"ps\", \"raw\", \"svg\", \"tif\"];\n",
       "\n",
       "mpl.default_extension = \"png\";var comm_websocket_adapter = function(comm) {\n",
       "    // Create a \"websocket\"-like object which calls the given IPython comm\n",
       "    // object with the appropriate methods. Currently this is a non binary\n",
       "    // socket, so there is still some room for performance tuning.\n",
       "    var ws = {};\n",
       "\n",
       "    ws.close = function() {\n",
       "        comm.close()\n",
       "    };\n",
       "    ws.send = function(m) {\n",
       "        //console.log('sending', m);\n",
       "        comm.send(m);\n",
       "    };\n",
       "    // Register the callback with on_msg.\n",
       "    comm.on_msg(function(msg) {\n",
       "        //console.log('receiving', msg['content']['data'], msg);\n",
       "        // Pass the mpl event to the overridden (by mpl) onmessage function.\n",
       "        ws.onmessage(msg['content']['data'])\n",
       "    });\n",
       "    return ws;\n",
       "}\n",
       "\n",
       "mpl.mpl_figure_comm = function(comm, msg) {\n",
       "    // This is the function which gets called when the mpl process\n",
       "    // starts-up an IPython Comm through the \"matplotlib\" channel.\n",
       "\n",
       "    var id = msg.content.data.id;\n",
       "    // Get hold of the div created by the display call when the Comm\n",
       "    // socket was opened in Python.\n",
       "    var element = $(\"#\" + id);\n",
       "    var ws_proxy = comm_websocket_adapter(comm)\n",
       "\n",
       "    function ondownload(figure, format) {\n",
       "        window.open(figure.imageObj.src);\n",
       "    }\n",
       "\n",
       "    var fig = new mpl.figure(id, ws_proxy,\n",
       "                           ondownload,\n",
       "                           element.get(0));\n",
       "\n",
       "    // Call onopen now - mpl needs it, as it is assuming we've passed it a real\n",
       "    // web socket which is closed, not our websocket->open comm proxy.\n",
       "    ws_proxy.onopen();\n",
       "\n",
       "    fig.parent_element = element.get(0);\n",
       "    fig.cell_info = mpl.find_output_cell(\"<div id='\" + id + \"'></div>\");\n",
       "    if (!fig.cell_info) {\n",
       "        console.error(\"Failed to find cell for figure\", id, fig);\n",
       "        return;\n",
       "    }\n",
       "\n",
       "    var output_index = fig.cell_info[2]\n",
       "    var cell = fig.cell_info[0];\n",
       "\n",
       "};\n",
       "\n",
       "mpl.figure.prototype.handle_close = function(fig, msg) {\n",
       "    var width = fig.canvas.width/mpl.ratio\n",
       "    fig.root.unbind('remove')\n",
       "\n",
       "    // Update the output cell to use the data from the current canvas.\n",
       "    fig.push_to_output();\n",
       "    var dataURL = fig.canvas.toDataURL();\n",
       "    // Re-enable the keyboard manager in IPython - without this line, in FF,\n",
       "    // the notebook keyboard shortcuts fail.\n",
       "    IPython.keyboard_manager.enable()\n",
       "    $(fig.parent_element).html('<img src=\"' + dataURL + '\" width=\"' + width + '\">');\n",
       "    fig.close_ws(fig, msg);\n",
       "}\n",
       "\n",
       "mpl.figure.prototype.close_ws = function(fig, msg){\n",
       "    fig.send_message('closing', msg);\n",
       "    // fig.ws.close()\n",
       "}\n",
       "\n",
       "mpl.figure.prototype.push_to_output = function(remove_interactive) {\n",
       "    // Turn the data on the canvas into data in the output cell.\n",
       "    var width = this.canvas.width/mpl.ratio\n",
       "    var dataURL = this.canvas.toDataURL();\n",
       "    this.cell_info[1]['text/html'] = '<img src=\"' + dataURL + '\" width=\"' + width + '\">';\n",
       "}\n",
       "\n",
       "mpl.figure.prototype.updated_canvas_event = function() {\n",
       "    // Tell IPython that the notebook contents must change.\n",
       "    IPython.notebook.set_dirty(true);\n",
       "    this.send_message(\"ack\", {});\n",
       "    var fig = this;\n",
       "    // Wait a second, then push the new image to the DOM so\n",
       "    // that it is saved nicely (might be nice to debounce this).\n",
       "    setTimeout(function () { fig.push_to_output() }, 1000);\n",
       "}\n",
       "\n",
       "mpl.figure.prototype._init_toolbar = function() {\n",
       "    var fig = this;\n",
       "\n",
       "    var nav_element = $('<div/>');\n",
       "    nav_element.attr('style', 'width: 100%');\n",
       "    this.root.append(nav_element);\n",
       "\n",
       "    // Define a callback function for later on.\n",
       "    function toolbar_event(event) {\n",
       "        return fig.toolbar_button_onclick(event['data']);\n",
       "    }\n",
       "    function toolbar_mouse_event(event) {\n",
       "        return fig.toolbar_button_onmouseover(event['data']);\n",
       "    }\n",
       "\n",
       "    for(var toolbar_ind in mpl.toolbar_items){\n",
       "        var name = mpl.toolbar_items[toolbar_ind][0];\n",
       "        var tooltip = mpl.toolbar_items[toolbar_ind][1];\n",
       "        var image = mpl.toolbar_items[toolbar_ind][2];\n",
       "        var method_name = mpl.toolbar_items[toolbar_ind][3];\n",
       "\n",
       "        if (!name) { continue; };\n",
       "\n",
       "        var button = $('<button class=\"btn btn-default\" href=\"#\" title=\"' + name + '\"><i class=\"fa ' + image + ' fa-lg\"></i></button>');\n",
       "        button.click(method_name, toolbar_event);\n",
       "        button.mouseover(tooltip, toolbar_mouse_event);\n",
       "        nav_element.append(button);\n",
       "    }\n",
       "\n",
       "    // Add the status bar.\n",
       "    var status_bar = $('<span class=\"mpl-message\" style=\"text-align:right; float: right;\"/>');\n",
       "    nav_element.append(status_bar);\n",
       "    this.message = status_bar[0];\n",
       "\n",
       "    // Add the close button to the window.\n",
       "    var buttongrp = $('<div class=\"btn-group inline pull-right\"></div>');\n",
       "    var button = $('<button class=\"btn btn-mini btn-primary\" href=\"#\" title=\"Stop Interaction\"><i class=\"fa fa-power-off icon-remove icon-large\"></i></button>');\n",
       "    button.click(function (evt) { fig.handle_close(fig, {}); } );\n",
       "    button.mouseover('Stop Interaction', toolbar_mouse_event);\n",
       "    buttongrp.append(button);\n",
       "    var titlebar = this.root.find($('.ui-dialog-titlebar'));\n",
       "    titlebar.prepend(buttongrp);\n",
       "}\n",
       "\n",
       "mpl.figure.prototype._root_extra_style = function(el){\n",
       "    var fig = this\n",
       "    el.on(\"remove\", function(){\n",
       "\tfig.close_ws(fig, {});\n",
       "    });\n",
       "}\n",
       "\n",
       "mpl.figure.prototype._canvas_extra_style = function(el){\n",
       "    // this is important to make the div 'focusable\n",
       "    el.attr('tabindex', 0)\n",
       "    // reach out to IPython and tell the keyboard manager to turn it's self\n",
       "    // off when our div gets focus\n",
       "\n",
       "    // location in version 3\n",
       "    if (IPython.notebook.keyboard_manager) {\n",
       "        IPython.notebook.keyboard_manager.register_events(el);\n",
       "    }\n",
       "    else {\n",
       "        // location in version 2\n",
       "        IPython.keyboard_manager.register_events(el);\n",
       "    }\n",
       "\n",
       "}\n",
       "\n",
       "mpl.figure.prototype._key_event_extra = function(event, name) {\n",
       "    var manager = IPython.notebook.keyboard_manager;\n",
       "    if (!manager)\n",
       "        manager = IPython.keyboard_manager;\n",
       "\n",
       "    // Check for shift+enter\n",
       "    if (event.shiftKey && event.which == 13) {\n",
       "        this.canvas_div.blur();\n",
       "        // select the cell after this one\n",
       "        var index = IPython.notebook.find_cell_index(this.cell_info[0]);\n",
       "        IPython.notebook.select(index + 1);\n",
       "    }\n",
       "}\n",
       "\n",
       "mpl.figure.prototype.handle_save = function(fig, msg) {\n",
       "    fig.ondownload(fig, null);\n",
       "}\n",
       "\n",
       "\n",
       "mpl.find_output_cell = function(html_output) {\n",
       "    // Return the cell and output element which can be found *uniquely* in the notebook.\n",
       "    // Note - this is a bit hacky, but it is done because the \"notebook_saving.Notebook\"\n",
       "    // IPython event is triggered only after the cells have been serialised, which for\n",
       "    // our purposes (turning an active figure into a static one), is too late.\n",
       "    var cells = IPython.notebook.get_cells();\n",
       "    var ncells = cells.length;\n",
       "    for (var i=0; i<ncells; i++) {\n",
       "        var cell = cells[i];\n",
       "        if (cell.cell_type === 'code'){\n",
       "            for (var j=0; j<cell.output_area.outputs.length; j++) {\n",
       "                var data = cell.output_area.outputs[j];\n",
       "                if (data.data) {\n",
       "                    // IPython >= 3 moved mimebundle to data attribute of output\n",
       "                    data = data.data;\n",
       "                }\n",
       "                if (data['text/html'] == html_output) {\n",
       "                    return [cell, data, j];\n",
       "                }\n",
       "            }\n",
       "        }\n",
       "    }\n",
       "}\n",
       "\n",
       "// Register the function which deals with the matplotlib target/channel.\n",
       "// The kernel may be null if the page has been refreshed.\n",
       "if (IPython.notebook.kernel != null) {\n",
       "    IPython.notebook.kernel.comm_manager.register_target('matplotlib', mpl.mpl_figure_comm);\n",
       "}\n"
      ],
      "text/plain": [
       "<IPython.core.display.Javascript object>"
      ]
     },
     "metadata": {},
     "output_type": "display_data"
    },
    {
     "data": {
      "text/html": [
       "<img src=\"data:image/png;base64,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\" width=\"480\">"
      ],
      "text/plain": [
       "<IPython.core.display.HTML object>"
      ]
     },
     "metadata": {},
     "output_type": "display_data"
    },
    {
     "data": {
      "text/plain": [
       "(<Figure size 480x480 with 16 Axes>, <numpy.flatiter at 0x2272abbc090>)"
      ]
     },
     "execution_count": 11,
     "metadata": {},
     "output_type": "execute_result"
    }
   ],
   "source": [
    "util.show_imgs(x[:16], titles=guess[:16].tolist())"
   ]
  },
  {
   "cell_type": "code",
   "execution_count": null,
   "metadata": {
    "pycharm": {
     "name": "#%%\n"
    }
   },
   "outputs": [],
   "source": []
  },
  {
   "cell_type": "code",
   "execution_count": 2,
   "metadata": {
    "pycharm": {
     "name": "#%%\n"
    }
   },
   "outputs": [
    {
     "data": {
      "text/plain": [
       "'C:\\\\Users\\\\anwan\\\\Documents\\\\workspace\\\\local_data\\\\mnist'"
      ]
     },
     "execution_count": 2,
     "metadata": {},
     "output_type": "execute_result"
    }
   ],
   "source": [
    "root = os.path.join(os.environ['FOUNDATION_DATA_DIR'], 'mnist')\n",
    "root"
   ]
  },
  {
   "cell_type": "code",
   "execution_count": 3,
   "metadata": {
    "pycharm": {
     "name": "#%%\n"
    }
   },
   "outputs": [
    {
     "data": {
      "text/plain": [
       "['fid_stats.yaml', 'MNIST']"
      ]
     },
     "execution_count": 3,
     "metadata": {},
     "output_type": "execute_result"
    }
   ],
   "source": [
    "os.listdir(root)"
   ]
  },
  {
   "cell_type": "code",
   "execution_count": 5,
   "metadata": {
    "pycharm": {
     "name": "#%%\n"
    }
   },
   "outputs": [
    {
     "data": {
      "text/plain": [
       "'C:\\\\Users\\\\anwan\\\\Documents\\\\workspace\\\\local_data\\\\mnist\\\\fid_stats.yaml'"
      ]
     },
     "execution_count": 5,
     "metadata": {},
     "output_type": "execute_result"
    }
   ],
   "source": [
    "path = os.path.join(root, 'fid_stats.yaml')\n",
    "path"
   ]
  },
  {
   "cell_type": "code",
   "execution_count": 6,
   "metadata": {
    "pycharm": {
     "name": "#%%\n"
    }
   },
   "outputs": [
    {
     "data": {
      "text/plain": [
       "1"
      ]
     },
     "execution_count": 6,
     "metadata": {},
     "output_type": "execute_result"
    }
   ],
   "source": [
    "stats = load_yaml(path)\n",
    "len(stats)"
   ]
  },
  {
   "cell_type": "code",
   "execution_count": null,
   "metadata": {
    "pycharm": {
     "name": "#%%\n"
    }
   },
   "outputs": [],
   "source": [
    "stats"
   ]
  },
  {
   "cell_type": "code",
   "execution_count": 7,
   "metadata": {
    "pycharm": {
     "name": "#%%\n"
    }
   },
   "outputs": [
    {
     "data": {
      "text/plain": [
       "dict_keys(['dim', 'mode', 'mu', 'sigma'])"
      ]
     },
     "execution_count": 7,
     "metadata": {},
     "output_type": "execute_result"
    }
   ],
   "source": [
    "stat = stats[0]\n",
    "stat.keys()"
   ]
  },
  {
   "cell_type": "code",
   "execution_count": 8,
   "metadata": {
    "pycharm": {
     "name": "#%%\n"
    }
   },
   "outputs": [
    {
     "data": {
      "text/plain": [
       "('train', 2048)"
      ]
     },
     "execution_count": 8,
     "metadata": {},
     "output_type": "execute_result"
    }
   ],
   "source": [
    "mode, dim = stat['mode'], stat['dim']\n",
    "mode, dim"
   ]
  },
  {
   "cell_type": "code",
   "execution_count": 9,
   "metadata": {
    "pycharm": {
     "name": "#%%\n"
    }
   },
   "outputs": [],
   "source": [
    "h5path = os.path.join(root, 'fid_stats.h5')"
   ]
  },
  {
   "cell_type": "code",
   "execution_count": 11,
   "metadata": {
    "pycharm": {
     "name": "#%%\n"
    }
   },
   "outputs": [],
   "source": [
    "f = hf.File(h5path, 'w')\n",
    "\n",
    "# with hf.File(h5path, 'w') as f:\n",
    "    "
   ]
  },
  {
   "cell_type": "code",
   "execution_count": 24,
   "metadata": {
    "pycharm": {
     "name": "#%%\n"
    }
   },
   "outputs": [
    {
     "data": {
      "text/plain": [
       "((2048,), (2048, 2048))"
      ]
     },
     "execution_count": 24,
     "metadata": {},
     "output_type": "execute_result"
    }
   ],
   "source": [
    "mu, sigma = np.array(stat['mu'], dtype=np.float32), np.array(stat['sigma'], dtype=np.float32)\n",
    "mu.shape, sigma.shape"
   ]
  },
  {
   "cell_type": "code",
   "execution_count": 27,
   "metadata": {
    "pycharm": {
     "name": "#%%\n"
    }
   },
   "outputs": [],
   "source": [
    "with hf.File(h5path, 'w') as f:\n",
    "    f.create_dataset(f'{mode}_{dim}_mu', data=mu)\n",
    "    f.create_dataset(f'{mode}_{dim}_sigma', data=sigma)"
   ]
  },
  {
   "cell_type": "code",
   "execution_count": 28,
   "metadata": {
    "pycharm": {
     "name": "#%%\n"
    }
   },
   "outputs": [
    {
     "data": {
      "text/plain": [
       "<KeysViewHDF5 ['train_2048_mu', 'train_2048_sigma']>"
      ]
     },
     "execution_count": 28,
     "metadata": {},
     "output_type": "execute_result"
    }
   ],
   "source": [
    "f = hf.File(h5path, 'r')\n",
    "f.keys()"
   ]
  },
  {
   "cell_type": "code",
   "execution_count": 29,
   "metadata": {
    "pycharm": {
     "name": "#%%\n"
    }
   },
   "outputs": [
    {
     "name": "stderr",
     "output_type": "stream",
     "text": [
      "C:\\Users\\anwan\\Anaconda3\\lib\\site-packages\\ipykernel_launcher.py:1: H5pyDeprecationWarning: dataset.value has been deprecated. Use dataset[()] instead.\n",
      "  \"\"\"Entry point for launching an IPython kernel.\n"
     ]
    },
    {
     "data": {
      "text/plain": [
       "(2048,)"
      ]
     },
     "execution_count": 29,
     "metadata": {},
     "output_type": "execute_result"
    }
   ],
   "source": [
    "m = f['train_2048_mu'].value\n",
    "m.shape"
   ]
  },
  {
   "cell_type": "code",
   "execution_count": 31,
   "metadata": {
    "pycharm": {
     "name": "#%%\n"
    }
   },
   "outputs": [],
   "source": [
    "x = f['train_2048_mu']"
   ]
  },
  {
   "cell_type": "code",
   "execution_count": 32,
   "metadata": {
    "pycharm": {
     "name": "#%%\n"
    }
   },
   "outputs": [
    {
     "data": {
      "text/plain": [
       "True"
      ]
     },
     "execution_count": 32,
     "metadata": {},
     "output_type": "execute_result"
    }
   ],
   "source": [
    "'train_2048_mu' in f"
   ]
  },
  {
   "cell_type": "code",
   "execution_count": null,
   "metadata": {
    "pycharm": {
     "name": "#%%\n"
    }
   },
   "outputs": [],
   "source": []
  }
 ],
 "metadata": {
  "kernelspec": {
   "display_name": "Python 3",
   "language": "python",
   "name": "python3"
  },
  "language_info": {
   "codemirror_mode": {
    "name": "ipython",
    "version": 3
   },
   "file_extension": ".py",
   "mimetype": "text/x-python",
   "name": "python",
   "nbconvert_exporter": "python",
   "pygments_lexer": "ipython3",
   "version": "3.7.6"
  }
 },
 "nbformat": 4,
 "nbformat_minor": 4
}