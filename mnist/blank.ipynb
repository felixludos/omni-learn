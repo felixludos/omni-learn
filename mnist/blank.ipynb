{
 "cells": [
  {
   "cell_type": "code",
   "execution_count": 2,
   "metadata": {
    "pycharm": {
     "is_executing": false,
     "name": "#%%\n"
    }
   },
   "outputs": [],
   "source": [
    "import sys, os, time\n",
    "os.environ['FOUNDATION_RUN_MODE'] = 'jupyter'\n",
    "# %load_ext autoreload\n",
    "# %autoreload 2\n",
    "# %pdb\n",
    "import torch\n",
    "import torch.nn as nn\n",
    "import torch.nn.functional as F\n",
    "import torch.distributions as distrib\n",
    "import torch.multiprocessing as mp\n",
    "import torchvision.models\n",
    "from torch.utils.data import Dataset, DataLoader\n",
    "import gym\n",
    "import inspect\n",
    "import numpy as np\n",
    "%matplotlib notebook\n",
    "#%matplotlib tk\n",
    "import matplotlib.pyplot as plt\n",
    "#plt.switch_backend('Qt5Agg') #('Qt5Agg')\n",
    "import foundation as fd\n",
    "from foundation import models\n",
    "from foundation import util\n",
    "from foundation import train\n",
    "#from foundation.util import replicate, Cloner\n",
    "\n",
    "import project as proj\n",
    "\n",
    "np.set_printoptions(linewidth=120)"
   ]
  },
  {
   "cell_type": "code",
   "execution_count": 4,
   "metadata": {
    "pycharm": {
     "is_executing": false,
     "name": "#%%\n"
    }
   },
   "outputs": [],
   "source": [
    "x = np.random.randn(10)\n"
   ]
  },
  {
   "cell_type": "code",
   "execution_count": 3,
   "metadata": {
    "pycharm": {
     "is_executing": false,
     "name": "#%%\n"
    }
   },
   "outputs": [
    {
     "name": "stdout",
     "output_type": "stream",
     "text": [
      "0 test-cmd_191121-223836\n",
      "1 test-cmd_191123-013853\n",
      "2 test-cmd_191123-014508\n",
      "3 test-cmd_191123-104827\n",
      "4 test-cmd_191123-105743\n",
      "5 test-cmd_191123-110022\n",
      "6 test-cmd_191123-110320\n",
      "7 test-cmd_191123-110650\n",
      "8 test-cmd_191123-110727\n",
      "9 test-cmd_191123-111846\n",
      "10 test-pycharm_191121-222639\n",
      "11 test-pycharm_191121-225857\n",
      "12 test-pycharm_191123-005824\n",
      "13 test-pycharm_191123-013319\n",
      "14 test-pycharm_191123-013427\n",
      "15 test-pycharm_191123-013626\n",
      "16 test-pycharm_191123-111037\n",
      "17 test-pycharm_191123-111801\n"
     ]
    }
   ],
   "source": [
    "root = os.environ['FOUNDATION_SAVE_DIR']\n",
    "names = [n for n in os.listdir(root) if True]\n",
    "for i, name in enumerate(names):\n",
    "    print(i,name)"
   ]
  },
  {
   "cell_type": "code",
   "execution_count": 11,
   "metadata": {
    "pycharm": {
     "name": "#%%\n"
    }
   },
   "outputs": [
    {
     "name": "stdout",
     "output_type": "stream",
     "text": [
      "Using: test-cmd_191121-223836\n"
     ]
    }
   ],
   "source": [
    "if True:\n",
    "    name = names[0]\n",
    "    path = os.path.join(root, name)\n",
    "    A = None\n",
    "    print('Using: {}'.format(name))\n",
    "else:\n",
    "    path = None\n",
    "    A = train.get_config('model')\n",
    "    print('Using: blank')"
   ]
  },
  {
   "cell_type": "code",
   "execution_count": 13,
   "metadata": {
    "scrolled": true,
    "pycharm": {
     "name": "#%%\n"
    }
   },
   "outputs": [
    {
     "name": "stdout",
     "output_type": "stream",
     "text": [
      "Found 0 checkpoints. However, a config file was found\n",
      "Loaded /mnt/c/Users/anwan/Documents/workspace/trained_nets/test-cmd_191121-223836\n",
      "Dataset mnist moved to cpu\n",
      "Dataset din=(1, 28, 28), dout=10\n",
      "input_dim is an alias for din\n",
      "input_dim default: (1, 28, 28)\n",
      "output_dim is an alias for dout\n",
      "output_dim default: 10\n",
      "nonlin default: prelu\n",
      "output_nonlin default: None\n",
      "criterion default: cross-entropy\n",
      "Model(\n",
      "  (net): Sequential(\n",
      "    (0): Flatten()\n",
      "    (1): Linear(in_features=784, out_features=300, bias=True)\n",
      "    (2): PReLU(num_parameters=1)\n",
      "    (3): Linear(in_features=300, out_features=10, bias=True)\n",
      "  )\n",
      "  (criterion): CrossEntropyLoss()\n",
      ")\n",
      "Adam (\n",
      "Parameter Group 0\n",
      "    amsgrad: False\n",
      "    betas: (0.9, 0.999)\n",
      "    eps: 1e-08\n",
      "    lr: 0.001\n",
      "    weight_decay: 0\n",
      ")\n"
     ]
    }
   ],
   "source": [
    "A, (dataset, *other), model = train.load(path=path, A=A, get_model=proj.get_model, get_data=proj.get_data)\n",
    "print(model)\n",
    "print(model.optim)"
   ]
  },
  {
   "cell_type": "code",
   "execution_count": 14,
   "metadata": {
    "pycharm": {
     "name": "#%%\n"
    }
   },
   "outputs": [],
   "source": [
    "A.dataset.batch_size = 64\n",
    "loader = iter(train.get_loaders(dataset, batch_size=A.dataset.batch_size, num_workers=A.num_workers,\n",
    "                            shuffle=True, drop_last=False, ))"
   ]
  },
  {
   "cell_type": "code",
   "execution_count": 15,
   "metadata": {
    "pycharm": {
     "name": "#%%\n"
    }
   },
   "outputs": [],
   "source": [
    "batch = next(loader)\n",
    "batch = util.to(batch, A.device)"
   ]
  },
  {
   "cell_type": "code",
   "execution_count": 16,
   "metadata": {
    "pycharm": {
     "name": "#%%\n"
    }
   },
   "outputs": [
    {
     "data": {
      "text/plain": [
       "(torch.Size([64, 1, 28, 28]), torch.Size([64]))"
      ]
     },
     "execution_count": 16,
     "metadata": {},
     "output_type": "execute_result"
    }
   ],
   "source": [
    "X, Y = batch\n",
    "X.shape, Y.shape"
   ]
  },
  {
   "cell_type": "code",
   "execution_count": null,
   "metadata": {
    "pycharm": {
     "name": "#%%\n"
    }
   },
   "outputs": [],
   "source": []
  },
  {
   "cell_type": "code",
   "execution_count": null,
   "metadata": {
    "pycharm": {
     "name": "#%%\n"
    }
   },
   "outputs": [],
   "source": []
  }
 ],
 "metadata": {
  "kernelspec": {
   "display_name": "Python 3",
   "language": "python",
   "name": "python3"
  },
  "language_info": {
   "codemirror_mode": {
    "name": "ipython",
    "version": 3
   },
   "file_extension": ".py",
   "mimetype": "text/x-python",
   "name": "python",
   "nbconvert_exporter": "python",
   "pygments_lexer": "ipython3",
   "version": "3.7.4"
  },
  "pycharm": {
   "stem_cell": {
    "cell_type": "raw",
    "metadata": {
     "collapsed": false
    },
    "source": []
   }
  }
 },
 "nbformat": 4,
 "nbformat_minor": 2
}