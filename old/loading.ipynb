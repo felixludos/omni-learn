{
 "cells": [
  {
   "cell_type": "code",
   "execution_count": 1,
   "metadata": {},
   "outputs": [],
   "source": [
    "import sys, os\n",
    "from pathlib import Path\n",
    "import yaml, json, io\n",
    "import omnifig as fig\n",
    "import h5py as hf\n",
    "from datetime import datetime\n",
    "from tqdm.notebook import tqdm\n",
    "import torch\n",
    "import omnilearn as learn\n",
    "from omnilearn import util\n",
    "\n",
    "import numpy as np\n",
    "from scipy.spatial.distance import pdist, squareform\n",
    "\n",
    "torch.set_printoptions(linewidth=120)"
   ]
  },
  {
   "cell_type": "code",
   "execution_count": 2,
   "metadata": {},
   "outputs": [],
   "source": [
    "root = Path(r'C:\\\\Users\\anwan\\Documents\\workspace\\local_data')\n",
    "# root = Path(r'C:\\\\Users\\anwan\\Documents\\workspace\\test_data')"
   ]
  },
  {
   "cell_type": "code",
   "execution_count": 4,
   "metadata": {},
   "outputs": [],
   "source": [
    "oldpath = root / 'mpi3d' / 'mpi3d_complex.h5'\n",
    "newpath = root / 'mpi3d' / 'mpi3d_complex_new.h5'"
   ]
  },
  {
   "cell_type": "code",
   "execution_count": 5,
   "metadata": {},
   "outputs": [
    {
     "data": {
      "application/vnd.jupyter.widget-view+json": {
       "model_id": "158a8b95c4a94698a3640e2c0c74e540",
       "version_major": 2,
       "version_minor": 0
      },
      "text/plain": [
       "  0%|          | 0/4 [00:00<?, ?it/s]"
      ]
     },
     "metadata": {},
     "output_type": "display_data"
    }
   ],
   "source": [
    "with hf.File(newpath, 'w') as dest:\n",
    "    with hf.File(oldpath, 'r') as src:\n",
    "        todo = tqdm(list(src.keys()))\n",
    "        for k in todo:\n",
    "            todo.set_description(k)\n",
    "            dest.create_dataset(k, data=src[k][()])"
   ]
  },
  {
   "cell_type": "code",
   "execution_count": 6,
   "metadata": {},
   "outputs": [
    {
     "data": {
      "text/plain": [
       "['test_idx', 'test_images', 'train_idx', 'train_images']"
      ]
     },
     "execution_count": 6,
     "metadata": {},
     "output_type": "execute_result"
    }
   ],
   "source": [
    "f = hf.File(newpath, 'r')\n",
    "list(f.keys())"
   ]
  },
  {
   "cell_type": "code",
   "execution_count": 7,
   "metadata": {},
   "outputs": [],
   "source": [
    "f.close()"
   ]
  },
  {
   "cell_type": "code",
   "execution_count": null,
   "metadata": {},
   "outputs": [],
   "source": []
  },
  {
   "cell_type": "code",
   "execution_count": 3,
   "metadata": {},
   "outputs": [],
   "source": [
    "cat = 'realistic'"
   ]
  },
  {
   "cell_type": "code",
   "execution_count": 34,
   "metadata": {},
   "outputs": [],
   "source": [
    "test_f = hf.File(root/'mpi3d'/f'mpi3d_{cat}_test.h5', 'r')\n",
    "train_f = hf.File(root/'mpi3d'/f'mpi3d_{cat}_train.h5', 'r')"
   ]
  },
  {
   "cell_type": "code",
   "execution_count": 35,
   "metadata": {},
   "outputs": [
    {
     "data": {
      "text/plain": [
       "(['images', 'indices'], ['images', 'indices'])"
      ]
     },
     "execution_count": 35,
     "metadata": {},
     "output_type": "execute_result"
    }
   ],
   "source": [
    "list(train_f.keys()), list(test_f.keys())"
   ]
  },
  {
   "cell_type": "code",
   "execution_count": 36,
   "metadata": {},
   "outputs": [
    {
     "data": {
      "text/plain": [
       "['test_idx', 'test_images', 'train_idx', 'train_images']"
      ]
     },
     "execution_count": 36,
     "metadata": {},
     "output_type": "execute_result"
    }
   ],
   "source": [
    "train_f.create_dataset('train_idx', data=train_f['indices'][()])\n",
    "train_f.create_dataset('train_images', data=train_f['images'][()])\n",
    "\n",
    "train_f.create_dataset('test_idx', data=test_f['indices'][()])\n",
    "train_f.create_dataset('test_images', data=test_f['images'][()])\n",
    "\n",
    "del train_f['images']\n",
    "del train_f['indices']\n",
    "\n",
    "list(train_f.keys())"
   ]
  },
  {
   "cell_type": "code",
   "execution_count": 37,
   "metadata": {},
   "outputs": [],
   "source": [
    "train_f.close()\n",
    "test_f.close()"
   ]
  },
  {
   "cell_type": "code",
   "execution_count": 38,
   "metadata": {},
   "outputs": [
    {
     "name": "stdout",
     "output_type": "stream",
     "text": [
      "[('test_idx', (207360,)), ('test_images', (207360, 64, 64, 3)), ('train_idx', (829440,)), ('train_images', (829440, 64, 64, 3))]\n"
     ]
    }
   ],
   "source": [
    "train_f = hf.File(root/'mpi3d'/f'mpi3d_{cat}_train.h5', 'r+')\n",
    "print([(k,train_f[k].shape) for k in train_f.keys()])\n",
    "train_f.close()"
   ]
  },
  {
   "cell_type": "code",
   "execution_count": null,
   "metadata": {},
   "outputs": [],
   "source": []
  },
  {
   "cell_type": "code",
   "execution_count": null,
   "metadata": {},
   "outputs": [],
   "source": []
  },
  {
   "cell_type": "code",
   "execution_count": null,
   "metadata": {},
   "outputs": [],
   "source": []
  },
  {
   "cell_type": "code",
   "execution_count": null,
   "metadata": {},
   "outputs": [],
   "source": []
  },
  {
   "cell_type": "code",
   "execution_count": 6,
   "metadata": {},
   "outputs": [],
   "source": [
    "# fig.quick_run('download-dataset', name='celeba', pbar={'_type':'progress-bar', 'display-on':'notebook'},\n",
    "#              dataroot=r'C:/Users/anwan/Documents/workspace/test_data', )"
   ]
  },
  {
   "cell_type": "code",
   "execution_count": null,
   "metadata": {},
   "outputs": [],
   "source": []
  },
  {
   "cell_type": "code",
   "execution_count": 3,
   "metadata": {},
   "outputs": [
    {
     "name": "stdout",
     "output_type": "stream",
     "text": [
      "| dataset: None (by default)\n",
      "| CREATING . (type=dataset)\n",
      "|  > num_workers: 0 (by default)\n",
      "|  > batch_size: 64 (by default)\n",
      "|  > shuffle: True (by default)\n",
      "|  > drop_last: False (by default)\n",
      "|  > step_device --> device: 'cuda' (by default)\n",
      "|  > infinite: False (by default)\n",
      "|  > extractor: None (by default)\n",
      "|  > allow_batched: True (by default)\n",
      "|  > split: {} (by default)\n",
      "|  > shuffle-split: True (by default)\n",
      "|  > split-src: 'train' (by default)\n",
      "|  > _dataset_type --> dataset-name --> name: '3dshapes'\n",
      "|  > _dataset_mod: [] (by default)\n",
      "|  > default_mode --> mode: 'train' (by default)\n",
      "|  > mode-aliases: {} (by default)\n",
      "|  > seed: 1585165814 (by default)\n",
      "|  > din: None (by default)\n",
      "|  > dout: None (by default)\n",
      "|  > device: 'cuda' (by default)\n",
      "|  > pin_memory: False (by default)\n",
      "|  > epoch_seed --> seed: 1277982287 (by default)\n",
      "|  > skip_load: False (by default)\n",
      "|  > CREATING . (type=dataset/3dshapes)\n",
      "|  >  > mode: 'train'\n",
      "|  >  > labeled: False (by default)\n",
      "|  >  > din: (3, 64, 64) (by default)\n",
      "|  >  > dout: (3, 64, 64) (by default)\n",
      "|  >  > device: 'cuda' (by default)\n",
      "|  >  > fid_ident: None (by default)\n",
      "|  >  > mode: 'train'\n",
      "|  >  > dataroot: 'C:\\\\Users\\\\anwan\\\\Documents\\\\workspace\\\\test_data'\n"
     ]
    },
    {
     "data": {
      "text/plain": [
       "384000"
      ]
     },
     "execution_count": 3,
     "metadata": {},
     "output_type": "execute_result"
    }
   ],
   "source": [
    "dataset = fig.quick_run('load-data', name='3dshapes', dataroot=str(root))\n",
    "len(dataset)"
   ]
  },
  {
   "cell_type": "code",
   "execution_count": 6,
   "metadata": {},
   "outputs": [
    {
     "data": {
      "image/png": "[encoded data removed]",
      "text/plain": [
       "<Figure size 432x288 with 24 Axes>"
      ]
     },
     "metadata": {
      "needs_background": "light"
     },
     "output_type": "display_data"
    }
   ],
   "source": [
    "X, *other = dataset[torch.randint(len(dataset), size=(24,))]\n",
    "util.show_imgs(X);"
   ]
  },
  {
   "cell_type": "code",
   "execution_count": null,
   "metadata": {},
   "outputs": [],
   "source": []
  },
  {
   "cell_type": "code",
   "execution_count": null,
   "metadata": {},
   "outputs": [],
   "source": []
  },
  {
   "cell_type": "code",
   "execution_count": null,
   "metadata": {},
   "outputs": [],
   "source": []
  },
  {
   "cell_type": "code",
   "execution_count": 3,
   "metadata": {},
   "outputs": [],
   "source": [
    "ID = '0B7EVK8r0v71pOXBhSUdJWU1MYUk'"
   ]
  },
  {
   "cell_type": "code",
   "execution_count": 4,
   "metadata": {},
   "outputs": [],
   "source": [
    "import requests\n",
    "\n",
    "def download_file_from_google_drive(id, destination):\n",
    "    URL = \"https://docs.google.com/uc?export=download\"\n",
    "\n",
    "    session = requests.Session()\n",
    "\n",
    "    response = session.get(URL, params = { 'id' : id }, stream = True)\n",
    "    token = get_confirm_token(response)\n",
    "\n",
    "    if token is None:\n",
    "        response.raise_for_status()\n",
    "    \n",
    "    if token:\n",
    "        params = { 'id' : id, 'confirm' : token }\n",
    "        response = session.get(URL, params = params, stream = True)\n",
    "\n",
    "    save_response_content(response, destination)    \n",
    "\n",
    "def get_confirm_token(response):\n",
    "    for key, value in response.cookies.items():\n",
    "        if key.startswith('download_warning'):\n",
    "            return value\n",
    "\n",
    "    return None\n",
    "\n",
    "def save_response_content(response, destination):\n",
    "    CHUNK_SIZE = 32768\n",
    "\n",
    "    with open(destination, \"wb\") as f:\n",
    "        for chunk in response.iter_content(CHUNK_SIZE):\n",
    "            if chunk: # filter out keep-alive new chunks\n",
    "                f.write(chunk)"
   ]
  },
  {
   "cell_type": "code",
   "execution_count": 5,
   "metadata": {},
   "outputs": [],
   "source": [
    "download_file_from_google_drive(ID, str(root/'test.txt'))"
   ]
  },
  {
   "cell_type": "code",
   "execution_count": null,
   "metadata": {},
   "outputs": [],
   "source": []
  },
  {
   "cell_type": "code",
   "execution_count": null,
   "metadata": {},
   "outputs": [],
   "source": []
  },
  {
   "cell_type": "code",
   "execution_count": null,
   "metadata": {},
   "outputs": [],
   "source": []
  },
  {
   "cell_type": "code",
   "execution_count": 4,
   "metadata": {},
   "outputs": [],
   "source": [
    "# fig.quick_run('download-dataset', name='celeba', pbar={'_type':'progress-bar', 'display-on':'notebook'},\n",
    "#              dataroot=r'C:/Users/anwan/Documents/workspace/test_data', )"
   ]
  },
  {
   "cell_type": "code",
   "execution_count": 6,
   "metadata": {
    "scrolled": true
   },
   "outputs": [
    {
     "ename": "HTTPError",
     "evalue": "403 Client Error: Forbidden for url: https://doc-0o-84-docs.googleusercontent.com/docs/securesc/ha0ro937gcuc7l7deffksulhg5h7mbp1/unm6hh9tmmjeror4d22bpc2jtufupsoe/1612658475000/13182073909007362810/*/0B7EVK8r0v71pOXBhSUdJWU1MYUk?e=download",
     "output_type": "error",
     "traceback": [
      "\u001B[1;31m---------------------------------------------------------------------------\u001B[0m",
      "\u001B[1;31mHTTPError\u001B[0m                                 Traceback (most recent call last)",
      "\u001B[1;32m<ipython-input-6-ff53dc1c74e9>\u001B[0m in \u001B[0;36m<module>\u001B[1;34m\u001B[0m\n\u001B[1;32m----> 1\u001B[1;33m \u001B[0mpath\u001B[0m \u001B[1;33m=\u001B[0m \u001B[0mutil\u001B[0m\u001B[1;33m.\u001B[0m\u001B[0mdownload_file_from_google_drive\u001B[0m\u001B[1;33m(\u001B[0m\u001B[0mID\u001B[0m\u001B[1;33m,\u001B[0m \u001B[0mroot\u001B[0m\u001B[1;33m,\u001B[0m \u001B[0mpbar\u001B[0m\u001B[1;33m=\u001B[0m\u001B[0mtqdm\u001B[0m\u001B[1;33m)\u001B[0m\u001B[1;33m\u001B[0m\u001B[1;33m\u001B[0m\u001B[0m\n\u001B[0m",
      "\u001B[1;32m~\\OneDrive\\Khan\\research\\foundation\\omnilearn\\util\\os.py\u001B[0m in \u001B[0;36mdownload_file_from_google_drive\u001B[1;34m(ID, out_dir, name, pbar, chunk_size)\u001B[0m\n\u001B[0;32m    137\u001B[0m \u001B[1;33m\u001B[0m\u001B[0m\n\u001B[0;32m    138\u001B[0m         \u001B[1;32mif\u001B[0m \u001B[0mtoken\u001B[0m \u001B[1;32mis\u001B[0m \u001B[1;32mNone\u001B[0m\u001B[1;33m:\u001B[0m\u001B[1;33m\u001B[0m\u001B[1;33m\u001B[0m\u001B[0m\n\u001B[1;32m--> 139\u001B[1;33m                 \u001B[0mresponse\u001B[0m\u001B[1;33m.\u001B[0m\u001B[0mraise_for_status\u001B[0m\u001B[1;33m(\u001B[0m\u001B[1;33m)\u001B[0m\u001B[1;33m\u001B[0m\u001B[1;33m\u001B[0m\u001B[0m\n\u001B[0m\u001B[0;32m    140\u001B[0m \u001B[1;33m\u001B[0m\u001B[0m\n\u001B[0;32m    141\u001B[0m         \u001B[0mparams\u001B[0m \u001B[1;33m=\u001B[0m \u001B[1;33m{\u001B[0m \u001B[1;34m'id'\u001B[0m \u001B[1;33m:\u001B[0m \u001B[0mID\u001B[0m\u001B[1;33m,\u001B[0m \u001B[1;34m'confirm'\u001B[0m \u001B[1;33m:\u001B[0m \u001B[0mtoken\u001B[0m\u001B[1;33m}\u001B[0m\u001B[1;33m\u001B[0m\u001B[1;33m\u001B[0m\u001B[0m\n",
      "\u001B[1;32m~\\Anaconda3\\lib\\site-packages\\requests\\models.py\u001B[0m in \u001B[0;36mraise_for_status\u001B[1;34m(self)\u001B[0m\n\u001B[0;32m    939\u001B[0m \u001B[1;33m\u001B[0m\u001B[0m\n\u001B[0;32m    940\u001B[0m         \u001B[1;32mif\u001B[0m \u001B[0mhttp_error_msg\u001B[0m\u001B[1;33m:\u001B[0m\u001B[1;33m\u001B[0m\u001B[1;33m\u001B[0m\u001B[0m\n\u001B[1;32m--> 941\u001B[1;33m             \u001B[1;32mraise\u001B[0m \u001B[0mHTTPError\u001B[0m\u001B[1;33m(\u001B[0m\u001B[0mhttp_error_msg\u001B[0m\u001B[1;33m,\u001B[0m \u001B[0mresponse\u001B[0m\u001B[1;33m=\u001B[0m\u001B[0mself\u001B[0m\u001B[1;33m)\u001B[0m\u001B[1;33m\u001B[0m\u001B[1;33m\u001B[0m\u001B[0m\n\u001B[0m\u001B[0;32m    942\u001B[0m \u001B[1;33m\u001B[0m\u001B[0m\n\u001B[0;32m    943\u001B[0m     \u001B[1;32mdef\u001B[0m \u001B[0mclose\u001B[0m\u001B[1;33m(\u001B[0m\u001B[0mself\u001B[0m\u001B[1;33m)\u001B[0m\u001B[1;33m:\u001B[0m\u001B[1;33m\u001B[0m\u001B[1;33m\u001B[0m\u001B[0m\n",
      "\u001B[1;31mHTTPError\u001B[0m: 403 Client Error: Forbidden for url: https://doc-0o-84-docs.googleusercontent.com/docs/securesc/ha0ro937gcuc7l7deffksulhg5h7mbp1/unm6hh9tmmjeror4d22bpc2jtufupsoe/1612658475000/13182073909007362810/*/0B7EVK8r0v71pOXBhSUdJWU1MYUk?e=download"
     ]
    }
   ],
   "source": [
    "path = util.download_file_from_google_drive(ID, root, pbar=tqdm)"
   ]
  },
  {
   "cell_type": "code",
   "execution_count": null,
   "metadata": {},
   "outputs": [],
   "source": []
  },
  {
   "cell_type": "code",
   "execution_count": 10,
   "metadata": {},
   "outputs": [],
   "source": [
    "import gdown"
   ]
  },
  {
   "cell_type": "code",
   "execution_count": 8,
   "metadata": {},
   "outputs": [],
   "source": [
    "url = 'https://drive.google.com/file/d/0B7EVK8r0v71pOXBhSUdJWU1MYUk/view?usp=sharing'"
   ]
  },
  {
   "cell_type": "code",
   "execution_count": 11,
   "metadata": {},
   "outputs": [
    {
     "name": "stderr",
     "output_type": "stream",
     "text": [
      "C:\\Users\\anwan\\Anaconda3\\lib\\site-packages\\gdown\\parse_url.py:31: UserWarning: You specified Google Drive Link but it is not the correct link to download the file. Maybe you should try: https://drive.google.com/uc?id=0B7EVK8r0v71pOXBhSUdJWU1MYUk\n",
      "  url=\"https://drive.google.com/uc?id={}\".format(file_id)\n",
      "Downloading...\n",
      "From: https://drive.google.com/file/d/0B7EVK8r0v71pOXBhSUdJWU1MYUk/view?usp=sharing\n",
      "To: C:\\Users\\anwan\\Documents\\workspace\\test_data\\test\n",
      "71.0kB [00:00, 1.03MB/s]\n"
     ]
    },
    {
     "data": {
      "text/plain": [
       "'C:\\\\Users\\\\anwan\\\\Documents\\\\workspace\\\\test_data\\\\test'"
      ]
     },
     "execution_count": 11,
     "metadata": {},
     "output_type": "execute_result"
    }
   ],
   "source": [
    "output = root / 'test'\n",
    "gdown.download(url, str(output), quiet=False)"
   ]
  },
  {
   "cell_type": "code",
   "execution_count": null,
   "metadata": {},
   "outputs": [],
   "source": []
  },
  {
   "cell_type": "code",
   "execution_count": 4,
   "metadata": {},
   "outputs": [],
   "source": [
    "out = Path(r'C:/Users/anwan/Documents/workspace/test_data/README.txt')"
   ]
  },
  {
   "cell_type": "code",
   "execution_count": 6,
   "metadata": {},
   "outputs": [
    {
     "data": {
      "text/plain": [
       "'README.txt'"
      ]
     },
     "execution_count": 6,
     "metadata": {},
     "output_type": "execute_result"
    }
   ],
   "source": [
    "out.name"
   ]
  },
  {
   "cell_type": "code",
   "execution_count": 6,
   "metadata": {},
   "outputs": [
    {
     "name": "stdout",
     "output_type": "stream",
     "text": [
      "| dataset: None (by default)\n",
      "| CREATING . (type=dataset)\n",
      "|  > num_workers: 0 (by default)\n",
      "|  > batch_size: 64 (by default)\n",
      "|  > shuffle: True (by default)\n",
      "|  > drop_last: False (by default)\n",
      "|  > step_device --> device: 'cuda' (by default)\n",
      "|  > infinite: False (by default)\n",
      "|  > extractor: None (by default)\n",
      "|  > allow_batched: True (by default)\n",
      "|  > split: {} (by default)\n",
      "|  > shuffle-split: True (by default)\n",
      "|  > split-src: 'train' (by default)\n",
      "|  > _dataset_type --> dataset-name --> name: 'celeba'\n",
      "|  > _dataset_mod: [] (by default)\n",
      "|  > default_mode --> mode: 'test'\n",
      "|  > mode-aliases: {} (by default)\n",
      "|  > seed: 1615303137 (by default)\n",
      "|  > din: None (by default)\n",
      "|  > dout: None (by default)\n",
      "|  > device: 'cuda' (by default)\n",
      "|  > pin_memory: False (by default)\n",
      "|  > epoch_seed --> seed: 3344601596 (by default)\n",
      "|  > skip_load: False (by default)\n",
      "|  > CREATING . (type=dataset/celeba)\n",
      "|  >  > crop_size: 128 (by default)\n",
      "|  >  > crop_loc: 'center' (by default)\n"
     ]
    },
    {
     "ename": "MissingParameterError",
     "evalue": "dataroot",
     "output_type": "error",
     "traceback": [
      "\u001B[1;31m---------------------------------------------------------------------------\u001B[0m",
      "\u001B[1;31mMissingParameterError\u001B[0m                     Traceback (most recent call last)",
      "\u001B[1;32m<ipython-input-6-bba990be2310>\u001B[0m in \u001B[0;36m<module>\u001B[1;34m\u001B[0m\n\u001B[1;32m----> 1\u001B[1;33m \u001B[0mdataset\u001B[0m \u001B[1;33m=\u001B[0m \u001B[0mfig\u001B[0m\u001B[1;33m.\u001B[0m\u001B[0mquick_run\u001B[0m\u001B[1;33m(\u001B[0m\u001B[1;34m'load-data'\u001B[0m\u001B[1;33m,\u001B[0m \u001B[0mname\u001B[0m\u001B[1;33m=\u001B[0m\u001B[1;34m'celeba'\u001B[0m\u001B[1;33m,\u001B[0m \u001B[0mmode\u001B[0m\u001B[1;33m=\u001B[0m\u001B[1;34m'test'\u001B[0m\u001B[1;33m)\u001B[0m\u001B[1;33m\u001B[0m\u001B[1;33m\u001B[0m\u001B[0m\n\u001B[0m\u001B[0;32m      2\u001B[0m \u001B[0mlen\u001B[0m\u001B[1;33m(\u001B[0m\u001B[0mdataset\u001B[0m\u001B[1;33m)\u001B[0m\u001B[1;33m\u001B[0m\u001B[1;33m\u001B[0m\u001B[0m\n",
      "\u001B[1;32mc:\\users\\anwan\\onedrive\\khan\\research\\omni-fig\\omnifig\\top.py\u001B[0m in \u001B[0;36mquick_run\u001B[1;34m(script_name, *parents, **args)\u001B[0m\n\u001B[0;32m     82\u001B[0m \t'''\n\u001B[0;32m     83\u001B[0m         \u001B[0mconfig\u001B[0m \u001B[1;33m=\u001B[0m \u001B[0mget_config\u001B[0m\u001B[1;33m(\u001B[0m\u001B[1;33m*\u001B[0m\u001B[0mparents\u001B[0m\u001B[1;33m,\u001B[0m \u001B[1;33m**\u001B[0m\u001B[0margs\u001B[0m\u001B[1;33m)\u001B[0m\u001B[1;33m\u001B[0m\u001B[1;33m\u001B[0m\u001B[0m\n\u001B[1;32m---> 84\u001B[1;33m         \u001B[1;32mreturn\u001B[0m \u001B[0mrun\u001B[0m\u001B[1;33m(\u001B[0m\u001B[0mscript_name\u001B[0m\u001B[1;33m,\u001B[0m \u001B[0mconfig\u001B[0m\u001B[1;33m)\u001B[0m\u001B[1;33m\u001B[0m\u001B[1;33m\u001B[0m\u001B[0m\n\u001B[0m\u001B[0;32m     85\u001B[0m \u001B[1;33m\u001B[0m\u001B[0m\n\u001B[0;32m     86\u001B[0m \u001B[1;33m\u001B[0m\u001B[0m\n",
      "\u001B[1;32mc:\\users\\anwan\\onedrive\\khan\\research\\omni-fig\\omnifig\\top.py\u001B[0m in \u001B[0;36mrun\u001B[1;34m(script_name, config, **meta)\u001B[0m\n\u001B[0;32m     68\u001B[0m \u001B[1;33m\u001B[0m\u001B[0m\n\u001B[0;32m     69\u001B[0m \u001B[1;32mdef\u001B[0m \u001B[0mrun\u001B[0m\u001B[1;33m(\u001B[0m\u001B[0mscript_name\u001B[0m\u001B[1;33m,\u001B[0m \u001B[0mconfig\u001B[0m\u001B[1;33m,\u001B[0m \u001B[1;33m**\u001B[0m\u001B[0mmeta\u001B[0m\u001B[1;33m)\u001B[0m\u001B[1;33m:\u001B[0m\u001B[1;33m\u001B[0m\u001B[1;33m\u001B[0m\u001B[0m\n\u001B[1;32m---> 70\u001B[1;33m         \u001B[1;32mreturn\u001B[0m \u001B[0mget_current_project\u001B[0m\u001B[1;33m(\u001B[0m\u001B[1;33m)\u001B[0m\u001B[1;33m.\u001B[0m\u001B[0mrun\u001B[0m\u001B[1;33m(\u001B[0m\u001B[0mscript_name\u001B[0m\u001B[1;33m=\u001B[0m\u001B[0mscript_name\u001B[0m\u001B[1;33m,\u001B[0m \u001B[0mconfig\u001B[0m\u001B[1;33m=\u001B[0m\u001B[0mconfig\u001B[0m\u001B[1;33m,\u001B[0m \u001B[1;33m**\u001B[0m\u001B[0mmeta\u001B[0m\u001B[1;33m)\u001B[0m\u001B[1;33m\u001B[0m\u001B[1;33m\u001B[0m\u001B[0m\n\u001B[0m\u001B[0;32m     71\u001B[0m \u001B[1;33m\u001B[0m\u001B[0m\n\u001B[0;32m     72\u001B[0m \u001B[1;33m\u001B[0m\u001B[0m\n",
      "\u001B[1;32mc:\\users\\anwan\\onedrive\\khan\\research\\omni-fig\\omnifig\\organization.py\u001B[0m in \u001B[0;36mrun\u001B[1;34m(self, script_name, config, **meta_args)\u001B[0m\n\u001B[0;32m    306\u001B[0m                 \u001B[1;31m# config = mode.process(config)\u001B[0m\u001B[1;33m\u001B[0m\u001B[1;33m\u001B[0m\u001B[1;33m\u001B[0m\u001B[0m\n\u001B[0;32m    307\u001B[0m \u001B[1;33m\u001B[0m\u001B[0m\n\u001B[1;32m--> 308\u001B[1;33m                 \u001B[1;32mreturn\u001B[0m \u001B[0mmode\u001B[0m\u001B[1;33m.\u001B[0m\u001B[0mrun\u001B[0m\u001B[1;33m(\u001B[0m\u001B[0mconfig\u001B[0m\u001B[1;33m.\u001B[0m\u001B[0msub\u001B[0m\u001B[1;33m(\u001B[0m\u001B[1;34m'_meta'\u001B[0m\u001B[1;33m)\u001B[0m\u001B[1;33m,\u001B[0m \u001B[0mconfig\u001B[0m\u001B[1;33m)\u001B[0m\u001B[1;33m\u001B[0m\u001B[1;33m\u001B[0m\u001B[0m\n\u001B[0m\u001B[0;32m    309\u001B[0m \u001B[1;33m\u001B[0m\u001B[0m\n\u001B[0;32m    310\u001B[0m         \u001B[1;32mdef\u001B[0m \u001B[0mcreate_component\u001B[0m\u001B[1;33m(\u001B[0m\u001B[0mself\u001B[0m\u001B[1;33m,\u001B[0m \u001B[0minfo\u001B[0m\u001B[1;33m)\u001B[0m\u001B[1;33m:\u001B[0m\u001B[1;33m\u001B[0m\u001B[1;33m\u001B[0m\u001B[0m\n",
      "\u001B[1;32mc:\\users\\anwan\\onedrive\\khan\\research\\omni-fig\\omnifig\\modes.py\u001B[0m in \u001B[0;36mrun\u001B[1;34m(self, meta, config)\u001B[0m\n\u001B[0;32m     45\u001B[0m \u001B[1;33m\u001B[0m\u001B[0m\n\u001B[0;32m     46\u001B[0m                 \u001B[1;32mif\u001B[0m \u001B[0mscript_info\u001B[0m\u001B[1;33m.\u001B[0m\u001B[0muse_config\u001B[0m\u001B[1;33m:\u001B[0m\u001B[1;33m\u001B[0m\u001B[1;33m\u001B[0m\u001B[0m\n\u001B[1;32m---> 47\u001B[1;33m                         \u001B[1;32mreturn\u001B[0m \u001B[0mscript_fn\u001B[0m\u001B[1;33m(\u001B[0m\u001B[0mconfig\u001B[0m\u001B[1;33m)\u001B[0m\u001B[1;33m\u001B[0m\u001B[1;33m\u001B[0m\u001B[0m\n\u001B[0m\u001B[0;32m     48\u001B[0m                 \u001B[1;32mreturn\u001B[0m \u001B[0mautofill_args\u001B[0m\u001B[1;33m(\u001B[0m\u001B[0mscript_fn\u001B[0m\u001B[1;33m,\u001B[0m \u001B[0mconfig\u001B[0m\u001B[1;33m)\u001B[0m\u001B[1;33m\u001B[0m\u001B[1;33m\u001B[0m\u001B[0m\n",
      "\u001B[1;32m~\\OneDrive\\Khan\\research\\foundation\\omnilearn\\data\\manager.py\u001B[0m in \u001B[0;36mload_data\u001B[1;34m(A)\u001B[0m\n\u001B[0;32m    382\u001B[0m                 \u001B[0mA\u001B[0m \u001B[1;33m=\u001B[0m \u001B[0minfo\u001B[0m\u001B[1;33m\u001B[0m\u001B[1;33m\u001B[0m\u001B[0m\n\u001B[0;32m    383\u001B[0m \u001B[1;33m\u001B[0m\u001B[0m\n\u001B[1;32m--> 384\u001B[1;33m         \u001B[1;32mreturn\u001B[0m \u001B[0mA\u001B[0m\u001B[1;33m.\u001B[0m\u001B[0mpull_self\u001B[0m\u001B[1;33m(\u001B[0m\u001B[1;33m)\u001B[0m\u001B[1;33m\u001B[0m\u001B[1;33m\u001B[0m\u001B[0m\n\u001B[0m\u001B[0;32m    385\u001B[0m \u001B[1;33m\u001B[0m\u001B[0m\n\u001B[0;32m    386\u001B[0m \u001B[1;33m\u001B[0m\u001B[0m\n",
      "\u001B[1;32mc:\\users\\anwan\\onedrive\\khan\\research\\omni-fig\\omnifig\\config.py\u001B[0m in \u001B[0;36mpull_self\u001B[1;34m(self, name, silent, as_iter, raw, ref)\u001B[0m\n\u001B[0;32m    326\u001B[0m                 \u001B[0mself\u001B[0m\u001B[1;33m.\u001B[0m\u001B[0m_reset_prefix\u001B[0m\u001B[1;33m(\u001B[0m\u001B[1;33m)\u001B[0m\u001B[1;33m\u001B[0m\u001B[1;33m\u001B[0m\u001B[0m\n\u001B[0;32m    327\u001B[0m \t\treturn self._process_val(name, self, silent=silent, reuse=ref, is_self=True, as_iter=as_iter,\n\u001B[1;32m--> 328\u001B[1;33m \t\t                         _origin=self, _raw=raw)\n\u001B[0m\u001B[0;32m    329\u001B[0m \u001B[1;33m\u001B[0m\u001B[0m\n\u001B[0;32m    330\u001B[0m \tdef _pull(self, item, *defaults, silent=False, ref=False, no_parent=False, as_iter=False,\n",
      "\u001B[1;32mc:\\users\\anwan\\onedrive\\khan\\research\\omni-fig\\omnifig\\config.py\u001B[0m in \u001B[0;36m_process_val\u001B[1;34m(self, item, val, silent, reuse, is_self, as_iter, _origin, _raw, *defaults, **record_flags)\u001B[0m\n\u001B[0;32m    473\u001B[0m                                         \u001B[0mpast\u001B[0m \u001B[1;33m=\u001B[0m \u001B[0mself\u001B[0m\u001B[1;33m.\u001B[0m\u001B[0m_get_silent\u001B[0m\u001B[1;33m(\u001B[0m\u001B[1;33m)\u001B[0m\u001B[1;33m\u001B[0m\u001B[1;33m\u001B[0m\u001B[0m\n\u001B[0;32m    474\u001B[0m                                         \u001B[1;32mwith\u001B[0m \u001B[0mself\u001B[0m\u001B[1;33m.\u001B[0m\u001B[0msilenced\u001B[0m\u001B[1;33m(\u001B[0m\u001B[0msilent\u001B[0m \u001B[1;32mor\u001B[0m \u001B[0mpast\u001B[0m\u001B[1;33m)\u001B[0m\u001B[1;33m:\u001B[0m\u001B[1;33m\u001B[0m\u001B[1;33m\u001B[0m\u001B[0m\n\u001B[1;32m--> 475\u001B[1;33m                                                 \u001B[0mcmpn\u001B[0m \u001B[1;33m=\u001B[0m \u001B[0mself\u001B[0m\u001B[1;33m.\u001B[0m\u001B[0mget_project\u001B[0m\u001B[1;33m(\u001B[0m\u001B[1;33m)\u001B[0m\u001B[1;33m.\u001B[0m\u001B[0mcreate_component\u001B[0m\u001B[1;33m(\u001B[0m\u001B[0mval\u001B[0m\u001B[1;33m)\u001B[0m\u001B[1;33m\u001B[0m\u001B[1;33m\u001B[0m\u001B[0m\n\u001B[0m\u001B[0;32m    476\u001B[0m \u001B[1;33m\u001B[0m\u001B[0m\n\u001B[0;32m    477\u001B[0m                                         \u001B[1;32mif\u001B[0m \u001B[1;32mnot\u001B[0m \u001B[0mself\u001B[0m\u001B[1;33m.\u001B[0m\u001B[0min_safe_mode\u001B[0m\u001B[1;33m(\u001B[0m\u001B[1;33m)\u001B[0m \u001B[1;32mor\u001B[0m \u001B[0mself\u001B[0m\u001B[1;33m.\u001B[0m\u001B[0min_transaction\u001B[0m\u001B[1;33m(\u001B[0m\u001B[1;33m)\u001B[0m\u001B[1;33m:\u001B[0m\u001B[1;33m\u001B[0m\u001B[1;33m\u001B[0m\u001B[0m\n",
      "\u001B[1;32mc:\\users\\anwan\\onedrive\\khan\\research\\omni-fig\\omnifig\\organization.py\u001B[0m in \u001B[0;36mcreate_component\u001B[1;34m(self, info)\u001B[0m\n\u001B[0;32m    355\u001B[0m                                 \u001B[0mcomponent\u001B[0m \u001B[1;33m=\u001B[0m \u001B[0mmod\u001B[0m\u001B[1;33m.\u001B[0m\u001B[0mfn\u001B[0m\u001B[1;33m(\u001B[0m\u001B[0mcomponent\u001B[0m\u001B[1;33m,\u001B[0m \u001B[0minfo\u001B[0m\u001B[1;33m)\u001B[0m \u001B[1;32mif\u001B[0m \u001B[0mmod\u001B[0m\u001B[1;33m.\u001B[0m\u001B[0mexpects_config\u001B[0m \u001B[1;32melse\u001B[0m \u001B[0mmod\u001B[0m\u001B[1;33m.\u001B[0m\u001B[0mfn\u001B[0m\u001B[1;33m(\u001B[0m\u001B[0mcomponent\u001B[0m\u001B[1;33m)\u001B[0m\u001B[1;33m\u001B[0m\u001B[1;33m\u001B[0m\u001B[0m\n\u001B[0;32m    356\u001B[0m \u001B[1;33m\u001B[0m\u001B[0m\n\u001B[1;32m--> 357\u001B[1;33m                 \u001B[1;32mreturn\u001B[0m \u001B[0mcomponent\u001B[0m\u001B[1;33m(\u001B[0m\u001B[0minfo\u001B[0m\u001B[1;33m)\u001B[0m\u001B[1;33m\u001B[0m\u001B[1;33m\u001B[0m\u001B[0m\n\u001B[0m\u001B[0;32m    358\u001B[0m \u001B[1;33m\u001B[0m\u001B[0m\n\u001B[0;32m    359\u001B[0m         \u001B[1;31m# endregion\u001B[0m\u001B[1;33m\u001B[0m\u001B[1;33m\u001B[0m\u001B[1;33m\u001B[0m\u001B[0m\n",
      "\u001B[1;32m~\\OneDrive\\Khan\\research\\foundation\\omnilearn\\data\\manager.py\u001B[0m in \u001B[0;36m__init__\u001B[1;34m(self, A, **kwargs)\u001B[0m\n\u001B[0;32m    392\u001B[0m                 \u001B[0mskip_load\u001B[0m \u001B[1;33m=\u001B[0m \u001B[0mA\u001B[0m\u001B[1;33m.\u001B[0m\u001B[0mpull\u001B[0m\u001B[1;33m(\u001B[0m\u001B[1;34m'skip_load'\u001B[0m\u001B[1;33m,\u001B[0m \u001B[1;32mFalse\u001B[0m\u001B[1;33m)\u001B[0m\u001B[1;33m\u001B[0m\u001B[1;33m\u001B[0m\u001B[0m\n\u001B[0;32m    393\u001B[0m                 \u001B[1;32mif\u001B[0m \u001B[1;32mnot\u001B[0m \u001B[0mskip_load\u001B[0m\u001B[1;33m:\u001B[0m\u001B[1;33m\u001B[0m\u001B[1;33m\u001B[0m\u001B[0m\n\u001B[1;32m--> 394\u001B[1;33m                         \u001B[0mdataset\u001B[0m \u001B[1;33m=\u001B[0m \u001B[0mself\u001B[0m\u001B[1;33m.\u001B[0m\u001B[0mstartup\u001B[0m\u001B[1;33m(\u001B[0m\u001B[1;33m)\u001B[0m\u001B[1;33m\u001B[0m\u001B[1;33m\u001B[0m\u001B[0m\n\u001B[0m\u001B[0;32m    395\u001B[0m                         \u001B[1;32mif\u001B[0m \u001B[0misinstance\u001B[0m\u001B[1;33m(\u001B[0m\u001B[0mdataset\u001B[0m\u001B[1;33m,\u001B[0m \u001B[0mutil\u001B[0m\u001B[1;33m.\u001B[0m\u001B[0mDimensions\u001B[0m\u001B[1;33m)\u001B[0m\u001B[1;33m:\u001B[0m\u001B[1;33m\u001B[0m\u001B[1;33m\u001B[0m\u001B[0m\n\u001B[0;32m    396\u001B[0m                                 \u001B[0mself\u001B[0m\u001B[1;33m.\u001B[0m\u001B[0mdin\u001B[0m\u001B[1;33m,\u001B[0m \u001B[0mself\u001B[0m\u001B[1;33m.\u001B[0m\u001B[0mdout\u001B[0m \u001B[1;33m=\u001B[0m \u001B[0mdataset\u001B[0m\u001B[1;33m.\u001B[0m\u001B[0mget_dims\u001B[0m\u001B[1;33m(\u001B[0m\u001B[1;33m)\u001B[0m\u001B[1;33m\u001B[0m\u001B[1;33m\u001B[0m\u001B[0m\n",
      "\u001B[1;32m~\\OneDrive\\Khan\\research\\foundation\\omnilearn\\data\\manager.py\u001B[0m in \u001B[0;36mstartup\u001B[1;34m(self, A)\u001B[0m\n\u001B[0;32m    216\u001B[0m \u001B[1;33m\u001B[0m\u001B[0m\n\u001B[0;32m    217\u001B[0m         \u001B[1;32mdef\u001B[0m \u001B[0mstartup\u001B[0m\u001B[1;33m(\u001B[0m\u001B[0mself\u001B[0m\u001B[1;33m,\u001B[0m \u001B[0mA\u001B[0m\u001B[1;33m=\u001B[0m\u001B[1;32mNone\u001B[0m\u001B[1;33m)\u001B[0m\u001B[1;33m:\u001B[0m\u001B[1;33m\u001B[0m\u001B[1;33m\u001B[0m\u001B[0m\n\u001B[1;32m--> 218\u001B[1;33m                 \u001B[0mdataset\u001B[0m \u001B[1;33m=\u001B[0m \u001B[0msuper\u001B[0m\u001B[1;33m(\u001B[0m\u001B[1;33m)\u001B[0m\u001B[1;33m.\u001B[0m\u001B[0mstartup\u001B[0m\u001B[1;33m(\u001B[0m\u001B[0mA\u001B[0m\u001B[1;33m=\u001B[0m\u001B[0mA\u001B[0m\u001B[1;33m)\u001B[0m\u001B[1;33m\u001B[0m\u001B[1;33m\u001B[0m\u001B[0m\n\u001B[0m\u001B[0;32m    219\u001B[0m                 \u001B[1;32mif\u001B[0m \u001B[1;32mnot\u001B[0m \u001B[0mself\u001B[0m\u001B[1;33m.\u001B[0m\u001B[0m_split_done\u001B[0m\u001B[1;33m:\u001B[0m\u001B[1;33m\u001B[0m\u001B[1;33m\u001B[0m\u001B[0m\n\u001B[0;32m    220\u001B[0m                         \u001B[0mdataset\u001B[0m \u001B[1;33m=\u001B[0m \u001B[0mself\u001B[0m\u001B[1;33m.\u001B[0m\u001B[0m_split_load\u001B[0m\u001B[1;33m(\u001B[0m\u001B[0mdataset\u001B[0m\u001B[1;33m)\u001B[0m\u001B[1;33m\u001B[0m\u001B[1;33m\u001B[0m\u001B[0m\n",
      "\u001B[1;32m~\\OneDrive\\Khan\\research\\foundation\\omnilearn\\data\\manager.py\u001B[0m in \u001B[0;36mstartup\u001B[1;34m(self, A)\u001B[0m\n\u001B[0;32m     50\u001B[0m         \u001B[1;32mdef\u001B[0m \u001B[0mstartup\u001B[0m\u001B[1;33m(\u001B[0m\u001B[0mself\u001B[0m\u001B[1;33m,\u001B[0m \u001B[0mA\u001B[0m\u001B[1;33m=\u001B[0m\u001B[1;32mNone\u001B[0m\u001B[1;33m)\u001B[0m\u001B[1;33m:\u001B[0m\u001B[1;33m\u001B[0m\u001B[1;33m\u001B[0m\u001B[0m\n\u001B[0;32m     51\u001B[0m                 \u001B[0mmode\u001B[0m \u001B[1;33m=\u001B[0m \u001B[0mself\u001B[0m\u001B[1;33m.\u001B[0m\u001B[0m_default_mode\u001B[0m\u001B[1;33m\u001B[0m\u001B[1;33m\u001B[0m\u001B[0m\n\u001B[1;32m---> 52\u001B[1;33m                 \u001B[1;32mreturn\u001B[0m \u001B[0mself\u001B[0m\u001B[1;33m.\u001B[0m\u001B[0mget_data\u001B[0m\u001B[1;33m(\u001B[0m\u001B[0mmode\u001B[0m\u001B[1;33m)\u001B[0m\u001B[1;33m\u001B[0m\u001B[1;33m\u001B[0m\u001B[0m\n\u001B[0m\u001B[0;32m     53\u001B[0m \u001B[1;33m\u001B[0m\u001B[0m\n\u001B[0;32m     54\u001B[0m         \u001B[1;32mdef\u001B[0m \u001B[0mpurge\u001B[0m\u001B[1;33m(\u001B[0m\u001B[0mself\u001B[0m\u001B[1;33m)\u001B[0m\u001B[1;33m:\u001B[0m\u001B[1;33m\u001B[0m\u001B[1;33m\u001B[0m\u001B[0m\n",
      "\u001B[1;32m~\\OneDrive\\Khan\\research\\foundation\\omnilearn\\data\\manager.py\u001B[0m in \u001B[0;36mget_data\u001B[1;34m(self, mode)\u001B[0m\n\u001B[0;32m     83\u001B[0m         \u001B[1;32mdef\u001B[0m \u001B[0mget_data\u001B[0m\u001B[1;33m(\u001B[0m\u001B[0mself\u001B[0m\u001B[1;33m,\u001B[0m \u001B[0mmode\u001B[0m\u001B[1;33m=\u001B[0m\u001B[1;32mNone\u001B[0m\u001B[1;33m)\u001B[0m\u001B[1;33m:\u001B[0m\u001B[1;33m\u001B[0m\u001B[1;33m\u001B[0m\u001B[0m\n\u001B[0;32m     84\u001B[0m                 \u001B[1;32mif\u001B[0m \u001B[0mmode\u001B[0m \u001B[1;32mis\u001B[0m \u001B[1;32mnot\u001B[0m \u001B[1;32mNone\u001B[0m\u001B[1;33m:\u001B[0m\u001B[1;33m\u001B[0m\u001B[1;33m\u001B[0m\u001B[0m\n\u001B[1;32m---> 85\u001B[1;33m                         \u001B[0mself\u001B[0m\u001B[1;33m.\u001B[0m\u001B[0mswitch_to\u001B[0m\u001B[1;33m(\u001B[0m\u001B[0mmode\u001B[0m\u001B[1;33m)\u001B[0m\u001B[1;33m\u001B[0m\u001B[1;33m\u001B[0m\u001B[0m\n\u001B[0m\u001B[0;32m     86\u001B[0m                 \u001B[1;32mreturn\u001B[0m \u001B[0mself\u001B[0m\u001B[1;33m.\u001B[0m\u001B[0m_active\u001B[0m\u001B[1;33m\u001B[0m\u001B[1;33m\u001B[0m\u001B[0m\n\u001B[0;32m     87\u001B[0m \u001B[1;33m\u001B[0m\u001B[0m\n",
      "\u001B[1;32m~\\OneDrive\\Khan\\research\\foundation\\omnilearn\\data\\manager.py\u001B[0m in \u001B[0;36mswitch_to\u001B[1;34m(self, mode)\u001B[0m\n\u001B[0;32m     80\u001B[0m \u001B[1;33m\u001B[0m\u001B[0m\n\u001B[0;32m     81\u001B[0m                 \u001B[0msuper\u001B[0m\u001B[1;33m(\u001B[0m\u001B[1;33m)\u001B[0m\u001B[1;33m.\u001B[0m\u001B[0mswitch_to\u001B[0m\u001B[1;33m(\u001B[0m\u001B[0mmode\u001B[0m\u001B[1;33m)\u001B[0m\u001B[1;33m\u001B[0m\u001B[1;33m\u001B[0m\u001B[0m\n\u001B[1;32m---> 82\u001B[1;33m                 \u001B[0mself\u001B[0m\u001B[1;33m.\u001B[0m\u001B[0m_active\u001B[0m \u001B[1;33m=\u001B[0m \u001B[0mself\u001B[0m\u001B[1;33m.\u001B[0m\u001B[0m_find_active\u001B[0m\u001B[1;33m(\u001B[0m\u001B[0mmode\u001B[0m\u001B[1;33m)\u001B[0m\u001B[1;33m\u001B[0m\u001B[1;33m\u001B[0m\u001B[0m\n\u001B[0m\u001B[0;32m     83\u001B[0m         \u001B[1;32mdef\u001B[0m \u001B[0mget_data\u001B[0m\u001B[1;33m(\u001B[0m\u001B[0mself\u001B[0m\u001B[1;33m,\u001B[0m \u001B[0mmode\u001B[0m\u001B[1;33m=\u001B[0m\u001B[1;32mNone\u001B[0m\u001B[1;33m)\u001B[0m\u001B[1;33m:\u001B[0m\u001B[1;33m\u001B[0m\u001B[1;33m\u001B[0m\u001B[0m\n\u001B[0;32m     84\u001B[0m                 \u001B[1;32mif\u001B[0m \u001B[0mmode\u001B[0m \u001B[1;32mis\u001B[0m \u001B[1;32mnot\u001B[0m \u001B[1;32mNone\u001B[0m\u001B[1;33m:\u001B[0m\u001B[1;33m\u001B[0m\u001B[1;33m\u001B[0m\u001B[0m\n",
      "\u001B[1;32m~\\OneDrive\\Khan\\research\\foundation\\omnilearn\\data\\manager.py\u001B[0m in \u001B[0;36m_find_active\u001B[1;34m(self, mode)\u001B[0m\n\u001B[0;32m     73\u001B[0m                 \u001B[1;32melif\u001B[0m \u001B[0mmode\u001B[0m \u001B[1;32min\u001B[0m \u001B[0mself\u001B[0m\u001B[1;33m.\u001B[0m\u001B[0m_mode_aliases\u001B[0m\u001B[1;33m:\u001B[0m\u001B[1;33m\u001B[0m\u001B[1;33m\u001B[0m\u001B[0m\n\u001B[0;32m     74\u001B[0m                         \u001B[1;32mreturn\u001B[0m \u001B[0mself\u001B[0m\u001B[1;33m.\u001B[0m\u001B[0m_find_active\u001B[0m\u001B[1;33m(\u001B[0m\u001B[0mself\u001B[0m\u001B[1;33m.\u001B[0m\u001B[0m_mode_aliases\u001B[0m\u001B[1;33m[\u001B[0m\u001B[0mmode\u001B[0m\u001B[1;33m]\u001B[0m\u001B[1;33m)\u001B[0m\u001B[1;33m\u001B[0m\u001B[1;33m\u001B[0m\u001B[0m\n\u001B[1;32m---> 75\u001B[1;33m                 \u001B[1;32mreturn\u001B[0m \u001B[0mself\u001B[0m\u001B[1;33m.\u001B[0m\u001B[0m_create_mode\u001B[0m\u001B[1;33m(\u001B[0m\u001B[0mmode\u001B[0m\u001B[1;33m)\u001B[0m\u001B[1;33m\u001B[0m\u001B[1;33m\u001B[0m\u001B[0m\n\u001B[0m\u001B[0;32m     76\u001B[0m \u001B[1;33m\u001B[0m\u001B[0m\n\u001B[0;32m     77\u001B[0m         \u001B[1;32mdef\u001B[0m \u001B[0mswitch_to\u001B[0m\u001B[1;33m(\u001B[0m\u001B[0mself\u001B[0m\u001B[1;33m,\u001B[0m \u001B[0mmode\u001B[0m\u001B[1;33m)\u001B[0m\u001B[1;33m:\u001B[0m\u001B[1;33m\u001B[0m\u001B[1;33m\u001B[0m\u001B[0m\n",
      "\u001B[1;32m~\\OneDrive\\Khan\\research\\foundation\\omnilearn\\data\\manager.py\u001B[0m in \u001B[0;36m_create_mode\u001B[1;34m(self, mode)\u001B[0m\n\u001B[0;32m     62\u001B[0m                         \u001B[0mself\u001B[0m\u001B[1;33m.\u001B[0m\u001B[0mA\u001B[0m\u001B[1;33m.\u001B[0m\u001B[0mupdate\u001B[0m\u001B[1;33m(\u001B[0m\u001B[0mself\u001B[0m\u001B[1;33m.\u001B[0m\u001B[0mA\u001B[0m\u001B[1;33m.\u001B[0m\u001B[0msub\u001B[0m\u001B[1;33m(\u001B[0m\u001B[0mmode\u001B[0m\u001B[1;33m)\u001B[0m\u001B[1;33m)\u001B[0m\u001B[1;33m\u001B[0m\u001B[1;33m\u001B[0m\u001B[0m\n\u001B[0;32m     63\u001B[0m                 \u001B[0mself\u001B[0m\u001B[1;33m.\u001B[0m\u001B[0mA\u001B[0m\u001B[1;33m.\u001B[0m\u001B[0mpush\u001B[0m\u001B[1;33m(\u001B[0m\u001B[1;34m'mode'\u001B[0m\u001B[1;33m,\u001B[0m \u001B[0mmode\u001B[0m\u001B[1;33m,\u001B[0m \u001B[0msilent\u001B[0m\u001B[1;33m=\u001B[0m\u001B[1;32mTrue\u001B[0m\u001B[1;33m)\u001B[0m\u001B[1;33m\u001B[0m\u001B[1;33m\u001B[0m\u001B[0m\n\u001B[1;32m---> 64\u001B[1;33m                 \u001B[0mdataset\u001B[0m \u001B[1;33m=\u001B[0m \u001B[0mself\u001B[0m\u001B[1;33m.\u001B[0m\u001B[0mA\u001B[0m\u001B[1;33m.\u001B[0m\u001B[0mpull_self\u001B[0m\u001B[1;33m(\u001B[0m\u001B[1;33m)\u001B[0m\u001B[1;33m\u001B[0m\u001B[1;33m\u001B[0m\u001B[0m\n\u001B[0m\u001B[0;32m     65\u001B[0m                 \u001B[1;31m# self.A.abort()\u001B[0m\u001B[1;33m\u001B[0m\u001B[1;33m\u001B[0m\u001B[1;33m\u001B[0m\u001B[0m\n\u001B[0;32m     66\u001B[0m \u001B[1;33m\u001B[0m\u001B[0m\n",
      "\u001B[1;32mc:\\users\\anwan\\onedrive\\khan\\research\\omni-fig\\omnifig\\config.py\u001B[0m in \u001B[0;36mpull_self\u001B[1;34m(self, name, silent, as_iter, raw, ref)\u001B[0m\n\u001B[0;32m    326\u001B[0m                 \u001B[0mself\u001B[0m\u001B[1;33m.\u001B[0m\u001B[0m_reset_prefix\u001B[0m\u001B[1;33m(\u001B[0m\u001B[1;33m)\u001B[0m\u001B[1;33m\u001B[0m\u001B[1;33m\u001B[0m\u001B[0m\n\u001B[0;32m    327\u001B[0m \t\treturn self._process_val(name, self, silent=silent, reuse=ref, is_self=True, as_iter=as_iter,\n\u001B[1;32m--> 328\u001B[1;33m \t\t                         _origin=self, _raw=raw)\n\u001B[0m\u001B[0;32m    329\u001B[0m \u001B[1;33m\u001B[0m\u001B[0m\n\u001B[0;32m    330\u001B[0m \tdef _pull(self, item, *defaults, silent=False, ref=False, no_parent=False, as_iter=False,\n",
      "\u001B[1;32mc:\\users\\anwan\\onedrive\\khan\\research\\omni-fig\\omnifig\\config.py\u001B[0m in \u001B[0;36m_process_val\u001B[1;34m(self, item, val, silent, reuse, is_self, as_iter, _origin, _raw, *defaults, **record_flags)\u001B[0m\n\u001B[0;32m    473\u001B[0m                                         \u001B[0mpast\u001B[0m \u001B[1;33m=\u001B[0m \u001B[0mself\u001B[0m\u001B[1;33m.\u001B[0m\u001B[0m_get_silent\u001B[0m\u001B[1;33m(\u001B[0m\u001B[1;33m)\u001B[0m\u001B[1;33m\u001B[0m\u001B[1;33m\u001B[0m\u001B[0m\n\u001B[0;32m    474\u001B[0m                                         \u001B[1;32mwith\u001B[0m \u001B[0mself\u001B[0m\u001B[1;33m.\u001B[0m\u001B[0msilenced\u001B[0m\u001B[1;33m(\u001B[0m\u001B[0msilent\u001B[0m \u001B[1;32mor\u001B[0m \u001B[0mpast\u001B[0m\u001B[1;33m)\u001B[0m\u001B[1;33m:\u001B[0m\u001B[1;33m\u001B[0m\u001B[1;33m\u001B[0m\u001B[0m\n\u001B[1;32m--> 475\u001B[1;33m                                                 \u001B[0mcmpn\u001B[0m \u001B[1;33m=\u001B[0m \u001B[0mself\u001B[0m\u001B[1;33m.\u001B[0m\u001B[0mget_project\u001B[0m\u001B[1;33m(\u001B[0m\u001B[1;33m)\u001B[0m\u001B[1;33m.\u001B[0m\u001B[0mcreate_component\u001B[0m\u001B[1;33m(\u001B[0m\u001B[0mval\u001B[0m\u001B[1;33m)\u001B[0m\u001B[1;33m\u001B[0m\u001B[1;33m\u001B[0m\u001B[0m\n\u001B[0m\u001B[0;32m    476\u001B[0m \u001B[1;33m\u001B[0m\u001B[0m\n\u001B[0;32m    477\u001B[0m                                         \u001B[1;32mif\u001B[0m \u001B[1;32mnot\u001B[0m \u001B[0mself\u001B[0m\u001B[1;33m.\u001B[0m\u001B[0min_safe_mode\u001B[0m\u001B[1;33m(\u001B[0m\u001B[1;33m)\u001B[0m \u001B[1;32mor\u001B[0m \u001B[0mself\u001B[0m\u001B[1;33m.\u001B[0m\u001B[0min_transaction\u001B[0m\u001B[1;33m(\u001B[0m\u001B[1;33m)\u001B[0m\u001B[1;33m:\u001B[0m\u001B[1;33m\u001B[0m\u001B[1;33m\u001B[0m\u001B[0m\n",
      "\u001B[1;32mc:\\users\\anwan\\onedrive\\khan\\research\\omni-fig\\omnifig\\organization.py\u001B[0m in \u001B[0;36mcreate_component\u001B[1;34m(self, info)\u001B[0m\n\u001B[0;32m    355\u001B[0m                                 \u001B[0mcomponent\u001B[0m \u001B[1;33m=\u001B[0m \u001B[0mmod\u001B[0m\u001B[1;33m.\u001B[0m\u001B[0mfn\u001B[0m\u001B[1;33m(\u001B[0m\u001B[0mcomponent\u001B[0m\u001B[1;33m,\u001B[0m \u001B[0minfo\u001B[0m\u001B[1;33m)\u001B[0m \u001B[1;32mif\u001B[0m \u001B[0mmod\u001B[0m\u001B[1;33m.\u001B[0m\u001B[0mexpects_config\u001B[0m \u001B[1;32melse\u001B[0m \u001B[0mmod\u001B[0m\u001B[1;33m.\u001B[0m\u001B[0mfn\u001B[0m\u001B[1;33m(\u001B[0m\u001B[0mcomponent\u001B[0m\u001B[1;33m)\u001B[0m\u001B[1;33m\u001B[0m\u001B[1;33m\u001B[0m\u001B[0m\n\u001B[0;32m    356\u001B[0m \u001B[1;33m\u001B[0m\u001B[0m\n\u001B[1;32m--> 357\u001B[1;33m                 \u001B[1;32mreturn\u001B[0m \u001B[0mcomponent\u001B[0m\u001B[1;33m(\u001B[0m\u001B[0minfo\u001B[0m\u001B[1;33m)\u001B[0m\u001B[1;33m\u001B[0m\u001B[1;33m\u001B[0m\u001B[0m\n\u001B[0m\u001B[0;32m    358\u001B[0m \u001B[1;33m\u001B[0m\u001B[0m\n\u001B[0;32m    359\u001B[0m         \u001B[1;31m# endregion\u001B[0m\u001B[1;33m\u001B[0m\u001B[1;33m\u001B[0m\u001B[1;33m\u001B[0m\u001B[0m\n",
      "\u001B[1;32m~\\OneDrive\\Khan\\research\\foundation\\omnilearn\\op\\datasets\\disentangling.py\u001B[0m in \u001B[0;36m__init__\u001B[1;34m(self, A, resize, crop_size, **kwargs)\u001B[0m\n\u001B[0;32m    337\u001B[0m \u001B[1;33m\u001B[0m\u001B[0m\n\u001B[0;32m    338\u001B[0m                 \u001B[1;32mif\u001B[0m \u001B[0mself\u001B[0m\u001B[1;33m.\u001B[0m\u001B[0mlabels\u001B[0m \u001B[1;32mis\u001B[0m \u001B[1;32mNone\u001B[0m\u001B[1;33m:\u001B[0m\u001B[1;33m\u001B[0m\u001B[1;33m\u001B[0m\u001B[0m\n\u001B[1;32m--> 339\u001B[1;33m                         \u001B[1;32mreturn\u001B[0m \u001B[0mimg\u001B[0m\u001B[1;33m,\u001B[0m\u001B[1;33m\u001B[0m\u001B[1;33m\u001B[0m\u001B[0m\n\u001B[0m\u001B[0;32m    340\u001B[0m \u001B[1;33m\u001B[0m\u001B[0m\n\u001B[0;32m    341\u001B[0m                 \u001B[0mlbl\u001B[0m \u001B[1;33m=\u001B[0m \u001B[0mtorch\u001B[0m\u001B[1;33m.\u001B[0m\u001B[0mfrom_numpy\u001B[0m\u001B[1;33m(\u001B[0m\u001B[0mself\u001B[0m\u001B[1;33m.\u001B[0m\u001B[0mlabels\u001B[0m\u001B[1;33m[\u001B[0m\u001B[0mitem\u001B[0m\u001B[1;33m]\u001B[0m\u001B[1;33m)\u001B[0m\u001B[1;33m\u001B[0m\u001B[1;33m\u001B[0m\u001B[0m\n",
      "\u001B[1;32m~\\OneDrive\\Khan\\research\\foundation\\omnilearn\\op\\datasets\\transforms.py\u001B[0m in \u001B[0;36m__init__\u001B[1;34m(self, A, crop_size, **kwargs)\u001B[0m\n\u001B[0;32m     69\u001B[0m                         \u001B[0mself\u001B[0m\u001B[1;33m.\u001B[0m\u001B[0mdin\u001B[0m \u001B[1;33m=\u001B[0m \u001B[1;33m(\u001B[0m\u001B[0mself\u001B[0m\u001B[1;33m.\u001B[0m\u001B[0mdin\u001B[0m\u001B[1;33m[\u001B[0m\u001B[1;36m0\u001B[0m\u001B[1;33m]\u001B[0m\u001B[1;33m,\u001B[0m \u001B[1;33m*\u001B[0m\u001B[0mcrop_size\u001B[0m\u001B[1;33m)\u001B[0m\u001B[1;33m\u001B[0m\u001B[1;33m\u001B[0m\u001B[0m\n\u001B[0;32m     70\u001B[0m \u001B[1;33m\u001B[0m\u001B[0m\n\u001B[1;32m---> 71\u001B[1;33m                 \u001B[0msuper\u001B[0m\u001B[1;33m(\u001B[0m\u001B[1;33m)\u001B[0m\u001B[1;33m.\u001B[0m\u001B[0m__init__\u001B[0m\u001B[1;33m(\u001B[0m\u001B[0mA\u001B[0m\u001B[1;33m,\u001B[0m \u001B[1;33m**\u001B[0m\u001B[0mkwargs\u001B[0m\u001B[1;33m)\u001B[0m\u001B[1;33m\u001B[0m\u001B[1;33m\u001B[0m\u001B[0m\n\u001B[0m\u001B[0;32m     72\u001B[0m \u001B[1;33m\u001B[0m\u001B[0m\n\u001B[0;32m     73\u001B[0m                 \u001B[0mself\u001B[0m\u001B[1;33m.\u001B[0m\u001B[0mr\u001B[0m \u001B[1;33m=\u001B[0m \u001B[1;32mNone\u001B[0m\u001B[1;33m\u001B[0m\u001B[1;33m\u001B[0m\u001B[0m\n",
      "\u001B[1;32m~\\OneDrive\\Khan\\research\\foundation\\omnilearn\\op\\datasets\\disentangling.py\u001B[0m in \u001B[0;36m__init__\u001B[1;34m(self, A, resize, label_type, mode, **kwargs)\u001B[0m\n\u001B[0;32m    252\u001B[0m         \u001B[1;32mdef\u001B[0m \u001B[0m__init__\u001B[0m\u001B[1;33m(\u001B[0m\u001B[0mself\u001B[0m\u001B[1;33m,\u001B[0m \u001B[0mA\u001B[0m\u001B[1;33m,\u001B[0m \u001B[0mresize\u001B[0m\u001B[1;33m=\u001B[0m\u001B[0munspecified_argument\u001B[0m\u001B[1;33m,\u001B[0m \u001B[0mlabel_type\u001B[0m\u001B[1;33m=\u001B[0m\u001B[0munspecified_argument\u001B[0m\u001B[1;33m,\u001B[0m \u001B[0mmode\u001B[0m\u001B[1;33m=\u001B[0m\u001B[1;32mNone\u001B[0m\u001B[1;33m,\u001B[0m \u001B[1;33m**\u001B[0m\u001B[0mkwargs\u001B[0m\u001B[1;33m)\u001B[0m\u001B[1;33m:\u001B[0m\u001B[1;33m\u001B[0m\u001B[1;33m\u001B[0m\u001B[0m\n\u001B[0;32m    253\u001B[0m \u001B[1;33m\u001B[0m\u001B[0m\n\u001B[1;32m--> 254\u001B[1;33m                 \u001B[0mdataroot\u001B[0m \u001B[1;33m=\u001B[0m \u001B[0mA\u001B[0m\u001B[1;33m.\u001B[0m\u001B[0mpull\u001B[0m\u001B[1;33m(\u001B[0m\u001B[1;34m'dataroot'\u001B[0m\u001B[1;33m)\u001B[0m \u001B[1;31m# force to load data here.\u001B[0m\u001B[1;33m\u001B[0m\u001B[1;33m\u001B[0m\u001B[0m\n\u001B[0m\u001B[0;32m    255\u001B[0m \u001B[1;33m\u001B[0m\u001B[0m\n\u001B[0;32m    256\u001B[0m                 \u001B[1;32mif\u001B[0m \u001B[0mlabel_type\u001B[0m \u001B[1;32mis\u001B[0m \u001B[0munspecified_argument\u001B[0m\u001B[1;33m:\u001B[0m\u001B[1;33m\u001B[0m\u001B[1;33m\u001B[0m\u001B[0m\n",
      "\u001B[1;32mc:\\users\\anwan\\onedrive\\khan\\research\\omni-fig\\omnifig\\config.py\u001B[0m in \u001B[0;36mpull\u001B[1;34m(self, item, silent, ref, no_parent, as_iter, raw, *defaults)\u001B[0m\n\u001B[0;32m    313\u001B[0m                 \u001B[0mself\u001B[0m\u001B[1;33m.\u001B[0m\u001B[0m_reset_prefix\u001B[0m\u001B[1;33m(\u001B[0m\u001B[1;33m)\u001B[0m\u001B[1;33m\u001B[0m\u001B[1;33m\u001B[0m\u001B[0m\n\u001B[0;32m    314\u001B[0m \t\treturn self._pull(item, *defaults, silent=silent, ref=ref, no_parent=no_parent, as_iter=as_iter,\n\u001B[1;32m--> 315\u001B[1;33m \t\t                  _origin=self, _raw=raw)\n\u001B[0m\u001B[0;32m    316\u001B[0m \u001B[1;33m\u001B[0m\u001B[0m\n\u001B[0;32m    317\u001B[0m         \u001B[1;32mdef\u001B[0m \u001B[0mpull_self\u001B[0m\u001B[1;33m(\u001B[0m\u001B[0mself\u001B[0m\u001B[1;33m,\u001B[0m \u001B[0mname\u001B[0m\u001B[1;33m=\u001B[0m\u001B[1;32mNone\u001B[0m\u001B[1;33m,\u001B[0m \u001B[0msilent\u001B[0m\u001B[1;33m=\u001B[0m\u001B[1;32mFalse\u001B[0m\u001B[1;33m,\u001B[0m \u001B[0mas_iter\u001B[0m\u001B[1;33m=\u001B[0m\u001B[1;32mFalse\u001B[0m\u001B[1;33m,\u001B[0m \u001B[0mraw\u001B[0m\u001B[1;33m=\u001B[0m\u001B[1;32mFalse\u001B[0m\u001B[1;33m,\u001B[0m \u001B[0mref\u001B[0m\u001B[1;33m=\u001B[0m\u001B[1;32mFalse\u001B[0m\u001B[1;33m)\u001B[0m\u001B[1;33m:\u001B[0m\u001B[1;33m\u001B[0m\u001B[1;33m\u001B[0m\u001B[0m\n",
      "\u001B[1;32mc:\\users\\anwan\\onedrive\\khan\\research\\omni-fig\\omnifig\\config.py\u001B[0m in \u001B[0;36m_pull\u001B[1;34m(self, item, silent, ref, no_parent, as_iter, _defaulted, _origin, _raw, *defaults)\u001B[0m\n\u001B[0;32m    375\u001B[0m \u001B[1;33m\u001B[0m\u001B[0m\n\u001B[0;32m    376\u001B[0m                         \u001B[1;32mif\u001B[0m \u001B[0mlen\u001B[0m\u001B[1;33m(\u001B[0m\u001B[0mdefaults\u001B[0m\u001B[1;33m)\u001B[0m \u001B[1;33m==\u001B[0m \u001B[1;36m0\u001B[0m\u001B[1;33m:\u001B[0m\u001B[1;33m\u001B[0m\u001B[1;33m\u001B[0m\u001B[0m\n\u001B[1;32m--> 377\u001B[1;33m                                 \u001B[1;32mraise\u001B[0m \u001B[0mMissingParameterError\u001B[0m\u001B[1;33m(\u001B[0m\u001B[0mitem\u001B[0m\u001B[1;33m)\u001B[0m\u001B[1;33m\u001B[0m\u001B[1;33m\u001B[0m\u001B[0m\n\u001B[0m\u001B[0;32m    378\u001B[0m                         \u001B[0mval\u001B[0m\u001B[1;33m,\u001B[0m \u001B[1;33m*\u001B[0m\u001B[0mdefaults\u001B[0m \u001B[1;33m=\u001B[0m \u001B[0mdefaults\u001B[0m\u001B[1;33m\u001B[0m\u001B[1;33m\u001B[0m\u001B[0m\n\u001B[0;32m    379\u001B[0m                         \u001B[0mline\u001B[0m \u001B[1;33m=\u001B[0m \u001B[1;33m[\u001B[0m\u001B[1;33m]\u001B[0m\u001B[1;33m\u001B[0m\u001B[1;33m\u001B[0m\u001B[0m\n",
      "\u001B[1;31mMissingParameterError\u001B[0m: dataroot"
     ]
    }
   ],
   "source": [
    "dataset = fig.quick_run('load-data', name='celeba', mode='test')\n",
    "len(dataset)"
   ]
  },
  {
   "cell_type": "code",
   "execution_count": 4,
   "metadata": {},
   "outputs": [
    {
     "data": {
      "text/plain": [
       "96000"
      ]
     },
     "execution_count": 4,
     "metadata": {},
     "output_type": "execute_result"
    }
   ],
   "source": [
    "len(dataset)"
   ]
  },
  {
   "cell_type": "code",
   "execution_count": null,
   "metadata": {},
   "outputs": [],
   "source": []
  },
  {
   "cell_type": "code",
   "execution_count": null,
   "metadata": {},
   "outputs": [],
   "source": []
  },
  {
   "cell_type": "code",
   "execution_count": null,
   "metadata": {},
   "outputs": [],
   "source": []
  },
  {
   "cell_type": "code",
   "execution_count": 8,
   "metadata": {},
   "outputs": [],
   "source": [
    "path = root / '3dshapes' / '3dshapes.h5'"
   ]
  },
  {
   "cell_type": "code",
   "execution_count": 9,
   "metadata": {},
   "outputs": [
    {
     "name": "stderr",
     "output_type": "stream",
     "text": [
      "C:\\Users\\anwan\\Anaconda3\\lib\\site-packages\\ipykernel_launcher.py:1: H5pyDeprecationWarning: The default file mode will change to 'r' (read-only) in h5py 3.0. To suppress this warning, pass the mode you need to h5py.File(), or set the global default h5.get_config().default_file_mode, or set the environment variable H5PY_DEFAULT_READONLY=1. Available modes are: 'r', 'r+', 'w', 'w-'/'x', 'a'. See the docs for details.\n",
      "  \"\"\"Entry point for launching an IPython kernel.\n"
     ]
    },
    {
     "data": {
      "text/plain": [
       "['images', 'labels', 'test_idx', 'train_idx']"
      ]
     },
     "execution_count": 9,
     "metadata": {},
     "output_type": "execute_result"
    }
   ],
   "source": [
    "f = hf.File(path)\n",
    "list(f.keys())"
   ]
  },
  {
   "cell_type": "code",
   "execution_count": 10,
   "metadata": {},
   "outputs": [
    {
     "data": {
      "text/plain": [
       "(384000, 96000)"
      ]
     },
     "execution_count": 10,
     "metadata": {},
     "output_type": "execute_result"
    }
   ],
   "source": [
    "train = f['train_idx'][()]\n",
    "test = f['test_idx'][()]\n",
    "len(train), len(test)"
   ]
  },
  {
   "cell_type": "code",
   "execution_count": 11,
   "metadata": {},
   "outputs": [
    {
     "data": {
      "text/plain": [
       "(480000, 6)"
      ]
     },
     "execution_count": 11,
     "metadata": {},
     "output_type": "execute_result"
    }
   ],
   "source": [
    "lbls = f['labels'][()]\n",
    "lbls.shape"
   ]
  },
  {
   "cell_type": "code",
   "execution_count": 12,
   "metadata": {},
   "outputs": [
    {
     "data": {
      "text/plain": [
       "(384000, 6)"
      ]
     },
     "execution_count": 12,
     "metadata": {},
     "output_type": "execute_result"
    }
   ],
   "source": [
    "train_lbls = lbls[train]\n",
    "train_lbls.shape"
   ]
  },
  {
   "cell_type": "code",
   "execution_count": 13,
   "metadata": {},
   "outputs": [
    {
     "data": {
      "text/plain": [
       "array([  0.  ,   0.  ,   0.  ,   0.75,   0.  , -30.  ])"
      ]
     },
     "execution_count": 13,
     "metadata": {},
     "output_type": "execute_result"
    }
   ],
   "source": [
    "train_lbls.min(0)"
   ]
  },
  {
   "cell_type": "code",
   "execution_count": 14,
   "metadata": {},
   "outputs": [
    {
     "data": {
      "text/plain": [
       "array([ 0.9 ,  0.9 ,  0.9 ,  1.25,  3.  , 30.  ])"
      ]
     },
     "execution_count": 14,
     "metadata": {},
     "output_type": "execute_result"
    }
   ],
   "source": [
    "train_lbls.max(0)"
   ]
  },
  {
   "cell_type": "code",
   "execution_count": null,
   "metadata": {},
   "outputs": [],
   "source": []
  },
  {
   "cell_type": "code",
   "execution_count": null,
   "metadata": {},
   "outputs": [],
   "source": []
  },
  {
   "cell_type": "code",
   "execution_count": 21,
   "metadata": {},
   "outputs": [
    {
     "data": {
      "text/plain": [
       "(10000, 6)"
      ]
     },
     "execution_count": 21,
     "metadata": {},
     "output_type": "execute_result"
    }
   ],
   "source": [
    "lbls = f['labels'][test[:1000]]\n",
    "lbls.shape"
   ]
  },
  {
   "cell_type": "code",
   "execution_count": 18,
   "metadata": {},
   "outputs": [
    {
     "data": {
      "text/plain": [
       "array([[  0.        ,   0.        ,   0.        ,   0.75      ,\n",
       "          0.        , -25.71428571],\n",
       "       [  0.        ,   0.        ,   0.        ,   0.75      ,\n",
       "          0.        , -12.85714286],\n",
       "       [  0.        ,   0.        ,   0.        ,   0.75      ,\n",
       "          1.        ,  -4.28571429],\n",
       "       [  0.        ,   0.        ,   0.        ,   0.75      ,\n",
       "          1.        ,   0.        ]])"
      ]
     },
     "execution_count": 18,
     "metadata": {},
     "output_type": "execute_result"
    }
   ],
   "source": [
    "lbls"
   ]
  },
  {
   "cell_type": "code",
   "execution_count": null,
   "metadata": {},
   "outputs": [],
   "source": []
  },
  {
   "cell_type": "code",
   "execution_count": null,
   "metadata": {},
   "outputs": [],
   "source": []
  },
  {
   "cell_type": "code",
   "execution_count": 10,
   "metadata": {},
   "outputs": [],
   "source": [
    "path = root / '3dshapes.h5'\n",
    "\n",
    "source_url = 'gs://3d-shapes/3dshapes.h5'"
   ]
  },
  {
   "cell_type": "code",
   "execution_count": 22,
   "metadata": {},
   "outputs": [],
   "source": [
    "cmd = ['gsutil', 'cp', source_url, str(path)]"
   ]
  },
  {
   "cell_type": "code",
   "execution_count": 23,
   "metadata": {},
   "outputs": [],
   "source": [
    "p = Popen(cmd, stdin=PIPE, stdout=PIPE, stderr=PIPE)\n",
    "# output, err = p.communicate(b\"input data that is passed to subprocess' stdin\")\n",
    "# rc = p.returncode"
   ]
  },
  {
   "cell_type": "code",
   "execution_count": 4,
   "metadata": {},
   "outputs": [],
   "source": [
    "# subprocess.run(['gsutil', 'cp', source_url, str(path)])"
   ]
  },
  {
   "cell_type": "code",
   "execution_count": null,
   "metadata": {},
   "outputs": [],
   "source": []
  },
  {
   "cell_type": "code",
   "execution_count": 5,
   "metadata": {},
   "outputs": [
    {
     "data": {
      "text/plain": [
       "WindowsPath('C:/Users/anwan/Documents/workspace/test_data/3dshapes.h5')"
      ]
     },
     "execution_count": 5,
     "metadata": {},
     "output_type": "execute_result"
    }
   ],
   "source": [
    "path = list(root.glob('*'))[0]\n",
    "path"
   ]
  },
  {
   "cell_type": "code",
   "execution_count": 6,
   "metadata": {},
   "outputs": [
    {
     "data": {
      "text/plain": [
       "<KeysViewHDF5 ['images', 'labels']>"
      ]
     },
     "execution_count": 6,
     "metadata": {},
     "output_type": "execute_result"
    }
   ],
   "source": [
    "f = hf.File(path, 'r')\n",
    "f.keys()"
   ]
  },
  {
   "cell_type": "code",
   "execution_count": 14,
   "metadata": {},
   "outputs": [
    {
     "data": {
      "text/plain": [
       "((480000, 64, 64, 3), (480000, 6))"
      ]
     },
     "execution_count": 14,
     "metadata": {},
     "output_type": "execute_result"
    }
   ],
   "source": [
    "imgs, lbls = f['images'][()], f['labels'][()]\n",
    "imgs.shape, lbls.shape"
   ]
  },
  {
   "cell_type": "code",
   "execution_count": 15,
   "metadata": {},
   "outputs": [],
   "source": [
    "im = f['images'][[1,2,4]]"
   ]
  },
  {
   "cell_type": "code",
   "execution_count": 19,
   "metadata": {},
   "outputs": [],
   "source": [
    "f.close()"
   ]
  },
  {
   "cell_type": "code",
   "execution_count": 18,
   "metadata": {},
   "outputs": [
    {
     "data": {
      "text/plain": [
       "'C:\\\\Users\\\\anwan\\\\OneDrive\\\\Khan\\\\research\\\\foundation\\\\omnilearn\\\\__init__.py'"
      ]
     },
     "execution_count": 18,
     "metadata": {},
     "output_type": "execute_result"
    }
   ],
   "source": [
    "learn.__file__"
   ]
  },
  {
   "cell_type": "code",
   "execution_count": 7,
   "metadata": {},
   "outputs": [
    {
     "data": {
      "text/plain": [
       "False"
      ]
     },
     "execution_count": 7,
     "metadata": {},
     "output_type": "execute_result"
    }
   ],
   "source": [
    "'train_idx' in f"
   ]
  },
  {
   "cell_type": "code",
   "execution_count": null,
   "metadata": {},
   "outputs": [],
   "source": []
  },
  {
   "cell_type": "code",
   "execution_count": null,
   "metadata": {},
   "outputs": [],
   "source": []
  },
  {
   "cell_type": "code",
   "execution_count": 2,
   "metadata": {
    "scrolled": true
   },
   "outputs": [
    {
     "name": "stdout",
     "output_type": "stream",
     "text": [
      "| [Pushed] run._type: 'run'\n",
      "| CREATING run (type=run)\n",
      "|  > silent: False (by default)\n",
      "|  > invisible: False (by default)\n",
      "|  > path: 'test-pycharm_210101-205647'\n",
      "|  > [Pushed] novel: False\n",
      "|  > override: {} (by default)\n",
      "|  > saveroot --> root: 'C:\\\\Users\\\\anwan\\\\Documents\\\\workspace\\\\trained_nets' (by default)\n",
      "Loading Config: C:\\Users\\anwan\\Documents\\workspace\\trained_nets\\test-pycharm_210101-205647\\config.yaml\n",
      "|  > ckpt-num: None (by default)\n",
      "|  > best: False (by default)\n",
      "|  > last: True (by default)\n",
      "|  > [Pushed] dataset._load-ckpt: 'C:\\\\Users\\\\anwan\\\\Documents\\\\workspace\\\\trained_nets\\\\test-pycharm_210101-205647\\\\ckpt2000'\n",
      "|  > [Pushed] model._load-ckpt: 'C:\\\\Users\\\\anwan\\\\Documents\\\\workspace\\\\trained_nets\\\\test-pycharm_210101-205647\\\\ckpt2000'\n",
      "|  > [Pushed] records._load-ckpt: 'C:\\\\Users\\\\anwan\\\\Documents\\\\workspace\\\\trained_nets\\\\test-pycharm_210101-205647\\\\ckpt2000'\n",
      "|  > CREATING clock (type=clock)\n",
      "|  >  > CREATING .stats (type=stats-manager)\n",
      "|  >  >  > stat-collection-fmts: {} (by default)\n",
      "|  >  >  > reset-modes [list with 2 item/s]\n",
      "|  >  >  >  > (0): 'val'\n",
      "|  >  >  >  > (1): 'test'\n",
      "|  >  >  > mode: 'train' (by default)\n",
      "|  >  >  > meter-info: [<class 'omnifig.config.ConfigDict'>]\n",
      "|  >  > stats-fmt: None (by default)\n",
      "|  >  > smooth-tau --> tau: 1\n",
      "|  >  > limit: None (by default)\n",
      "|  >  > timed-fmt: 'time-{}' (by default)\n",
      "|  > CREATING records (type=records)\n",
      "|  >  > include_zero: False (by default)\n",
      "|  >  > freq: 100\n",
      "|  >  > mode: 'train' (by default)\n",
      "|  >  > .seed: 0\n",
      "|  >  > _history: None (by default)\n",
      "|  >  > REUSING .stats (type=stats-manager): id=0x16a54694438\n",
      "|  >  > CREATING .logger (type=logger)\n",
      "|  >  >  > log_dir --> .path: 'C:\\\\Users\\\\anwan\\\\Documents\\\\workspace\\\\trained_nets\\\\test-pycharm_210101-205647'\n",
      "|  >  >  > tensorboard: True\n",
      "|  >  >  > txt: False (by default)\n",
      "|  >  >  > logfile: None (by default)\n",
      "|  >  >  > kwargs: {} (by default)\n",
      "|  >  > use_log_fmts: True (by default)\n",
      "|  >  > stats_format: 'json' (by default)\n",
      "|  >  > info_format: 'yaml' (by default)\n",
      "|  >  > log-smooth: True (by default)\n"
     ]
    },
    {
     "data": {
      "text/plain": [
       "RUN:test-pycharm_210101-205647"
      ]
     },
     "execution_count": 2,
     "metadata": {},
     "output_type": "execute_result"
    }
   ],
   "source": [
    "name = 'test-pycharm_210101-205647'\n",
    "# name = 'test-cmd_200816-180714'\n",
    "\n",
    "\n",
    "run = fig.quick_run('load-run', path=name)\n",
    "run"
   ]
  },
  {
   "cell_type": "code",
   "execution_count": 3,
   "metadata": {},
   "outputs": [
    {
     "name": "stdout",
     "output_type": "stream",
     "text": [
      "| CREATING .model (type=model)\n",
      "|  > _model_mod: [] (by default)\n",
      "|  > .seed: 0\n",
      "|  > CREATING . (type=simple)\n",
      "|  >  > CREATING net (type=multilayer)\n",
      "|  >  >  > final_din --> ..din [list with 3 item/s]\n",
      "|  >  >  >  > (0): 1\n",
      "|  >  >  >  > (1): 32\n",
      "|  >  >  >  > (2): 32\n",
      "|  >  >  > final_dout --> ..dout: 10\n",
      "|  >  >  > in_order: True (by default)\n",
      "|  >  >  > force_iter: True (by default)\n",
      "|  >  >  > ITERATOR layers [list with 4 item/s]\n",
      "|  >  >  > CREATING 0 (type=conv-layer)\n",
      "|  >  >  >  > in_shape --> din: (1, 32, 32)\n",
      "|  >  >  >  > ..channels: 32\n",
      "|  >  >  >  > out_shape --> dout: None\n",
      "|  >  >  >  > ..down: 2\n",
      "|  >  >  >  > pool: None (by default)\n",
      "|  >  >  >  > kernel_size --> kernel: (3, 3) (by default)\n",
      "|  >  >  >  > padding: 1 (by default)\n",
      "|  >  >  >  > dilation: (1, 1) (by default)\n",
      "|  >  >  >  > stride: (2, 2) (by default)\n",
      "|  >  >  >  > ...norm: None\n",
      "|  >  >  >  > ..nonlin: 'elu'\n",
      "|  >  >  >  > conv_kwargs: {} (by default)\n",
      "|  >  >  >  > residual: False (by default)\n",
      "|  >  >  >  > force_res: False (by default)\n",
      "|  >  >  >  > print_dims: False (by default)\n",
      "|  >  >  > CREATING .1 (type=conv-layer)\n",
      "|  >  >  >  > in_shape --> din: (32, 16, 16)\n",
      "|  >  >  >  > ..channels: 32\n",
      "|  >  >  >  > out_shape --> dout: None\n",
      "|  >  >  >  > ..down: 2\n",
      "|  >  >  >  > pool: None (by default)\n",
      "|  >  >  >  > kernel_size --> kernel: (3, 3) (by default)\n",
      "|  >  >  >  > padding: 1 (by default)\n",
      "|  >  >  >  > dilation: (1, 1) (by default)\n",
      "|  >  >  >  > stride: (2, 2) (by default)\n",
      "|  >  >  >  > ...norm: None\n",
      "|  >  >  >  > ..nonlin: 'elu'\n",
      "|  >  >  >  > conv_kwargs: {} (by default)\n",
      "|  >  >  >  > residual: False (by default)\n",
      "|  >  >  >  > force_res: False (by default)\n",
      "|  >  >  >  > print_dims: False (by default)\n",
      "|  >  >  > CREATING .2 (type=conv-layer)\n",
      "|  >  >  >  > in_shape --> din: (32, 8, 8)\n",
      "|  >  >  >  > ..channels: 32\n",
      "|  >  >  >  > out_shape --> dout: None\n",
      "|  >  >  >  > ..down: 2\n",
      "|  >  >  >  > pool: None (by default)\n",
      "|  >  >  >  > kernel_size --> kernel: (3, 3) (by default)\n",
      "|  >  >  >  > padding: 1 (by default)\n",
      "|  >  >  >  > dilation: (1, 1) (by default)\n",
      "|  >  >  >  > stride: (2, 2) (by default)\n",
      "|  >  >  >  > ...norm: None\n",
      "|  >  >  >  > ..nonlin: 'elu'\n",
      "|  >  >  >  > conv_kwargs: {} (by default)\n",
      "|  >  >  >  > residual: False (by default)\n",
      "|  >  >  >  > force_res: False (by default)\n",
      "|  >  >  >  > print_dims: False (by default)\n",
      "|  >  >  > CREATING .3 (type=conv-layer)\n",
      "|  >  >  >  > in_shape --> din: (32, 4, 4)\n",
      "|  >  >  >  > ..channels: 32\n",
      "|  >  >  >  > out_shape --> dout: None\n",
      "|  >  >  >  > ..down: 2\n",
      "|  >  >  >  > pool: None (by default)\n",
      "|  >  >  >  > kernel_size --> kernel: (3, 3) (by default)\n",
      "|  >  >  >  > padding: 1 (by default)\n",
      "|  >  >  >  > dilation: (1, 1) (by default)\n",
      "|  >  >  >  > stride: (2, 2) (by default)\n",
      "|  >  >  >  > ...norm: None\n",
      "|  >  >  >  > ..nonlin: 'elu'\n",
      "|  >  >  >  > conv_kwargs: {} (by default)\n",
      "|  >  >  >  > residual: False (by default)\n",
      "|  >  >  >  > force_res: False (by default)\n",
      "|  >  >  >  > print_dims: False (by default)\n",
      "|  >  >  > CREATING last (type=mlp)\n",
      "|  >  >  >  > input_dim --> din: (32, 2, 2)\n",
      "|  >  >  >  > output_dim --> dout: 10\n",
      "|  >  >  >  > hidden_dims --> hidden_fc --> hidden [list with 2 item/s]\n",
      "|  >  >  >  >  > (0): 64\n",
      "|  >  >  >  >  > (1): 32\n",
      "|  >  >  >  > .nonlin: 'elu'\n",
      "|  >  >  >  > output_nonlin --> out_nonlin: None (by default)\n",
      "|  >  >  >  > logify: False (by default)\n",
      "|  >  >  >  > unlogify: False (by default)\n",
      "|  >  >  >  > bias: True (by default)\n",
      "|  >  >  >  > output_bias --> out_bias: None (by default)\n",
      "|  >  > criterion: 'cross-entropy' (by default)\n",
      "|  >  > .seed: 0\n",
      "|  >  > strict_load_state: True (by default)\n",
      "|  >  > optim-metric: 'loss' (by default)\n",
      "|  >  > REUSING .stats (type=stats-manager): id=0x16a54694438\n",
      "|  >  > stats-fmt: None (by default)\n",
      "|  >  > smooth-tau --> tau: None (by default)\n",
      "|  >  > mode: 'train' (by default)\n",
      "|  >  > .din [list with 3 item/s]\n",
      "|  >  >  > (0): 1\n",
      "|  >  >  > (1): 32\n",
      "|  >  >  > (2): 32\n",
      "|  >  > .dout: 10\n",
      "|  >  > .device: 'cuda'\n",
      "|  > CREATING optim (type=adam)\n",
      "|  >  > CREATING lr (type=scheduler/cos)\n",
      "|  >  >  > trig: 'cos' (by default)\n",
      "|  >  >  > half-periods: 1 (by default)\n",
      "|  >  >  > value: 0.01\n",
      "|  >  >  > as-int: False (by default)\n",
      "|  >  >  > _ident --> __origin_key: 'lr'\n",
      "|  >  >  > include_zero: False\n",
      "|  >  >  > freq: 100\n",
      "|  >  >  > REUSING ...clock (type=clock): id=0x16a5468cbc8\n",
      "|  >  >  > start: 0 (by default)\n",
      "|  >  >  > stop: None (by default)\n",
      "|  >  >  > end_val --> end: 0.0001\n",
      "|  >  >  > limit --> ...budget: 2000\n",
      "|  >  >  > skew: 0.5\n",
      "|  >  >  > constrain-progress: False (by default)\n",
      "|  >  > beta1: 0.9 (by default)\n",
      "|  >  > beta2: 0.999 (by default)\n",
      "|  >  > eps: 1e-08 (by default)\n",
      "|  >  > weight_decay: 0.0001\n",
      "|  >  > amsgrad: False (by default)\n",
      "Simple_Model(\n",
      "  (net): MultiLayer(\n",
      "    (layers): ModuleList(\n",
      "      (0): ConvLayer(\n",
      "        residual=False\n",
      "        (conv): Conv2d(1, 32, kernel_size=(3, 3), stride=(2, 2), padding=(1, 1))\n",
      "        (nonlin): ELU(alpha=1.0, inplace=True)\n",
      "      )\n",
      "      (1): ConvLayer(\n",
      "        residual=False\n",
      "        (conv): Conv2d(32, 32, kernel_size=(3, 3), stride=(2, 2), padding=(1, 1))\n",
      "        (nonlin): ELU(alpha=1.0, inplace=True)\n",
      "      )\n",
      "      (2): ConvLayer(\n",
      "        residual=False\n",
      "        (conv): Conv2d(32, 32, kernel_size=(3, 3), stride=(2, 2), padding=(1, 1))\n",
      "        (nonlin): ELU(alpha=1.0, inplace=True)\n",
      "      )\n",
      "      (3): ConvLayer(\n",
      "        residual=False\n",
      "        (conv): Conv2d(32, 32, kernel_size=(3, 3), stride=(2, 2), padding=(1, 1))\n",
      "        (nonlin): ELU(alpha=1.0, inplace=True)\n",
      "      )\n",
      "      (4): MLP(\n",
      "        (0): Flatten(start_dim=1, end_dim=-1)\n",
      "        (1): Linear(in_features=128, out_features=64, bias=True)\n",
      "        (2): ELU(alpha=1.0, inplace=True)\n",
      "        (3): Linear(in_features=64, out_features=32, bias=True)\n",
      "        (4): ELU(alpha=1.0, inplace=True)\n",
      "        (5): Linear(in_features=32, out_features=10, bias=True)\n",
      "      )\n",
      "    )\n",
      "  )\n",
      "  (criterion): CrossEntropyLoss()\n",
      ")\n",
      "Adam (\n",
      "Parameter Group 0\n",
      "    amsgrad: False\n",
      "    betas: (0.9, 0.999)\n",
      "    eps: 1e-08\n",
      "    lr: 0.01\n",
      "    weight_decay: 0.0001\n",
      ")\n",
      "|  > _load-ckpt: 'C:\\\\Users\\\\anwan\\\\Documents\\\\workspace\\\\trained_nets\\\\test-pycharm_210101-205647\\\\ckpt2000'\n",
      "Loaded parameters from C:\\Users\\anwan\\Documents\\workspace\\trained_nets\\test-pycharm_210101-205647\\ckpt2000\n"
     ]
    },
    {
     "data": {
      "text/plain": [
       "Simple_Model(\n",
       "  (net): MultiLayer(\n",
       "    (layers): ModuleList(\n",
       "      (0): ConvLayer(\n",
       "        residual=False\n",
       "        (conv): Conv2d(1, 32, kernel_size=(3, 3), stride=(2, 2), padding=(1, 1))\n",
       "        (nonlin): ELU(alpha=1.0, inplace=True)\n",
       "      )\n",
       "      (1): ConvLayer(\n",
       "        residual=False\n",
       "        (conv): Conv2d(32, 32, kernel_size=(3, 3), stride=(2, 2), padding=(1, 1))\n",
       "        (nonlin): ELU(alpha=1.0, inplace=True)\n",
       "      )\n",
       "      (2): ConvLayer(\n",
       "        residual=False\n",
       "        (conv): Conv2d(32, 32, kernel_size=(3, 3), stride=(2, 2), padding=(1, 1))\n",
       "        (nonlin): ELU(alpha=1.0, inplace=True)\n",
       "      )\n",
       "      (3): ConvLayer(\n",
       "        residual=False\n",
       "        (conv): Conv2d(32, 32, kernel_size=(3, 3), stride=(2, 2), padding=(1, 1))\n",
       "        (nonlin): ELU(alpha=1.0, inplace=True)\n",
       "      )\n",
       "      (4): MLP(\n",
       "        (0): Flatten(start_dim=1, end_dim=-1)\n",
       "        (1): Linear(in_features=128, out_features=64, bias=True)\n",
       "        (2): ELU(alpha=1.0, inplace=True)\n",
       "        (3): Linear(in_features=64, out_features=32, bias=True)\n",
       "        (4): ELU(alpha=1.0, inplace=True)\n",
       "        (5): Linear(in_features=32, out_features=10, bias=True)\n",
       "      )\n",
       "    )\n",
       "  )\n",
       "  (criterion): CrossEntropyLoss()\n",
       ")"
      ]
     },
     "execution_count": 3,
     "metadata": {},
     "output_type": "execute_result"
    }
   ],
   "source": [
    "model = run.get_model()\n",
    "model"
   ]
  },
  {
   "cell_type": "code",
   "execution_count": 4,
   "metadata": {
    "scrolled": true
   },
   "outputs": [
    {
     "name": "stdout",
     "output_type": "stream",
     "text": [
      "| CREATING ...dataset (type=dataset)\n",
      "|  > [Pushed] dataroot: 'C:\\\\Users\\\\anwan\\\\Documents\\\\workspace\\\\local_data'\n",
      "|  > .num_workers: 0\n",
      "|  > batch_size: 128\n",
      "|  > shuffle: True\n",
      "|  > drop_last: False\n",
      "|  > .step_device --> .device: 'cuda'\n",
      "|  > infinite: False (by default)\n",
      "|  > extractor: None (by default)\n",
      "|  > allow_batched: True (by default)\n",
      "|  > split [dict with 1 item/s]\n",
      "|  >  > (val): 0.1666666\n",
      "|  > shuffle-split: True (by default)\n",
      "|  > split-src: 'train' (by default)\n",
      "|  > _dataset_type --> ident --> name: 'mnist'\n",
      "|  > _dataset_mod: [] (by default)\n",
      "|  > default_mode --> mode: 'train' (by default)\n",
      "|  > .seed: 0\n",
      "|  > .din [list with 3 item/s]\n",
      "|  >  > (0): 1\n",
      "|  >  > (1): 32\n",
      "|  >  > (2): 32\n",
      "|  > .dout: 10\n",
      "|  > mode: 'train'\n",
      "|  > device: 'cpu'\n",
      "|  > pin_memory: True (by default)\n",
      "|  > epoch_seed --> .seed: 0\n",
      "|  > skip_load: False (by default)\n",
      "|  > CREATING . (type=dataset/mnist)\n",
      "|  >  > dataroot: 'C:\\\\Users\\\\anwan\\\\Documents\\\\workspace\\\\local_data'\n",
      "|  >  > download: False\n",
      "|  >  > mode: 'train'\n",
      "|  >  > train: True (by default)\n",
      "|  >  > labeled: True\n",
      "|  >  > resize: True (by default)\n",
      "|  >  > device: 'cpu'\n",
      "|  >  > dataroot: 'C:\\\\Users\\\\anwan\\\\Documents\\\\workspace\\\\local_data'\n",
      "|  >  > .din [list with 3 item/s]\n",
      "|  >  >  > (0): 1\n",
      "|  >  >  > (1): 32\n",
      "|  >  >  > (2): 32\n",
      "|  >  > .dout: 10\n"
     ]
    },
    {
     "name": "stderr",
     "output_type": "stream",
     "text": [
      "C:\\Users\\anwan\\anaconda3\\lib\\site-packages\\torch\\nn\\functional.py:3063: UserWarning: Default upsampling behavior when mode=bilinear is changed to align_corners=False since 0.4.0. Please specify align_corners=True if the old behavior is desired. See the documentation of nn.Upsample for details.\n",
      "  \"See the documentation of nn.Upsample for details.\".format(mode))\n"
     ]
    }
   ],
   "source": [
    "dataset = run.get_dataset()\n",
    "dataset.switch_to('val')"
   ]
  },
  {
   "cell_type": "code",
   "execution_count": 5,
   "metadata": {},
   "outputs": [
    {
     "data": {
      "text/plain": [
       "10000"
      ]
     },
     "execution_count": 5,
     "metadata": {},
     "output_type": "execute_result"
    }
   ],
   "source": [
    "len(dataset)"
   ]
  },
  {
   "cell_type": "code",
   "execution_count": 8,
   "metadata": {},
   "outputs": [
    {
     "data": {
      "text/plain": [
       "'cuda'"
      ]
     },
     "execution_count": 8,
     "metadata": {},
     "output_type": "execute_result"
    }
   ],
   "source": [
    "batch = dataset.get_batch(device='cuda', batch_size=16)\n",
    "batch.device"
   ]
  },
  {
   "cell_type": "code",
   "execution_count": 9,
   "metadata": {},
   "outputs": [
    {
     "data": {
      "text/plain": [
       "(torch.Size([16, 1, 32, 32]), torch.Size([16]))"
      ]
     },
     "execution_count": 9,
     "metadata": {},
     "output_type": "execute_result"
    }
   ],
   "source": [
    "x,y = batch\n",
    "# x, y = dataset[:16]\n",
    "x.shape,y.shape"
   ]
  },
  {
   "cell_type": "code",
   "execution_count": 10,
   "metadata": {},
   "outputs": [
    {
     "data": {
      "image/png": "[encoded data removed]",
      "text/plain": [
       "<Figure size 288x288 with 16 Axes>"
      ]
     },
     "metadata": {
      "needs_background": "light"
     },
     "output_type": "display_data"
    }
   ],
   "source": [
    "util.show_imgs(x)\n",
    "pass"
   ]
  },
  {
   "cell_type": "code",
   "execution_count": 11,
   "metadata": {},
   "outputs": [
    {
     "data": {
      "text/plain": [
       "tensor([[ -1.5337,  14.5919,  -0.8643,  -2.2334,   2.3280,  -1.1418,  -0.8762,  -0.0673,   0.0700,  -0.0286],\n",
       "        [  3.0704,   1.9342,  -7.3945,  -5.7670,   0.5566,   3.7781,  15.4643,  -6.8459,  -0.9463,  -6.0409],\n",
       "        [ -1.1086,  -1.5420,  -0.0260,   1.9066,  -0.2900,   0.2199,  -1.5803,  -2.4479,  11.0436,   0.0834],\n",
       "        [ -1.1137,  -1.6419,   2.7132,   1.0800,  -0.6695,  -2.6145,  -5.7460,   7.2278,  -1.5436,  -0.2688],\n",
       "        [ -1.4902,  10.8545,  -0.7298,  -1.0958,   2.6491,  -1.0535,  -2.6165,   1.9898,  -0.0337,   1.2376],\n",
       "        [ -7.9291,  -1.2377,  -2.2548,  -3.3297,  14.8150,  -2.7614,  -0.9944,  -1.8165,   1.2048,   0.4605],\n",
       "        [ -0.8785,  -2.2396,  12.8958,   2.6297,  -0.3582,  -2.0306,  -4.1083,   4.1778,   1.0328,  -2.8605],\n",
       "        [ -3.0447,  -3.1920,  -0.4444,  -2.5937,   7.0884,  -1.0311,  -0.6881,  -1.6629,  -1.8014,   1.6009],\n",
       "        [-11.6971,  -1.1610,  -3.3830,  17.8660, -10.9078,   4.3356, -15.1093,   0.0547,  -5.8431,  -1.4804],\n",
       "        [  1.2297,   1.3221,  -6.3590,  -5.4349,   0.2330,   3.7613,  13.4202,  -6.5964,   1.1059,  -6.1045],\n",
       "        [ -5.8383,  -6.8603,  -5.5987,   1.0268,   0.4485,  -2.2802, -10.7207,  -1.0735,  -1.5648,  11.2754],\n",
       "        [ -3.0765,  -0.5638,  -1.9559,   4.5281,  -0.8522,  -6.2703, -14.5695,  18.6836,  -5.0245,   4.6887],\n",
       "        [ -6.1803,  -8.2251,  -6.8716,   1.3612,  -0.5377,  -1.8427, -11.8750,  -1.3682,  -3.0126,  12.4998],\n",
       "        [ -2.0561,  -0.5018,  -2.1254,   3.3219,  -0.2965,  -4.9548, -11.8655,  15.0695,  -4.7489,   3.5328],\n",
       "        [ -5.5049,  -7.3718,  -5.1350,   0.9287,   0.4724,  -1.9749, -10.3345,  -1.7609,  -1.6993,  10.6204],\n",
       "        [  7.4182,  -6.9639,  -1.1469,  -0.5727,  -0.6096,   0.2203,   1.6822,  -4.3689,   1.0260,   0.8948]],\n",
       "       device='cuda:0')"
      ]
     },
     "execution_count": 11,
     "metadata": {},
     "output_type": "execute_result"
    }
   ],
   "source": [
    "with torch.no_grad():\n",
    "    pred = model(x)\n",
    "pred"
   ]
  },
  {
   "cell_type": "code",
   "execution_count": 13,
   "metadata": {},
   "outputs": [
    {
     "data": {
      "text/plain": [
       "tensor([1, 6, 8, 7, 1, 4, 2, 4, 3, 6, 9, 7, 9, 7, 9, 0], device='cuda:0')"
      ]
     },
     "execution_count": 13,
     "metadata": {},
     "output_type": "execute_result"
    }
   ],
   "source": [
    "pred.max(-1)[1]"
   ]
  },
  {
   "cell_type": "code",
   "execution_count": null,
   "metadata": {},
   "outputs": [],
   "source": []
  },
  {
   "cell_type": "code",
   "execution_count": null,
   "metadata": {},
   "outputs": [],
   "source": []
  },
  {
   "cell_type": "code",
   "execution_count": null,
   "metadata": {},
   "outputs": [],
   "source": []
  },
  {
   "cell_type": "code",
   "execution_count": null,
   "metadata": {},
   "outputs": [],
   "source": []
  }
 ],
 "metadata": {
  "kernelspec": {
   "display_name": "Python 3",
   "language": "python",
   "name": "python3"
  },
  "language_info": {
   "codemirror_mode": {
    "name": "ipython",
    "version": 3
   },
   "file_extension": ".py",
   "mimetype": "text/x-python",
   "name": "python",
   "nbconvert_exporter": "python",
   "pygments_lexer": "ipython3",
   "version": "3.7.6"
  }
 },
 "nbformat": 4,
 "nbformat_minor": 4
}
