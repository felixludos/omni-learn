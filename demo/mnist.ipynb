{
 "cells": [
  {
   "cell_type": "code",
   "execution_count": 1,
   "metadata": {},
   "outputs": [],
   "source": [
    "# import os\n",
    "# if '_cwd_set' not in locals(): locals()['_cwd_set'] = os.chdir(os.path.dirname(os.getcwd()))\n",
    "import omnifig as fig\n",
    "fig.initialize()\n",
    "from src.jimports import *"
   ]
  },
  {
   "metadata": {
    "ExecuteTime": {
     "end_time": "2024-11-19T13:52:07.297721Z",
     "start_time": "2024-11-19T13:52:07.096311Z"
    }
   },
   "cell_type": "code",
   "source": "import numpy as np",
   "outputs": [],
   "execution_count": 1
  },
  {
   "metadata": {
    "ExecuteTime": {
     "end_time": "2024-11-19T13:52:37.168286Z",
     "start_time": "2024-11-19T13:52:37.157069Z"
    }
   },
   "cell_type": "code",
   "source": "int(np.prod(()).item())",
   "outputs": [
    {
     "data": {
      "text/plain": [
       "1"
      ]
     },
     "execution_count": 5,
     "metadata": {},
     "output_type": "execute_result"
    }
   ],
   "execution_count": 5
  },
  {
   "cell_type": "code",
   "execution_count": 2,
   "metadata": {},
   "outputs": [],
   "source": [
    "from src.op import MNIST"
   ]
  },
  {
   "cell_type": "code",
   "execution_count": 3,
   "metadata": {},
   "outputs": [],
   "source": [
    "dataset = MNIST().load()"
   ]
  },
  {
   "cell_type": "code",
   "execution_count": 4,
   "metadata": {},
   "outputs": [
    {
     "data": {
      "text/plain": [
       "MNIST(image, label)"
      ]
     },
     "execution_count": 4,
     "metadata": {},
     "output_type": "execute_result"
    }
   ],
   "source": [
    "dataset"
   ]
  },
  {
   "cell_type": "code",
   "execution_count": 5,
   "metadata": {},
   "outputs": [
    {
     "data": {
      "text/plain": [
       "torch.Size([10, 28, 28])"
      ]
     },
     "execution_count": 5,
     "metadata": {},
     "output_type": "execute_result"
    }
   ],
   "source": [
    "batch = dataset.batch(10)\n",
    "batch['image'].shape"
   ]
  },
  {
   "cell_type": "code",
   "execution_count": 10,
   "metadata": {},
   "outputs": [
    {
     "data": {
      "text/plain": [
       "Batch(index, image, label, {size}, {num_iterations}, {drawn_batches}, {drawn_samples}, {epochs}, {epoch_seed}, {epoch_offset})"
      ]
     },
     "execution_count": 10,
     "metadata": {},
     "output_type": "execute_result"
    }
   ],
   "source": [
    "batch"
   ]
  },
  {
   "cell_type": "code",
   "execution_count": 8,
   "metadata": {},
   "outputs": [],
   "source": [
    "mnist = dataset._dataset"
   ]
  },
  {
   "cell_type": "code",
   "execution_count": 12,
   "metadata": {},
   "outputs": [
    {
     "data": {
      "text/plain": [
       "torch.Size([60000])"
      ]
     },
     "execution_count": 12,
     "metadata": {},
     "output_type": "execute_result"
    }
   ],
   "source": [
    "mnist.targets.shape"
   ]
  },
  {
   "cell_type": "code",
   "execution_count": 36,
   "metadata": {},
   "outputs": [],
   "source": [
    "def format_value(val: float, width: int) -> str:\n",
    "    import math\n",
    "\n",
    "    if width < 1:\n",
    "        raise ValueError(\"Width must be at least 1.\")\n",
    "\n",
    "    # Determine the sign and adjust width accordingly\n",
    "    sign = '-' if val < 0 else ' '\n",
    "    number_width = width - 1  # Account for the sign character\n",
    "\n",
    "    abs_val = abs(val)\n",
    "\n",
    "    # Try fixed-point notation\n",
    "    integer_part = int(abs_val)\n",
    "    integer_part_str = str(integer_part)\n",
    "    integer_part_length = len(integer_part_str)\n",
    "\n",
    "    if integer_part_length <= number_width:\n",
    "        # Calculate available space for decimal places\n",
    "        decimal_places = number_width - integer_part_length - (1 if integer_part_length < number_width else 0)\n",
    "        format_str = f\"{{:0{number_width}.{decimal_places}f}}\"\n",
    "        formatted_number = format_str.format(abs_val)\n",
    "        if len(formatted_number) <= number_width:\n",
    "            formatted = sign + formatted_number\n",
    "            if len(formatted) == width:\n",
    "                return formatted\n",
    "    # Scientific notation\n",
    "    if abs_val == 0:\n",
    "        exponent = 0\n",
    "    else:\n",
    "        exponent = int(math.floor(math.log10(abs_val)))\n",
    "    mantissa = abs_val / (10 ** exponent)\n",
    "\n",
    "    # Available space for mantissa and exponent\n",
    "    exponent_str = f\"e{exponent}\" if exponent >= 0 else f\"e-{abs(exponent)}\"\n",
    "    exponent_length = len(exponent_str)\n",
    "    mantissa_width = number_width - exponent_length\n",
    "    if mantissa_width < 1:\n",
    "        raise ValueError(f\"Cannot format value {val} in width {width}\")\n",
    "\n",
    "    for decimal_places in range(mantissa_width, -1, -1):\n",
    "        mantissa_rounded = round(mantissa, decimal_places)\n",
    "        # Adjust mantissa and exponent if mantissa_rounded >= 10\n",
    "        if mantissa_rounded >= 10:\n",
    "            mantissa_rounded /= 10\n",
    "            exponent += 1\n",
    "            exponent_str = f\"e{exponent}\" if exponent >= 0 else f\"e-{abs(exponent)}\"\n",
    "            exponent_length = len(exponent_str)\n",
    "            mantissa_width = number_width - exponent_length\n",
    "            if mantissa_width < 1:\n",
    "                continue  # Not enough width, try next decimal_places\n",
    "\n",
    "        if decimal_places > 0:\n",
    "            mantissa_format = f\"{{:.{decimal_places}f}}\"\n",
    "            mantissa_str = mantissa_format.format(mantissa_rounded)\n",
    "        else:\n",
    "            mantissa_rounded_int = int(round(mantissa_rounded))\n",
    "            mantissa_str = f\"{mantissa_rounded_int}\"\n",
    "            if mantissa_width >= len(mantissa_str) + 1:\n",
    "                mantissa_str += '.'\n",
    "        mantissa_str_length = len(mantissa_str)\n",
    "        if mantissa_str_length <= mantissa_width:\n",
    "            formatted = sign + mantissa_str + exponent_str\n",
    "            if len(formatted) == width:\n",
    "                return formatted\n",
    "    raise ValueError(f\"Cannot format value {val} in width {width}\")\n"
   ]
  },
  {
   "cell_type": "code",
   "execution_count": 37,
   "metadata": {},
   "outputs": [
    {
     "name": "stdout",
     "output_type": "stream",
     "text": [
      "Test case format_value(3e-05,7) failed: got ' 0.0000', expected ' 3.0e-5'\n",
      "Test case format_value(-3e-05,7) failed: got '-0.0000', expected '-3.0e-5'\n",
      "Test case format_value(0.0,3) failed: got ' 00', expected ' 0.0'\n",
      "Test case format_value(-0.0,3) failed: got ' 00', expected ' 0.0'\n",
      "Test case format_value(0.0,5) failed: got ' 0.00', expected ' 0.000'\n",
      "Test case format_value(-0.0,5) failed: got ' 0.00', expected ' 0.000'\n",
      "Test case format_value(1234567,7) failed: got ' 1.23e6', expected 'ValueError'\n",
      "Test case format_value(99999.9,7) failed: got ' 100000', expected ' 99999.'\n",
      "Test case format_value(123.456,7) failed: got ' 123.46', expected ' 123.456'\n",
      "Test case format_value(123.456,6) failed: got ' 123.5', expected ' 123.46'\n",
      "Test case format_value(123.456,5) failed: got ' 0123', expected ' 123.5'\n",
      "Test case 36 failed: got ValueError Cannot format value 123.456 in width 3, expected '1.2e2'\n",
      "Test case format_value(6.604e+19,6) failed: got ' 7.e19', expected ' 7.e16'\n"
     ]
    }
   ],
   "source": [
    "# Function to run a test case\n",
    "def run_test(val, width, expected, test_case_number):\n",
    "    try:\n",
    "        formatted = format_value(val, width)\n",
    "        if formatted != expected:\n",
    "            print(f\"Test case format_value({val},{width}) failed: got {formatted!r}, expected {expected!r}\")\n",
    "        else:\n",
    "            pass  # Test passed\n",
    "    except ValueError as e:\n",
    "        if expected == 'ValueError':\n",
    "            pass  # Expected ValueError\n",
    "        else:\n",
    "            print(f\"Test case {test_case_number} failed: got ValueError {e}, expected {expected!r}\")\n",
    "\n",
    "# Test positive numbers\n",
    "run_test(1.32, 6, \" 1.320\", 1)\n",
    "run_test(10000, 6, \" 10000\", 2)\n",
    "run_test(100003, 6, \" 1.0e5\", 3)\n",
    "run_test(100003, 5, \" 1.e5\", 4)\n",
    "run_test(100003, 4, \" 1e5\", 5)\n",
    "run_test(100003, 3, 'ValueError', 6)\n",
    "run_test(0.00003, 8, \" 0.00003\", 7)\n",
    "run_test(0.00003, 7, \" 3.0e-5\", 8)\n",
    "run_test(0.003, 6, \" 0.003\", 9)\n",
    "run_test(123456, 7, \" 123456\", 10)\n",
    "\n",
    "# Test negative numbers\n",
    "run_test(-1.32, 6, \"-1.320\", 11)\n",
    "run_test(-10000, 6, \"-10000\", 12)\n",
    "run_test(-100003, 6, \"-1.0e5\", 13)\n",
    "run_test(-100003, 5, \"-1.e5\", 14)\n",
    "run_test(-100003, 4, \"-1e5\", 15)\n",
    "run_test(-100003, 3, 'ValueError', 16)\n",
    "run_test(-0.00003, 8, \"-0.00003\", 17)\n",
    "run_test(-0.00003, 7, \"-3.0e-5\", 18)\n",
    "run_test(-0.003, 6, \"-0.003\", 19)\n",
    "run_test(-123456, 7, \"-123456\", 20)\n",
    "\n",
    "# Test zero\n",
    "run_test(0.0, 3, \" 0.0\", 21)\n",
    "run_test(-0.0, 3, \" 0.0\", 22)\n",
    "run_test(0.0, 5, \" 0.000\", 23)\n",
    "run_test(-0.0, 5, \" 0.000\", 24)\n",
    "\n",
    "# Test edge cases\n",
    "run_test(100003, 3, 'ValueError', 25)\n",
    "run_test(-100003, 3, 'ValueError', 26)\n",
    "run_test(1234567, 7, 'ValueError', 27)\n",
    "run_test(99999, 6, \" 99999\", 28)\n",
    "run_test(-99999, 6, \"-99999\", 29)\n",
    "run_test(99999.9, 7, \" 99999.\", 30)\n",
    "run_test(0.0001, 6, \" 0.000\", 31)\n",
    "\n",
    "# Test various widths\n",
    "run_test(123.456, 7, \" 123.456\", 32)\n",
    "run_test(123.456, 6, \" 123.46\", 33)\n",
    "run_test(123.456, 5, \" 123.5\", 34)\n",
    "run_test(123.456, 4, \" 123\", 35)\n",
    "run_test(123.456, 3, \"1.2e2\", 36)\n",
    "run_test(123.456, 2, 'ValueError', 37)\n",
    "\n",
    "# format_value(6604e16, 6)\n",
    "run_test(6604e16, 6, ' 7.e16', 38)\n",
    "\n",
    "# Test length assertion\n",
    "test_case_number = 38\n",
    "for width in range(3, 10):\n",
    "    for val in [0.12345, -0.12345, 12345.6789, -12345.6789]:\n",
    "        try:\n",
    "            formatted = format_value(val, width)\n",
    "            if len(formatted) != width:\n",
    "                print(f\"Test case {test_case_number} failed: val={val}, width={width}, got length {len(formatted)}, expected {width}, formatted value: {formatted!r}\")\n",
    "            test_case_number += 1\n",
    "        except ValueError:\n",
    "            test_case_number += 1  # Expected for widths that are too small\n",
    "\n"
   ]
  },
  {
   "cell_type": "code",
   "execution_count": 38,
   "metadata": {},
   "outputs": [
    {
     "data": {
      "text/plain": [
       "' 7.e19'"
      ]
     },
     "execution_count": 38,
     "metadata": {},
     "output_type": "execute_result"
    }
   ],
   "source": [
    "format_value(6604e16, 6)"
   ]
  },
  {
   "cell_type": "code",
   "execution_count": 43,
   "metadata": {},
   "outputs": [
    {
     "data": {
      "text/plain": [
       "' 3.142'"
      ]
     },
     "execution_count": 43,
     "metadata": {},
     "output_type": "execute_result"
    }
   ],
   "source": [
    "format_value(np.pi, 6)"
   ]
  },
  {
   "cell_type": "code",
   "execution_count": 53,
   "metadata": {},
   "outputs": [
    {
     "name": "stdout",
     "output_type": "stream",
     "text": [
      "1.2 GB\n"
     ]
    }
   ],
   "source": [
    "from humanize import naturalsize\n",
    "\n",
    "print(naturalsize(1234567890))"
   ]
  },
  {
   "cell_type": "code",
   "execution_count": 59,
   "metadata": {},
   "outputs": [
    {
     "data": {
      "text/plain": [
       "'5G'"
      ]
     },
     "execution_count": 59,
     "metadata": {},
     "output_type": "execute_result"
    }
   ],
   "source": []
  },
  {
   "cell_type": "code",
   "execution_count": 57,
   "metadata": {},
   "outputs": [
    {
     "name": "stdout",
     "output_type": "stream",
     "text": [
      "\u001B[1;31mSignature:\u001B[0m\n",
      "\u001B[0mnaturalsize\u001B[0m\u001B[1;33m(\u001B[0m\u001B[1;33m\n",
      "\u001B[0m    \u001B[0mvalue\u001B[0m\u001B[1;33m:\u001B[0m \u001B[1;34m'float | str'\u001B[0m\u001B[1;33m,\u001B[0m\u001B[1;33m\n",
      "\u001B[0m    \u001B[0mbinary\u001B[0m\u001B[1;33m:\u001B[0m \u001B[1;34m'bool'\u001B[0m \u001B[1;33m=\u001B[0m \u001B[1;32mFalse\u001B[0m\u001B[1;33m,\u001B[0m\u001B[1;33m\n",
      "\u001B[0m    \u001B[0mgnu\u001B[0m\u001B[1;33m:\u001B[0m \u001B[1;34m'bool'\u001B[0m \u001B[1;33m=\u001B[0m \u001B[1;32mFalse\u001B[0m\u001B[1;33m,\u001B[0m\u001B[1;33m\n",
      "\u001B[0m    \u001B[0mformat\u001B[0m\u001B[1;33m:\u001B[0m \u001B[1;34m'str'\u001B[0m \u001B[1;33m=\u001B[0m \u001B[1;34m'%.1f'\u001B[0m\u001B[1;33m,\u001B[0m\u001B[1;33m\n",
      "\u001B[0m\u001B[1;33m)\u001B[0m \u001B[1;33m->\u001B[0m \u001B[1;34m'str'\u001B[0m\u001B[1;33m\u001B[0m\u001B[1;33m\u001B[0m\u001B[0m\n",
      "\u001B[1;31mDocstring:\u001B[0m\n",
      "Format a number of bytes like a human-readable filesize (e.g. 10 kB).\n",
      "\n",
      "By default, decimal suffixes (kB, MB) are used.\n",
      "\n",
      "Non-GNU modes are compatible with jinja2's `filesizeformat` filter.\n",
      "\n",
      "Examples:\n",
      "    ```pycon\n",
      "    >>> naturalsize(3000000)\n",
      "    '3.0 MB'\n",
      "    >>> naturalsize(300, False, True)\n",
      "    '300B'\n",
      "    >>> naturalsize(3000, False, True)\n",
      "    '2.9K'\n",
      "    >>> naturalsize(3000, False, True, \"%.3f\")\n",
      "    '2.930K'\n",
      "    >>> naturalsize(3000, True)\n",
      "    '2.9 KiB'\n",
      "    >>> naturalsize(10**28)\n",
      "    '10.0 RB'\n",
      "    >>> naturalsize(10**34 * 3)\n",
      "    '30000.0 QB'\n",
      "    >>> naturalsize(-4096, True)\n",
      "    '-4.0 KiB'\n",
      "\n",
      "    ```\n",
      "\n",
      "Args:\n",
      "    value (int, float, str): Integer to convert.\n",
      "    binary (bool): If `True`, uses binary suffixes (KiB, MiB) with base\n",
      "        2<sup>10</sup> instead of 10<sup>3</sup>.\n",
      "    gnu (bool): If `True`, the binary argument is ignored and GNU-style\n",
      "        (`ls -sh` style) prefixes are used (K, M) with the 2**10 definition.\n",
      "    format (str): Custom formatter.\n",
      "\n",
      "Returns:\n",
      "    str: Human readable representation of a filesize.\n",
      "\u001B[1;31mFile:\u001B[0m      c:\\users\\anwan\\miniconda3\\lib\\site-packages\\humanize\\filesize.py\n",
      "\u001B[1;31mType:\u001B[0m      function"
     ]
    }
   ],
   "source": [
    "naturalsize?"
   ]
  },
  {
   "cell_type": "code",
   "execution_count": 2,
   "metadata": {},
   "outputs": [],
   "source": [
    "# import mnist\n",
    "import numpy as np\n",
    "import matplotlib.pyplot as plt\n",
    "import torch\n",
    "import torch.nn as nn\n",
    "from torchvision import datasets, transforms"
   ]
  },
  {
   "cell_type": "code",
   "execution_count": 3,
   "metadata": {},
   "outputs": [
    {
     "name": "stdout",
     "output_type": "stream",
     "text": [
      "Downloading http://yann.lecun.com/exdb/mnist/train-images-idx3-ubyte.gz\n",
      "Failed to download (trying next):\n",
      "<urlopen error [SSL: CERTIFICATE_VERIFY_FAILED] certificate verify failed: certificate has expired (_ssl.c:1000)>\n",
      "\n",
      "Downloading https://ossci-datasets.s3.amazonaws.com/mnist/train-images-idx3-ubyte.gz\n",
      "Downloading https://ossci-datasets.s3.amazonaws.com/mnist/train-images-idx3-ubyte.gz to data\\MNIST\\raw\\train-images-idx3-ubyte.gz\n"
     ]
    },
    {
     "name": "stderr",
     "output_type": "stream",
     "text": [
      "100%|██████████| 9.91M/9.91M [00:46<00:00, 212kB/s] \n"
     ]
    },
    {
     "name": "stdout",
     "output_type": "stream",
     "text": [
      "Extracting data\\MNIST\\raw\\train-images-idx3-ubyte.gz to data\\MNIST\\raw\n",
      "\n",
      "Downloading http://yann.lecun.com/exdb/mnist/train-labels-idx1-ubyte.gz\n",
      "Failed to download (trying next):\n",
      "<urlopen error [SSL: CERTIFICATE_VERIFY_FAILED] certificate verify failed: certificate has expired (_ssl.c:1000)>\n",
      "\n",
      "Downloading https://ossci-datasets.s3.amazonaws.com/mnist/train-labels-idx1-ubyte.gz\n",
      "Downloading https://ossci-datasets.s3.amazonaws.com/mnist/train-labels-idx1-ubyte.gz to data\\MNIST\\raw\\train-labels-idx1-ubyte.gz\n"
     ]
    },
    {
     "name": "stderr",
     "output_type": "stream",
     "text": [
      "100%|██████████| 28.9k/28.9k [00:00<00:00, 175kB/s]\n"
     ]
    },
    {
     "name": "stdout",
     "output_type": "stream",
     "text": [
      "Extracting data\\MNIST\\raw\\train-labels-idx1-ubyte.gz to data\\MNIST\\raw\n",
      "\n",
      "Downloading http://yann.lecun.com/exdb/mnist/t10k-images-idx3-ubyte.gz\n",
      "Failed to download (trying next):\n",
      "<urlopen error [SSL: CERTIFICATE_VERIFY_FAILED] certificate verify failed: certificate has expired (_ssl.c:1000)>\n",
      "\n",
      "Downloading https://ossci-datasets.s3.amazonaws.com/mnist/t10k-images-idx3-ubyte.gz\n",
      "Downloading https://ossci-datasets.s3.amazonaws.com/mnist/t10k-images-idx3-ubyte.gz to data\\MNIST\\raw\\t10k-images-idx3-ubyte.gz\n"
     ]
    },
    {
     "name": "stderr",
     "output_type": "stream",
     "text": [
      "100%|██████████| 1.65M/1.65M [00:29<00:00, 55.4kB/s]\n"
     ]
    },
    {
     "name": "stdout",
     "output_type": "stream",
     "text": [
      "Extracting data\\MNIST\\raw\\t10k-images-idx3-ubyte.gz to data\\MNIST\\raw\n",
      "\n",
      "Downloading http://yann.lecun.com/exdb/mnist/t10k-labels-idx1-ubyte.gz\n",
      "Failed to download (trying next):\n",
      "<urlopen error [SSL: CERTIFICATE_VERIFY_FAILED] certificate verify failed: certificate has expired (_ssl.c:1000)>\n",
      "\n",
      "Downloading https://ossci-datasets.s3.amazonaws.com/mnist/t10k-labels-idx1-ubyte.gz\n",
      "Downloading https://ossci-datasets.s3.amazonaws.com/mnist/t10k-labels-idx1-ubyte.gz to data\\MNIST\\raw\\t10k-labels-idx1-ubyte.gz\n"
     ]
    },
    {
     "name": "stderr",
     "output_type": "stream",
     "text": [
      "100%|██████████| 4.54k/4.54k [00:00<00:00, 2.13MB/s]"
     ]
    },
    {
     "name": "stdout",
     "output_type": "stream",
     "text": [
      "Extracting data\\MNIST\\raw\\t10k-labels-idx1-ubyte.gz to data\\MNIST\\raw\n",
      "\n"
     ]
    },
    {
     "name": "stderr",
     "output_type": "stream",
     "text": [
      "\n"
     ]
    },
    {
     "data": {
      "text/plain": [
       "60000"
      ]
     },
     "execution_count": 3,
     "metadata": {},
     "output_type": "execute_result"
    }
   ],
   "source": [
    "mnist = datasets.MNIST('data', train=True, download=True, \n",
    "                       transform=transforms.Compose([\n",
    "                            transforms.ToTensor(),\n",
    "                            transforms.Normalize((0.5,), (0.5,))\n",
    "                          ]))\n",
    "len(mnist)"
   ]
  },
  {
   "cell_type": "code",
   "execution_count": 5,
   "metadata": {},
   "outputs": [
    {
     "data": {
      "text/plain": [
       "torch.Size([60000, 28, 28])"
      ]
     },
     "execution_count": 5,
     "metadata": {},
     "output_type": "execute_result"
    }
   ],
   "source": [
    "mnist.data.shape"
   ]
  },
  {
   "cell_type": "code",
   "execution_count": null,
   "metadata": {},
   "outputs": [],
   "source": []
  },
  {
   "cell_type": "code",
   "execution_count": null,
   "metadata": {},
   "outputs": [],
   "source": []
  }
 ],
 "metadata": {
  "kernelspec": {
   "display_name": "base",
   "language": "python",
   "name": "python3"
  },
  "language_info": {
   "codemirror_mode": {
    "name": "ipython",
    "version": 3
   },
   "file_extension": ".py",
   "mimetype": "text/x-python",
   "name": "python",
   "nbconvert_exporter": "python",
   "pygments_lexer": "ipython3",
   "version": "3.12.4"
  }
 },
 "nbformat": 4,
 "nbformat_minor": 2
}
