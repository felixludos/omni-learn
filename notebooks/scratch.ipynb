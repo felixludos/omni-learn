{
 "cells": [
  {
   "cell_type": "code",
   "execution_count": 1,
   "id": "a2d1d48d",
   "metadata": {},
   "outputs": [],
   "source": [
    "import os\n",
    "if '_fixed' not in locals():\n",
    "    _fixed = os.chdir(os.path.dirname(os.getcwd()))\n",
    "import typing\n",
    "from typing import Any, Literal, Union, List, Dict\n",
    "\n"
   ]
  },
  {
   "cell_type": "code",
   "execution_count": 2,
   "id": "5877a57e",
   "metadata": {},
   "outputs": [],
   "source": [
    "from omnilearn import hparam, Machine"
   ]
  },
  {
   "cell_type": "code",
   "execution_count": 3,
   "id": "cade0cbb",
   "metadata": {},
   "outputs": [],
   "source": [
    "\n",
    "class A(Machine):\n",
    "    split: Literal['train', 'test', 'val'] = hparam('train')\n",
    "\n",
    "    @hparam()\n",
    "    def y(self) -> Union[int, float]:\n",
    "        return 1\n",
    "\n",
    "class B(A):\n",
    "    x: str = hparam('hello')\n"
   ]
  },
  {
   "cell_type": "code",
   "execution_count": 4,
   "id": "5ba21845",
   "metadata": {},
   "outputs": [
    {
     "name": "stdout",
     "output_type": "stream",
     "text": [
      "WARNING: Value 'something' is not compatible with annotation typing.Literal['train', 'test', 'val'] for split.\n"
     ]
    },
    {
     "data": {
      "text/plain": [
       "B()"
      ]
     },
     "execution_count": 4,
     "metadata": {},
     "output_type": "execute_result"
    }
   ],
   "source": [
    "b = B(split='something')\n",
    "b.stage()"
   ]
  },
  {
   "cell_type": "code",
   "execution_count": 5,
   "id": "341f4bed",
   "metadata": {},
   "outputs": [],
   "source": [
    "from omnibelt import annotation_is_compatible"
   ]
  },
  {
   "cell_type": "code",
   "execution_count": 6,
   "id": "96110eec",
   "metadata": {},
   "outputs": [
    {
     "data": {
      "text/plain": [
       "False"
      ]
     },
     "execution_count": 6,
     "metadata": {},
     "output_type": "execute_result"
    }
   ],
   "source": [
    "annotation_is_compatible('somthing', Literal['train', 'test', 'val'])"
   ]
  },
  {
   "cell_type": "code",
   "execution_count": 5,
   "id": "d3ff2190",
   "metadata": {},
   "outputs": [
    {
     "data": {
      "text/plain": [
       "'hello'"
      ]
     },
     "execution_count": 5,
     "metadata": {},
     "output_type": "execute_result"
    }
   ],
   "source": [
    "b.x"
   ]
  },
  {
   "cell_type": "code",
   "execution_count": 8,
   "id": "49c65c8f",
   "metadata": {},
   "outputs": [
    {
     "data": {
      "text/plain": [
       "{'_gadgets_table': dict[str, list[omniply.core.abstract.AbstractGadget]],\n",
       " '_gadgets_list': list[omniply.core.abstract.AbstractGadget],\n",
       " '_gems': typing.Iterable[str],\n",
       " '_geode_gadgets': dict[str, typing.Tuple[omniply.core.abstract.AbstractGadget, ...]],\n",
       " '_gears_list': list[omniply.gears.abstract.AbstractGear],\n",
       " '_mechanics': omniply.gears.mechanics.Mechanics,\n",
       " 'split': typing.Literal['train', 'test', 'val'],\n",
       " 'x': str}"
      ]
     },
     "execution_count": 8,
     "metadata": {},
     "output_type": "execute_result"
    }
   ],
   "source": [
    "typing.get_type_hints(B)"
   ]
  },
  {
   "cell_type": "code",
   "execution_count": null,
   "id": "4892a793",
   "metadata": {},
   "outputs": [],
   "source": []
  },
  {
   "cell_type": "code",
   "execution_count": 7,
   "id": "4e16329b",
   "metadata": {},
   "outputs": [
    {
     "data": {
      "text/plain": [
       "{'split': 'train', 'x': 'hello'}"
      ]
     },
     "execution_count": 7,
     "metadata": {},
     "output_type": "execute_result"
    }
   ],
   "source": [
    "b.settings()"
   ]
  },
  {
   "cell_type": "code",
   "execution_count": null,
   "id": "536247e9",
   "metadata": {},
   "outputs": [],
   "source": []
  },
  {
   "cell_type": "code",
   "execution_count": null,
   "id": "985aa720",
   "metadata": {},
   "outputs": [],
   "source": [
    "\n",
    "all_annotations = typing.get_type_hints(MNIST)\n",
    "print(f\"All annotations: {all_annotations}\")\n",
    "\n",
    "# 2. Access the specific annotation for 'split' using its name as the key\n",
    "split_annotation = all_annotations['split']\n",
    "print(f\"Annotation for 'split': {split_annotation}\")\n",
    "\n",
    "# You can further inspect the annotation's arguments\n",
    "literal_values = typing.get_args(split_annotation)\n",
    "print(f\"Literal values: {literal_values}\")"
   ]
  },
  {
   "cell_type": "code",
   "execution_count": null,
   "id": "3a642057",
   "metadata": {},
   "outputs": [],
   "source": [
    "origin = typing.get_origin(annotation)\n",
    "\n",
    "# Get the arguments of the annotation (e.g., (int,) for list[int])\n",
    "args = typing.get_args(annotation)"
   ]
  },
  {
   "cell_type": "code",
   "execution_count": null,
   "id": "41217567",
   "metadata": {},
   "outputs": [],
   "source": []
  },
  {
   "cell_type": "code",
   "execution_count": null,
   "id": "498b3915",
   "metadata": {},
   "outputs": [],
   "source": []
  },
  {
   "cell_type": "code",
   "execution_count": null,
   "id": "6feec05c",
   "metadata": {},
   "outputs": [],
   "source": []
  },
  {
   "cell_type": "code",
   "execution_count": null,
   "id": "cd1a9977",
   "metadata": {},
   "outputs": [],
   "source": []
  },
  {
   "cell_type": "code",
   "execution_count": null,
   "id": "001a5251",
   "metadata": {},
   "outputs": [],
   "source": []
  }
 ],
 "metadata": {
  "kernelspec": {
   "display_name": "base",
   "language": "python",
   "name": "python3"
  },
  "language_info": {
   "codemirror_mode": {
    "name": "ipython",
    "version": 3
   },
   "file_extension": ".py",
   "mimetype": "text/x-python",
   "name": "python",
   "nbconvert_exporter": "python",
   "pygments_lexer": "ipython3",
   "version": "3.12.4"
  }
 },
 "nbformat": 4,
 "nbformat_minor": 5
}
